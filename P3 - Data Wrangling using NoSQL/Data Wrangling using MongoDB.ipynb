{
 "cells": [
  {
   "cell_type": "heading",
   "metadata": {
    "collapsed": true
   },
   "level": 1,
   "source": [
    "Wrangling Open Street Map Data using Python and MongoDB"
   ]
  },
  {
   "cell_type": "heading",
   "metadata": {},
   "level": 2,
   "source": [
    "Details of the Area "
   ]
  },
  {
   "cell_type": "markdown",
   "metadata": {},
   "source": [
    "1. Location : A small subsection of New York Central, with Water Bodis\n",
    "2. Motivation :  I have never been to New York, but its the subject of many movies. I wanted to understand the topography, and see it through the eyes of an analyst\n",
    "3. DataSet : ny_extract_osm1.xml [link](link)"
   ]
  },
  {
   "cell_type": "heading",
   "metadata": {},
   "level": 2,
   "source": [
    "Objective"
   ]
  },
  {
   "cell_type": "markdown",
   "metadata": {},
   "source": [
    "You will choose any area of the world in https://www.openstreetmap.org and use data munging techniques, such as assessing the quality of the data for validity, accuracy, completeness, consistency and uniformity, to clean the OpenStreetMap data for a part of the world that you care about. Finally, you will choose either MongoDB or SQL as the data schema to complete your project."
   ]
  },
  {
   "cell_type": "heading",
   "metadata": {},
   "level": 1,
   "source": [
    "Reference :"
   ]
  },
  {
   "cell_type": "markdown",
   "metadata": {},
   "source": [
    "1. Udacity \"Data Wrangling Using Mongo DB\" (Lesson 6)\n",
    "2. Mongo DB Docs "
   ]
  },
  {
   "cell_type": "heading",
   "metadata": {},
   "level": 2,
   "source": [
    "Steps  : "
   ]
  },
  {
   "cell_type": "markdown",
   "metadata": {},
   "source": [
    "1. Data Download\n",
    "2. Data Audit\n",
    "3. Data Cleansing/Problem Resolution\n",
    "4. Load Data into MongoDB and Insights \n",
    "5. Conclusion"
   ]
  },
  {
   "cell_type": "heading",
   "metadata": {},
   "level": 2,
   "source": [
    "Step 1: Data Download"
   ]
  },
  {
   "cell_type": "heading",
   "metadata": {},
   "level": 3,
   "source": [
    "1.1 Extracting using Python "
   ]
  },
  {
   "cell_type": "markdown",
   "metadata": {},
   "source": [
    "I can extract using the Overpass API using the Co-ordinates that are specified in the code below"
   ]
  },
  {
   "cell_type": "code",
   "execution_count": 2,
   "metadata": {},
   "outputs": [],
   "source": [
    "\"\"\"I am doing this using the  Browser, and so have commented out this code\"\"\"\n",
    "import urllib\n",
    "#for the Overpass API Git\n",
    "#file00 = urllib.URLopener()\n",
    "#file00.retrieve(\"http://overpass-api.de/api/map? bbox=77.3901,12.8620,77.7973,13.0815\", \"P3 - Data Wrangling using NoSQL/new-york_new-york.osm/ny_extract_osm.xml\"\""
   ]
  },
  {
   "cell_type": "markdown",
   "metadata": {},
   "source": [
    "I can also download the predefined extract using MapZen, which can be downloaded using a link\n",
    "[https://mapzen.com/data/metro-extracts/metro/bengaluru_india](https://mapzen.com/data/metro-extracts/metro/bengaluru_india/)\n",
    "The downloaded data is available in this project itself"
   ]
  },
  {
   "cell_type": "code",
   "execution_count": 2,
   "metadata": {},
   "outputs": [],
   "source": [
    "#Imports Master\n",
    "\n",
    "import xml.etree.cElementTree as ET\n",
    "import pprint\n",
    "import re\n",
    "import codecs\n",
    "import json\n",
    "import collections\n",
    "import pymongo\n",
    "from pymongo import MongoClient\n",
    "import os"
   ]
  },
  {
   "cell_type": "code",
   "execution_count": 21,
   "metadata": {},
   "outputs": [
    {
     "data": {
      "text/plain": [
       "True"
      ]
     },
     "execution_count": 21,
     "metadata": {},
     "output_type": "execute_result"
    }
   ],
   "source": [
    "#File Master\n",
    "\n",
    "#osm_file = \"P3 - Data Wrangling using NoSQL/bengaluru_india.osm/bengaluru_india.osm\"\n",
    "osm_file = \"P3 - Data Wrangling using NoSQL/new-york_new-york.osm/ny_extract_osm1.xml\"\n",
    "os.path.exists(osm_file)"
   ]
  },
  {
   "cell_type": "code",
   "execution_count": 6,
   "metadata": {},
   "outputs": [
    {
     "name": "stdout",
     "output_type": "stream",
     "text": [
      "The size of the OSM file is 511.26328\n"
     ]
    }
   ],
   "source": [
    "print 'The size of the OSM file is {}'.format(os.path.getsize(osm_file)/1.0e6)"
   ]
  },
  {
   "cell_type": "heading",
   "metadata": {},
   "level": 2,
   "source": [
    "Step 2 : Data Audit"
   ]
  },
  {
   "cell_type": "heading",
   "metadata": {},
   "level": 3,
   "source": [
    "2.1 Count the No of Nodes, Ways, Relations"
   ]
  },
  {
   "cell_type": "code",
   "execution_count": 7,
   "metadata": {},
   "outputs": [
    {
     "name": "stdout",
     "output_type": "stream",
     "text": [
      "P3 - Data Wrangling using NoSQL/new-york_new-york.osm/ny_extract_osm1.xml\n"
     ]
    },
    {
     "data": {
      "text/plain": [
       "{'bounds': 1,\n 'member': 97766,\n 'meta': 1,\n 'nd': 2660357,\n 'node': 1925728,\n 'note': 1,\n 'osm': 1,\n 'relation': 2887,\n 'tag': 1893802,\n 'way': 346018}"
      ]
     },
     "execution_count": 7,
     "metadata": {},
     "output_type": "execute_result"
    }
   ],
   "source": [
    "#Using Lesson 6 Will count the no of tags\n",
    "\n",
    "def count_tags(filename):\n",
    "    tags = {}\n",
    "    print filename\n",
    "    for event,elem in ET.iterparse(filename):\n",
    "        if elem.tag in tags:\n",
    "            tags[elem.tag] += 1\n",
    "        else:\n",
    "            tags[elem.tag] = 1\n",
    "    return tags\n",
    "count_tags(osm_file)"
   ]
  },
  {
   "cell_type": "heading",
   "metadata": {},
   "level": 3,
   "source": [
    "2.2 Create a small sample file, to look at the Output, to Analyse the tags"
   ]
  },
  {
   "cell_type": "code",
   "execution_count": 8,
   "metadata": {},
   "outputs": [
    {
     "name": "stdout",
     "output_type": "stream",
     "text": [
      "<node changeset=\"41015803\" id=\"26769789\" lat=\"40.6995927\" lon=\"-74.1868914\" timestamp=\"2016-07-25T17:17:46Z\" uid=\"326503\" user=\"wambag\" version=\"4\" />\n  \n<node changeset=\"40698552\" id=\"26769792\" lat=\"40.6962016\" lon=\"-74.1779077\" timestamp=\"2016-07-12T22:13:28Z\" uid=\"326503\" user=\"wambag\" version=\"5\" />\n  \n<node changeset=\"41096881\" id=\"26769800\" lat=\"40.6858690\" lon=\"-74.1908483\" timestamp=\"2016-07-28T23:41:20Z\" uid=\"326503\" user=\"wambag\" version=\"5\">\n    <tag k=\"railway\" v=\"switch\" />\n  </node>\n  \n<node changeset=\"41096881\" id=\"26769802\" lat=\"40.6866906\" lon=\"-74.1907921\" timestamp=\"2016-07-28T23:41:20Z\" uid=\"326503\" user=\"wambag\" version=\"5\" />\n  \n<node changeset=\"41024408\" id=\"26769831\" lat=\"40.6919659\" lon=\"-74.1761197\" timestamp=\"2016-07-25T22:35:09Z\" uid=\"326503\" user=\"wambag\" version=\"5\" />\n  \n<node changeset=\"41024408\" id=\"26769832\" lat=\"40.6927831\" lon=\"-74.1759395\" timestamp=\"2016-07-25T22:35:09Z\" uid=\"326503\" user=\"wambag\" version=\"5\" />\n  \n<node changeset=\"41024408\" id=\"26769833\" lat=\"40.6938011\" lon=\"-74.1759406\" timestamp=\"2016-07-25T22:35:09Z\" uid=\"326503\" user=\"wambag\" version=\"6\" />\n  \n<node changeset=\"41015803\" id=\"26769836\" lat=\"40.6942619\" lon=\"-74.1760220\" timestamp=\"2016-07-25T17:22:04Z\" uid=\"326503\" user=\"wambag\" version=\"5\" />\n  \n<node changeset=\"41015803\" id=\"26769838\" lat=\"40.6946440\" lon=\"-74.1761407\" timestamp=\"2016-07-25T17:22:04Z\" uid=\"326503\" user=\"wambag\" version=\"5\" />\n  \n<node changeset=\"40698552\" id=\"26769847\" lat=\"40.6962433\" lon=\"-74.1784615\" timestamp=\"2016-07-12T22:13:28Z\" uid=\"326503\" user=\"wambag\" version=\"5\" />\n  \n<node changeset=\"40698552\" id=\"26769849\" lat=\"40.6962792\" lon=\"-74.1787821\" timestamp=\"2016-07-12T22:13:28Z\" uid=\"326503\" user=\"wambag\" version=\"5\" />\n  \n<node changeset=\"40698552\" id=\"26769850\" lat=\"40.6962705\" lon=\"-74.1794369\" timestamp=\"2016-07-12T22:13:28Z\" uid=\"326503\" user=\"wambag\" version=\"5\" />\n  \n<node changeset=\"40698552\" id=\"26769852\" lat=\"40.6960873\" lon=\"-74.1804804\" timestamp=\"2016-07-12T22:13:28Z\" uid=\"326503\" user=\"wambag\" version=\"5\" />\n  \n<node changeset=\"40698552\" id=\"26769853\" lat=\"40.6962059\" lon=\"-74.1798632\" timestamp=\"2016-07-12T22:13:28Z\" uid=\"326503\" user=\"wambag\" version=\"5\" />\n  \n<node changeset=\"40698552\" id=\"26769856\" lat=\"40.6960862\" lon=\"-74.1806621\" timestamp=\"2016-07-12T22:13:28Z\" uid=\"326503\" user=\"wambag\" version=\"5\" />\n  \n<node changeset=\"40698552\" id=\"26769857\" lat=\"40.6961348\" lon=\"-74.1810169\" timestamp=\"2016-07-12T22:06:08Z\" uid=\"326503\" user=\"wambag\" version=\"5\" />\n  \n<node changeset=\"41015803\" id=\"26769860\" lat=\"40.6993711\" lon=\"-74.1861106\" timestamp=\"2016-07-25T17:17:46Z\" uid=\"326503\" user=\"wambag\" version=\"5\" />\n  \n<node changeset=\"41015803\" id=\"26769861\" lat=\"40.6994505\" lon=\"-74.1862816\" timestamp=\"2016-07-25T17:17:46Z\" uid=\"326503\" user=\"wambag\" version=\"4\" />\n  \n<node changeset=\"41015803\" id=\"26769862\" lat=\"40.6995332\" lon=\"-74.1865309\" timestamp=\"2016-07-25T17:17:46Z\" uid=\"326503\" user=\"wambag\" version=\"4\" />\n  \n<node changeset=\"41015803\" id=\"26769864\" lat=\"40.6995879\" lon=\"-74.1873002\" timestamp=\"2016-07-25T17:17:46Z\" uid=\"326503\" user=\"wambag\" version=\"4\" />\n  \n<node changeset=\"41015803\" id=\"26769865\" lat=\"40.6995123\" lon=\"-74.1877654\" timestamp=\"2016-07-25T17:05:23Z\" uid=\"326503\" user=\"wambag\" version=\"4\" />\n  \n<node changeset=\"41015803\" id=\"26769877\" lat=\"40.7017564\" lon=\"-74.1916035\" timestamp=\"2016-07-25T16:59:29Z\" uid=\"326503\" user=\"wambag\" version=\"4\" />\n  \n<node changeset=\"41024408\" id=\"26769879\" lat=\"40.6932502\" lon=\"-74.1759104\" timestamp=\"2016-07-25T22:35:09Z\" uid=\"326503\" user=\"wambag\" version=\"5\" />\n  \n<node changeset=\"41096881\" id=\"26769884\" lat=\"40.6893637\" lon=\"-74.1894907\" timestamp=\"2016-07-28T23:26:39Z\" uid=\"326503\" user=\"wambag\" version=\"5\" />\n  \n<node changeset=\"6294479\" id=\"28438458\" lat=\"40.6910239\" lon=\"-74.1037491\" timestamp=\"2010-11-05T11:27:46Z\" uid=\"14293\" user=\"KindredCoda\" version=\"4\" />\n  \n<node changeset=\"17199164\" id=\"30979230\" lat=\"40.6932161\" lon=\"-74.0187852\" timestamp=\"2013-08-03T03:17:11Z\" uid=\"632378\" user=\"3yoda\" version=\"3\" />\n  \n<node changeset=\"693806\" id=\"30979232\" lat=\"40.6933323\" lon=\"-74.0167941\" timestamp=\"2008-01-26T00:13:06Z\" uid=\"10927\" user=\"Skywave\" version=\"2\">\n    <tag k=\"created_by\" v=\"JOSM\" />\n  </node>\n  \n<node changeset=\"17199164\" id=\"30979237\" lat=\"40.6928301\" lon=\"-74.0142199\" timestamp=\"2013-08-03T03:17:11Z\" uid=\"632378\" user=\"3yoda\" version=\"3\" />\n  \n<node changeset=\"17199164\" id=\"30979260\" lat=\"40.6913813\" lon=\"-74.0126224\" timestamp=\"2013-08-03T03:17:11Z\" uid=\"632378\" user=\"3yoda\" version=\"3\" />\n  \n<node changeset=\"10096773\" id=\"30979263\" lat=\"40.6911240\" lon=\"-74.0124986\" timestamp=\"2011-12-12T08:58:16Z\" uid=\"338611\" user=\"marek kleciak\" version=\"3\" />\n  \n<node changeset=\"10096773\" id=\"30979279\" lat=\"40.6911187\" lon=\"-74.0122072\" timestamp=\"2011-12-12T08:58:16Z\" uid=\"338611\" user=\"marek kleciak\" version=\"3\" />\n  \n<node changeset=\"10096773\" id=\"30979282\" lat=\"40.6892778\" lon=\"-74.0123105\" timestamp=\"2011-12-12T08:58:16Z\" uid=\"338611\" user=\"marek kleciak\" version=\"3\" />\n  \n<node changeset=\"10096773\" id=\"30979285\" lat=\"40.6881606\" lon=\"-74.0131874\" timestamp=\"2011-12-12T08:58:16Z\" uid=\"338611\" user=\"marek kleciak\" version=\"3\" />\n  \n<node changeset=\"10096773\" id=\"30979288\" lat=\"40.6872643\" lon=\"-74.0148882\" timestamp=\"2011-12-12T08:58:16Z\" uid=\"338611\" user=\"marek kleciak\" version=\"3\" />\n  \n<node changeset=\"10096773\" id=\"30979291\" lat=\"40.6873319\" lon=\"-74.0160436\" timestamp=\"2011-12-12T08:58:16Z\" uid=\"338611\" user=\"marek kleciak\" version=\"3\" />\n  \n<node changeset=\"10096773\" id=\"30979294\" lat=\"40.6842352\" lon=\"-74.0228583\" timestamp=\"2011-12-12T08:58:16Z\" uid=\"338611\" user=\"marek kleciak\" version=\"3\" />\n  \n<node changeset=\"10096773\" id=\"30979297\" lat=\"40.6840570\" lon=\"-74.0233295\" timestamp=\"2011-12-12T08:58:16Z\" uid=\"338611\" user=\"marek kleciak\" version=\"3\" />\n  \n<node changeset=\"10096773\" id=\"30979300\" lat=\"40.6839433\" lon=\"-74.0240305\" timestamp=\"2011-12-12T08:58:16Z\" uid=\"338611\" user=\"marek kleciak\" version=\"4\" />\n  \n<node changeset=\"693806\" id=\"30979303\" lat=\"40.6839628\" lon=\"-74.0245624\" timestamp=\"2008-01-26T00:13:04Z\" uid=\"10927\" user=\"Skywave\" version=\"2\">\n    <tag k=\"created_by\" v=\"JOSM\" />\n  </node>\n  \n<node changeset=\"10096773\" id=\"30979306\" lat=\"40.6841247\" lon=\"-74.0253028\" timestamp=\"2011-12-12T08:40:08Z\" uid=\"338611\" user=\"marek kleciak\" version=\"3\" />\n  \n<node changeset=\"10096773\" id=\"30979309\" lat=\"40.6844463\" lon=\"-74.0259674\" timestamp=\"2011-12-12T08:40:08Z\" uid=\"338611\" user=\"marek kleciak\" version=\"3\" />\n  \n<node changeset=\"10096773\" id=\"30979312\" lat=\"40.6851008\" lon=\"-74.0265071\" timestamp=\"2011-12-12T08:40:08Z\" uid=\"338611\" user=\"marek kleciak\" version=\"3\" />\n  \n<node changeset=\"693806\" id=\"30979315\" lat=\"40.6857517\" lon=\"-74.0266086\" timestamp=\"2008-01-26T00:13:02Z\" uid=\"10927\" user=\"Skywave\" version=\"2\">\n    <tag k=\"created_by\" v=\"JOSM\" />\n  </node>\n  \n<node changeset=\"10096773\" id=\"30979318\" lat=\"40.6863627\" lon=\"-74.0262489\" timestamp=\"2011-12-12T08:40:08Z\" uid=\"338611\" user=\"marek kleciak\" version=\"3\" />\n  \n<node changeset=\"693806\" id=\"30979321\" lat=\"40.6874856\" lon=\"-74.0250448\" timestamp=\"2008-01-26T00:13:03Z\" uid=\"10927\" user=\"Skywave\" version=\"2\">\n    <tag k=\"created_by\" v=\"JOSM\" />\n  </node>\n  \n<node changeset=\"693806\" id=\"30979324\" lat=\"40.6894789\" lon=\"-74.0229377\" timestamp=\"2008-01-26T00:13:03Z\" uid=\"10927\" user=\"Skywave\" version=\"2\">\n    <tag k=\"created_by\" v=\"JOSM\" />\n  </node>\n  \n<node changeset=\"17199164\" id=\"30979327\" lat=\"40.6920237\" lon=\"-74.0202303\" timestamp=\"2013-08-03T03:17:11Z\" uid=\"632378\" user=\"3yoda\" version=\"3\" />\n  \n<node changeset=\"17199164\" id=\"30979329\" lat=\"40.6925622\" lon=\"-74.0200032\" timestamp=\"2013-08-03T03:17:11Z\" uid=\"632378\" user=\"3yoda\" version=\"4\" />\n  \n<node changeset=\"17199164\" id=\"30979333\" lat=\"40.6931376\" lon=\"-74.0197280\" timestamp=\"2013-08-03T03:17:11Z\" uid=\"632378\" user=\"3yoda\" version=\"3\" />\n  \n<node changeset=\"17199164\" id=\"30979335\" lat=\"40.6932313\" lon=\"-74.0194380\" timestamp=\"2013-08-03T03:17:11Z\" uid=\"632378\" user=\"3yoda\" version=\"3\" />\n  \n<node changeset=\"17199164\" id=\"30979337\" lat=\"40.6932325\" lon=\"-74.0192680\" timestamp=\"2013-08-03T03:17:11Z\" uid=\"632378\" user=\"3yoda\" version=\"4\" />\n  \n<node changeset=\"10097024\" id=\"30979375\" lat=\"40.6911278\" lon=\"-74.0461509\" timestamp=\"2011-12-12T09:10:14Z\" uid=\"338611\" user=\"marek kleciak\" version=\"6\" />\n  \n<node changeset=\"10097024\" id=\"30979377\" lat=\"40.6911155\" lon=\"-74.0460153\" timestamp=\"2011-12-12T09:10:15Z\" uid=\"338611\" user=\"marek kleciak\" version=\"5\" />\n  \n<node changeset=\"10097024\" id=\"30979379\" lat=\"40.6905625\" lon=\"-74.0445961\" timestamp=\"2011-12-12T09:10:15Z\" uid=\"338611\" user=\"marek kleciak\" version=\"5\" />\n  \n<node changeset=\"10097024\" id=\"30979381\" lat=\"40.6901864\" lon=\"-74.0438883\" timestamp=\"2011-12-12T09:10:15Z\" uid=\"338611\" user=\"marek kleciak\" version=\"6\" />\n  \n<node changeset=\"43575424\" id=\"30979383\" lat=\"40.6896889\" lon=\"-74.0435022\" timestamp=\"2016-11-12T06:02:44Z\" uid=\"1654708\" user=\"osm-contributor\" version=\"7\" />\n  \n<node changeset=\"43575424\" id=\"30979388\" lat=\"40.6900351\" lon=\"-74.0427396\" timestamp=\"2016-11-12T06:02:44Z\" uid=\"1654708\" user=\"osm-contributor\" version=\"7\" />\n  \n<node changeset=\"43575424\" id=\"30979390\" lat=\"40.6901074\" lon=\"-74.0427967\" timestamp=\"2016-11-12T06:02:44Z\" uid=\"1654708\" user=\"osm-contributor\" version=\"6\" />\n  \n<node changeset=\"43575424\" id=\"30979393\" lat=\"40.6901449\" lon=\"-74.0427140\" timestamp=\"2016-11-12T06:02:44Z\" uid=\"1654708\" user=\"osm-contributor\" version=\"6\" />\n  \n<node changeset=\"43575424\" id=\"30979396\" lat=\"40.6899572\" lon=\"-74.0425658\" timestamp=\"2016-11-12T06:02:44Z\" uid=\"1654708\" user=\"osm-contributor\" version=\"7\" />\n  \n<node changeset=\"43575424\" id=\"30979399\" lat=\"40.6899171\" lon=\"-74.0426539\" timestamp=\"2016-11-12T06:02:44Z\" uid=\"1654708\" user=\"osm-contributor\" version=\"6\" />\n  \n<node changeset=\"43575424\" id=\"30979402\" lat=\"40.6899867\" lon=\"-74.0427089\" timestamp=\"2016-11-12T06:02:44Z\" uid=\"1654708\" user=\"osm-contributor\" version=\"6\" />\n  \n<node changeset=\"43575424\" id=\"30979404\" lat=\"40.6896429\" lon=\"-74.0434659\" timestamp=\"2016-11-12T06:02:44Z\" uid=\"1654708\" user=\"osm-contributor\" version=\"8\" />\n  \n<node changeset=\"10097024\" id=\"30979407\" lat=\"40.6892163\" lon=\"-74.0435052\" timestamp=\"2011-12-12T09:10:16Z\" uid=\"338611\" user=\"marek kleciak\" version=\"6\" />\n  \n<node changeset=\"10097024\" id=\"30979410\" lat=\"40.6887735\" lon=\"-74.0436340\" timestamp=\"2011-12-12T09:10:16Z\" uid=\"338611\" user=\"marek kleciak\" version=\"6\" />\n  \n<node changeset=\"19328300\" id=\"30979413\" lat=\"40.6885854\" lon=\"-74.0439816\" timestamp=\"2013-12-07T19:37:18Z\" uid=\"462898\" user=\"alexanderW\" version=\"7\" />\n  \n<node changeset=\"19328300\" id=\"30979417\" lat=\"40.6885211\" lon=\"-74.0443828\" timestamp=\"2013-12-07T19:37:18Z\" uid=\"462898\" user=\"alexanderW\" version=\"7\" />\n  \n<node changeset=\"10097024\" id=\"30979420\" lat=\"40.6885960\" lon=\"-74.0447714\" timestamp=\"2011-12-12T09:10:16Z\" uid=\"338611\" user=\"marek kleciak\" version=\"6\" />\n  \n<node changeset=\"10097024\" id=\"30979423\" lat=\"40.6888624\" lon=\"-74.0452979\" timestamp=\"2011-12-12T09:10:16Z\" uid=\"338611\" user=\"marek kleciak\" version=\"6\" />\n  \n<node changeset=\"365108\" id=\"30979425\" lat=\"40.6893265\" lon=\"-74.0462568\" timestamp=\"2009-04-09T23:18:41Z\" uid=\"48010\" user=\"partim\" version=\"5\" />\n  \n<node changeset=\"365108\" id=\"30979428\" lat=\"40.6899513\" lon=\"-74.0467889\" timestamp=\"2009-04-09T23:18:41Z\" uid=\"48010\" user=\"partim\" version=\"5\" />\n  \n<node changeset=\"365108\" id=\"30979431\" lat=\"40.6896173\" lon=\"-74.0474676\" timestamp=\"2009-04-09T23:18:41Z\" uid=\"48010\" user=\"partim\" version=\"4\" />\n  \n<node changeset=\"365108\" id=\"30979435\" lat=\"40.6899188\" lon=\"-74.0477159\" timestamp=\"2009-04-09T23:18:41Z\" uid=\"48010\" user=\"partim\" version=\"5\" />\n  \n<node changeset=\"365108\" id=\"30979438\" lat=\"40.6899838\" lon=\"-74.0475785\" timestamp=\"2009-04-09T23:18:41Z\" uid=\"48010\" user=\"partim\" version=\"5\" />\n  \n<node changeset=\"365108\" id=\"30979440\" lat=\"40.6897886\" lon=\"-74.0474069\" timestamp=\"2009-04-09T23:18:41Z\" uid=\"48010\" user=\"partim\" version=\"5\" />\n  \n<node changeset=\"10097024\" id=\"30979443\" lat=\"40.6900489\" lon=\"-74.0468788\" timestamp=\"2011-12-12T09:10:16Z\" uid=\"338611\" user=\"marek kleciak\" version=\"7\" />\n  \n<node changeset=\"10097024\" id=\"30979445\" lat=\"40.6904289\" lon=\"-74.0472022\" timestamp=\"2011-12-12T09:10:16Z\" uid=\"338611\" user=\"marek kleciak\" version=\"7\" />\n  \n<node changeset=\"8078616\" id=\"30979448\" lat=\"40.6905046\" lon=\"-74.0470463\" timestamp=\"2011-05-08T02:48:28Z\" uid=\"35195\" user=\"will l\" version=\"6\" />\n  \n<node changeset=\"8078616\" id=\"30979450\" lat=\"40.6906187\" lon=\"-74.0470675\" timestamp=\"2011-05-08T02:48:28Z\" uid=\"35195\" user=\"will l\" version=\"6\" />\n  \n<node changeset=\"10097024\" id=\"30979456\" lat=\"40.6908312\" lon=\"-74.0472208\" timestamp=\"2011-12-12T09:10:16Z\" uid=\"338611\" user=\"marek kleciak\" version=\"6\" />\n  \n<node changeset=\"10097024\" id=\"30979459\" lat=\"40.6908614\" lon=\"-74.0472251\" timestamp=\"2011-12-12T09:10:16Z\" uid=\"338611\" user=\"marek kleciak\" version=\"5\" />\n  \n<node changeset=\"10097024\" id=\"30979461\" lat=\"40.6909342\" lon=\"-74.0472090\" timestamp=\"2011-12-12T09:10:17Z\" uid=\"338611\" user=\"marek kleciak\" version=\"5\" />\n  \n<node changeset=\"10097024\" id=\"30979463\" lat=\"40.6909941\" lon=\"-74.0471550\" timestamp=\"2011-12-12T09:10:17Z\" uid=\"338611\" user=\"marek kleciak\" version=\"5\" />\n  \n<node changeset=\"10097024\" id=\"30979466\" lat=\"40.6910334\" lon=\"-74.0470748\" timestamp=\"2011-12-12T09:10:17Z\" uid=\"338611\" user=\"marek kleciak\" version=\"6\" />\n  \n<node changeset=\"10097024\" id=\"30979497\" lat=\"40.6910503\" lon=\"-74.0469450\" timestamp=\"2011-12-12T09:10:17Z\" uid=\"338611\" user=\"marek kleciak\" version=\"6\" />\n  \n<node changeset=\"10097024\" id=\"30979500\" lat=\"40.6910939\" lon=\"-74.0461826\" timestamp=\"2011-12-12T09:10:17Z\" uid=\"338611\" user=\"marek kleciak\" version=\"7\" />\n  \n<node changeset=\"10872619\" id=\"33583379\" lat=\"40.7046387\" lon=\"-74.0167729\" timestamp=\"2012-03-04T19:09:47Z\" uid=\"91056\" user=\"Yarl\" version=\"2\" />\n  \n<node changeset=\"10872619\" id=\"33583380\" lat=\"40.7043190\" lon=\"-74.0169423\" timestamp=\"2012-03-04T19:09:47Z\" uid=\"91056\" user=\"Yarl\" version=\"2\" />\n  \n<node changeset=\"10872619\" id=\"33583381\" lat=\"40.7042092\" lon=\"-74.0170815\" timestamp=\"2012-03-04T19:09:47Z\" uid=\"91056\" user=\"Yarl\" version=\"2\" />\n  \n<node changeset=\"10872619\" id=\"33583382\" lat=\"40.7041424\" lon=\"-74.0173541\" timestamp=\"2012-03-04T19:09:47Z\" uid=\"91056\" user=\"Yarl\" version=\"2\" />\n  \n<node changeset=\"10872619\" id=\"33583383\" lat=\"40.7040176\" lon=\"-74.0174928\" timestamp=\"2012-03-04T19:09:47Z\" uid=\"91056\" user=\"Yarl\" version=\"2\" />\n  \n<node changeset=\"10872619\" id=\"33583384\" lat=\"40.7039102\" lon=\"-74.0175219\" timestamp=\"2012-03-04T19:09:48Z\" uid=\"91056\" user=\"Yarl\" version=\"2\" />\n  \n<node changeset=\"15537151\" id=\"33583385\" lat=\"40.7036158\" lon=\"-74.0172181\" timestamp=\"2013-03-29T11:43:00Z\" uid=\"392361\" user=\"Aschilli\" version=\"3\" />\n  \n<node changeset=\"10872619\" id=\"33583386\" lat=\"40.7029621\" lon=\"-74.0171484\" timestamp=\"2012-03-04T19:09:48Z\" uid=\"91056\" user=\"Yarl\" version=\"2\" />\n  \n<node changeset=\"10872619\" id=\"33583387\" lat=\"40.7017965\" lon=\"-74.0160801\" timestamp=\"2012-03-04T19:09:48Z\" uid=\"91056\" user=\"Yarl\" version=\"2\" />\n  \n<node changeset=\"10872619\" id=\"33583388\" lat=\"40.7014579\" lon=\"-74.0156543\" timestamp=\"2012-03-04T19:09:48Z\" uid=\"91056\" user=\"Yarl\" version=\"2\" />\n  \n<node changeset=\"15538544\" id=\"33583389\" lat=\"40.7016217\" lon=\"-74.0150909\" timestamp=\"2013-03-29T13:39:59Z\" uid=\"392361\" user=\"Aschilli\" version=\"3\" />\n  \n<node changeset=\"10872619\" id=\"33583390\" lat=\"40.7013321\" lon=\"-74.0144121\" timestamp=\"2012-03-04T19:09:48Z\" uid=\"91056\" user=\"Yarl\" version=\"2\" />\n  \n<node changeset=\"10872619\" id=\"33583391\" lat=\"40.7012956\" lon=\"-74.0142092\" timestamp=\"2012-03-04T19:09:48Z\" uid=\"91056\" user=\"Yarl\" version=\"2\" />\n  \n<node changeset=\"10872619\" id=\"33583392\" lat=\"40.7014143\" lon=\"-74.0140345\" timestamp=\"2012-03-04T19:09:48Z\" uid=\"91056\" user=\"Yarl\" version=\"2\" />\n  \n<node changeset=\"10872619\" id=\"33583393\" lat=\"40.7022610\" lon=\"-74.0140596\" timestamp=\"2012-03-04T19:09:48Z\" uid=\"91056\" user=\"Yarl\" version=\"2\" />\n  \n"
     ]
    }
   ],
   "source": [
    "#Print a sample of the OSM File\n",
    "#Code sample based on Quiz of Data Wrangling using MongoDB\n",
    "\n",
    "# Print a sample of the file. Here I am printing the first 100 elements\n",
    "\n",
    "OSM_FILE = osm_file  # Replace this with your osm file\n",
    "SAMPLE_FILE = \"sample.osm\"\n",
    "\n",
    "k = 100 # Parameter: print the first k elements (or every kth element)\n",
    "\n",
    "def get_element(osm_file, tags=('node', 'way', 'relation')):\n",
    "    \"\"\"Yield element if it is the right type of tag\n",
    "\n",
    "    Reference:\n",
    "    http://stackoverflow.com/questions/3095434/inserting-newlines-in-xml-file-generated-via-xml-etree-elementtree-in-python\n",
    "    \"\"\"\n",
    "    context = iter(ET.iterparse(osm_file, events=('start', 'end')))\n",
    "    _, root = next(context)\n",
    "    for event, elem in context:\n",
    "        if event == 'end' and elem.tag in tags:\n",
    "            yield elem\n",
    "            root.clear()\n",
    "\n",
    "\n",
    "# print the first  k top level elements\n",
    "for i, element in enumerate(get_element(OSM_FILE)):\n",
    "    if i <= k:\n",
    "        print ET.tostring(element)\n",
    "'''\n",
    "# or print every  kth top level elements\n",
    "for i, element in enumerate(get_element(OSM_FILE)):\n",
    "    if i % k == 0:\n",
    "        print ET.tostring(element)\n",
    "'''\n",
    "# Also writing the sample file to view it in Sublime text\n",
    "with open(SAMPLE_FILE, 'wb') as output:\n",
    "    output.write('<?xml version=\"1.0\" encoding=\"UTF-8\"?>\\n')\n",
    "    output.write('<osm>\\n  ')\n",
    "\n",
    "    # Write every kth top level element\n",
    "    for i, element in enumerate(get_element(OSM_FILE)):\n",
    "        if i % k == 0:\n",
    "            output.write(ET.tostring(element, encoding='utf-8'))\n",
    "\n",
    "    output.write('</osm>')"
   ]
  },
  {
   "cell_type": "heading",
   "metadata": {},
   "level": 3,
   "source": [
    "2.3 Getting any Problem Chars in K, V pairs"
   ]
  },
  {
   "cell_type": "markdown",
   "metadata": {},
   "source": [
    "We will iterate over all the data, and for any K, V we will check if the value has only lower, or lower with a : or any other characters. This will help us determine if any data cleansing is required for this data\n",
    "\n",
    "We will take a count of this, which we will display below"
   ]
  },
  {
   "cell_type": "markdown",
   "metadata": {},
   "source": [
    "import re\n",
    "\n",
    "lower = re.compile(r'^([a-z]|_)*$')\n",
    "lower_colon = re.compile(r'^([a-z]|_)*:([a-z]|_)*$')\n",
    "problemchars = re.compile(r'[=\\+/&<>;\\'\"\\?%#$@\\,\\. \\t\\r\\n]')\n",
    "\n",
    "def key_type(element, keys):\n",
    "    if element.tag == 'tag':\n",
    "        for val in element.iter('tag'):\n",
    "            k = element.get('k')\n",
    "            #search for the \"lower\"\n",
    "            if lower.search(k):\n",
    "                keys['lower'] += 1\n",
    "            elif lower_colon.search(k):\n",
    "                keys['lower_colon'] += 1\n",
    "            elif problemchars.search(k):\n",
    "                keys['problemchars'] += 1\n",
    "            else:\n",
    "                keys['other'] += 1\n",
    "    return keys\n",
    "\n",
    "def process_map(filename):\n",
    "    keys = {\"lower\": 0, \"lower_colon\": 0, \"problemchars\": 0, \"other\": 0}\n",
    "    for _, element in ET.iterparse(filename):\n",
    "        keys = key_type(element, keys)\n",
    "\n",
    "    return keys"
   ]
  },
  {
   "cell_type": "code",
   "execution_count": 9,
   "metadata": {},
   "outputs": [],
   "source": [
    "import re\n",
    "\n",
    "lower = re.compile(r'^([a-z]|_)*$')\n",
    "lower_colon = re.compile(r'^([a-z]|_)*:([a-z]|_)*$')\n",
    "problemchars = re.compile(r'[=\\+/&<>;\\'\"\\?%#$@\\,\\. \\t\\r\\n]')\n",
    "\n",
    "def key_type(element, keys):\n",
    "    if element.tag == 'tag':\n",
    "        for val in element.iter('tag'):\n",
    "            k = element.get('k')\n",
    "            #search for the \"lower\"\n",
    "            if lower.search(k):\n",
    "                keys['lower'] += 1\n",
    "            elif lower_colon.search(k):\n",
    "                keys['lower_colon'] += 1\n",
    "            elif problemchars.search(k):\n",
    "                keys['problemchars'] += 1\n",
    "            else:\n",
    "                keys['other'] += 1\n",
    "    return keys\n",
    "\n",
    "def process_map(filename):\n",
    "    keys = {\"lower\": 0, \"lower_colon\": 0, \"problemchars\": 0, \"other\": 0}\n",
    "    for _, element in ET.iterparse(filename):\n",
    "        keys = key_type(element, keys)\n",
    "\n",
    "    return keys"
   ]
  },
  {
   "cell_type": "code",
   "execution_count": 10,
   "metadata": {},
   "outputs": [
    {
     "name": "stdout",
     "output_type": "stream",
     "text": [
      "{'lower': 764249,\n 'lower_colon': 1100117,\n 'other': 12111,\n 'problemchars': 17325}\n"
     ]
    }
   ],
   "source": [
    "sc_tag_category = process_map(osm_file)\n",
    "pprint.pprint(sc_tag_category)"
   ]
  },
  {
   "cell_type": "heading",
   "metadata": {},
   "level": 3,
   "source": [
    "2.4 Count of Users"
   ]
  },
  {
   "cell_type": "markdown",
   "metadata": {},
   "source": [
    "We will get a count of the users, who have updated. This will give us an idea, of how active this section is, and how much variation we can expect on the data."
   ]
  },
  {
   "cell_type": "code",
   "execution_count": 11,
   "metadata": {},
   "outputs": [
    {
     "data": {
      "text/plain": [
       "2174"
      ]
     },
     "execution_count": 11,
     "metadata": {},
     "output_type": "execute_result"
    }
   ],
   "source": [
    "# this function will tell us how many unique users have already contributed to the map data\n",
    "\n",
    "def get_user(element):\n",
    "    if element.get('uid'):\n",
    "        uid = element.attrib['uid']\n",
    "        return uid\n",
    "    else:\n",
    "        return None\n",
    "    \n",
    "    \n",
    "\n",
    "def process_map(filename):\n",
    "    users = set()\n",
    "    for _, element in ET.iterparse(filename):\n",
    "        if get_user(element):\n",
    "            users.add(get_user(element))\n",
    "\n",
    "    return users\n",
    "\n",
    "contributing_users = process_map(osm_file)\n",
    "len(contributing_users)"
   ]
  },
  {
   "cell_type": "markdown",
   "metadata": {},
   "source": [
    "So 2174 users have contributed to the map data. This is a good number to start."
   ]
  },
  {
   "cell_type": "heading",
   "metadata": {},
   "level": 2,
   "source": [
    "Step 3: Data Cleansing"
   ]
  },
  {
   "cell_type": "heading",
   "metadata": {},
   "level": 3,
   "source": [
    "3.1 Eliminating Variation in Street Names\n",
    "\n"
   ]
  },
  {
   "cell_type": "markdown",
   "metadata": {},
   "source": [
    "This is local data set, from the Asia Region. So the standard correction algorithm will not work. First we will find the various street names, based on this we will decide the approach to eliminate variation."
   ]
  },
  {
   "cell_type": "code",
   "execution_count": 16,
   "metadata": {
    "collapsed": false
   },
   "outputs": [
    {
     "data": {
      "text/plain": [
       "['Heights',\n 'Rd',\n 'Turnpike',\n 'avenue',\n 'M204',\n 'Southwest',\n 'Mews',\n '27th',\n 'Landing',\n 'Willoughby',\n '403',\n '400',\n 'D',\n '2R',\n 'Level',\n 'H',\n 'L',\n 'P',\n '2N',\n 'Piers',\n 'Finest',\n 'Alley',\n 'bus_stop',\n 'Broadway',\n 'Warren',\n '29th',\n 'West',\n 'Rico',\n 'street',\n 'M1',\n 'E',\n 'Circle',\n 'East',\n 'Unidos',\n 'Park',\n 'Plz',\n 'Remsen',\n '3',\n 'Yards',\n '301',\n 'C',\n 'Ave.',\n 'Extension',\n '42nd',\n 'K',\n 'Plaza',\n '306',\n 'Oval',\n 'Mall',\n 'Place',\n '11217',\n 'Loop',\n 'Streeet',\n 'Bushwick',\n 'Highline',\n 'Square',\n 'Clinton',\n 'S',\n 'N',\n 'Floor)',\n 'Row',\n 'Boulevard',\n 'St.',\n 'Way',\n '1st',\n '4CF',\n 'North',\n 'Macdougal',\n 'Vanderbilt',\n 'NY',\n 'Brooklyn',\n 'Fulton',\n 'Walkway',\n '506',\n '507',\n '500',\n 'Roadbed',\n '1807',\n 'Lane',\n 'B',\n 'Center',\n 'F',\n 'NJ)',\n 'J',\n '900',\n 'St',\n 'Steet',\n 'Parkway',\n 'Road',\n '861',\n 'Esplanade',\n 'Walk',\n 'Atrium',\n 'Ave',\n 'Avenue',\n 'Court',\n 'USA',\n 'Floor',\n '1204',\n 'Hudson',\n '800a',\n 'Terminal',\n '633',\n 'ave',\n 'Highway',\n 'Track',\n 'Bowery',\n '1',\n 'Broadway.',\n 'Island',\n 'A',\n '205',\n 'Ctr',\n 'I',\n 'M',\n 'Drive',\n 'Commons',\n 'Lafayette',\n 'Americas',\n '4B',\n 'Gardens',\n 'South',\n 'Avene',\n 'Gratta',\n '1801',\n '2E',\n 'ST',\n 'st',\n 'Street',\n 'Terrace',\n 'Slip',\n 'Village',\n 'Blvd',\n 'MetroTech']"
      ]
     },
     "execution_count": 16,
     "metadata": {},
     "output_type": "execute_result"
    }
   ],
   "source": [
    "from collections import defaultdict\n",
    "street_type_re = re.compile(r'\\b\\S+\\.?$', re.IGNORECASE)\n",
    "street_types = {}\n",
    "\n",
    "def is_street_name(elem):\n",
    "    return (elem.attrib['k'] == \"addr:street\")\n",
    "\n",
    "def get_street_names(osmfile):\n",
    "    osm_file = open(osmfile, \"r\")\n",
    "    street_types = defaultdict(set)\n",
    "    for event, elem in ET.iterparse(osm_file, events=(\"start\",)):\n",
    "\n",
    "        if elem.tag == \"node\" or elem.tag == \"way\":\n",
    "            for tag in elem.iter(\"tag\"):\n",
    "                if is_street_name(tag):\n",
    "                    value = tag.attrib['v']\n",
    "                    m = street_type_re.search(value)\n",
    "                    if m:\n",
    "                        street_type = m.group()\n",
    "                        street_types[street_type].add(value)\n",
    "                        \n",
    "\n",
    "    return street_types\n",
    "\n",
    "street_types = get_street_names(osm_file)\n",
    "street_types.keys()"
   ]
  },
  {
   "cell_type": "markdown",
   "metadata": {},
   "source": [
    "We can now define a prelimnary mapping file. Do note that, there are a number of non standard names in the street names list. These will not be corrected, but the mapping file will work for all the standard names, where there are variations"
   ]
  },
  {
   "cell_type": "code",
   "execution_count": 14,
   "metadata": {},
   "outputs": [],
   "source": [
    "mapping = {'Ave'  : 'Avenue',\n",
    "           'ave'  : 'Avenue',\n",
    "           'Blvd' : 'Boulevard',\n",
    "           'Dr'   : 'Drive',\n",
    "           'Ln'   : 'Lane',\n",
    "           'Pkwy' : 'Parkway',\n",
    "           'Rd'   : 'Road',\n",
    "           'Rd.'   : 'Road',\n",
    "           'St'   : 'Street',\n",
    "           'ST'   : 'Street',\n",
    "           'street' :\"Street\",\n",
    "           'Ct'   : \"Court\",\n",
    "           'Cir'  : \"Circle\",\n",
    "           'Cr'   : \"Court\",\n",
    "           'ave'  : 'Avenue',\n",
    "           'Hwg'  : 'Highway',\n",
    "           'Hwy'  : 'Highway',\n",
    "           'Sq'   : \"Square\"}"
   ]
  },
  {
   "cell_type": "code",
   "execution_count": 20,
   "metadata": {},
   "outputs": [
    {
     "name": "stdout",
     "output_type": "stream",
     "text": [
      "**************************MODIFIED STREET NAMES**************************\nColumbia Heights => Columbia Heights\nAlbemarle Rd => Albemarle Road\n43rd Rd => 43rd Road\nNewark Turnpike => Newark Turnpike\nseventh avenue => seventh avenue\nBedford avenue => Bedford avenue\n2nd avenue => 2nd avenue\nUtica avenue => Utica avenue\n3rd Ave #M204 => 3rd Ave #M204\nProspect Park Southwest => Prospect Park Southwest\nGreenwich Mews => Greenwich Mews\nWashington Mews => Washington Mews\nW 27th => W 27th\nBay Street Landing => Bay Street Landing\nWilloughby => Willoughby\nEast 25th Street  #403 => East 25th Street  #403\nEast 25th Street Ste 400 => East 25th Street Ste 400\nAvenue D => Avenue D\n408 West 22nd Street #2R => 408 West 22nd Street #2R\nMadison Ave Arcage Level => Madison Ave Arcage Level\nAvenue H => Avenue H\nAvenue L => Avenue L\nAvenue P => Avenue P\n400th West 20th St., Suite 2N => 400th West 20th St., Suite 2N\nNorthside Piers => Northside Piers\nAvenue Of The Finest => Avenue Of The Finest\nExchange Alley => Exchange Alley\nCortlandt Alley => Cortlandt Alley\nMac Dougal Alley => Mac Dougal Alley\nGrace Court Alley => Grace Court Alley\nFreeman Alley => Freeman Alley\nBroadway Alley => Broadway Alley\nHarrison Alley => Harrison Alley\nTheater Alley => Theater Alley\nbus_stop => bus_stop\nBroadway => Broadway\nWest Broadway => West Broadway\nW. Broadway => W. Broadway\nEast Broadway => East Broadway\nWarren => Warren\n29th => 29th\nUnion Square West => Union Square West\nFdr Drive Service Road West => Fdr Drive Service Road West\nWilliamsburg Street West => Williamsburg Street West\nWashington Square West => Washington Square West\nProspect Park West => Prospect Park West\nWillow Road West => Willow Road West\nGouverneur Slip West => Gouverneur Slip West\nCadman Plaza West => Cadman Plaza West\nGramercy Park West => Gramercy Park West\nPlaza St West => Plaza St West\nAvenue Of Puerto Rico => Avenue Of Puerto Rico\nSteinway street => Steinway Street\n5th street => 5th Street\nUnion street => Union Street\nColumbia street => Columbia Street\nRivington street => Rivington Street\nLafayette street => Lafayette Street\nHudson street => Hudson Street\nMulberry street => Mulberry Street\nMott street => Mott Street\nEast 5th street => East 5th Street\nWest 51st street => West 51st Street\nW. 44th street => W. 44th Street\n7th Ave #M1 => 7th Ave #M1\n29th Street at Avenue E => 29th Street at Avenue E\nTompkins Circle => Tompkins Circle\nHoward Circle => Howard Circle\nFort Hill Circle => Fort Hill Circle\nGouverneur Slip East => Gouverneur Slip East\nGramercy Park East => Gramercy Park East\nJohn F. Kennedy Boulevard East => John F. Kennedy Boulevard East\nAnthony J Falco Square East => Anthony J Falco Square East\nUnion Square East => Union Square East\nWilliamsburg Street East => Williamsburg Street East\nPlaza Street East => Plaza Street East\nWashington Square East => Washington Square East\nWillow Road East => Willow Road East\nCadman Plaza East => Cadman Plaza East\nFdr Drive Service Road East => Fdr Drive Service Road East\n519 9th Ave, New York, NY 10018, Estados Unidos => 519 9th Ave, New York, NY 10018, Estados Unidos\nFort Hill Park => Fort Hill Park\nWashington Park => Washington Park\nFDR Four Freedoms Park => FDR Four Freedoms Park\nGramercy Park => Gramercy Park\nUniversity Plz => University Plz\nRemsen => Remsen\n16th Street # 3 => 16th Street # 3\nHanover Square #3 => Hanover Square #3\nIrving Place #3 => Irving Place #3\nHudson Yards => Hudson Yards\nE 55th St Ste. 301 => E 55th St Ste. 301\n2nd Street #C => 2nd Street #C\nAvenue C => Avenue C\nWashington Ave. => Washington Ave.\nFlatbush Avenue Extension => Flatbush Avenue Extension\nEastern Parkway Extension => Eastern Parkway Extension\nWest 42nd => West 42nd\nAvenue K => Avenue K\nMadison Square Plaza => Madison Square Plaza\nUN Plaza => UN Plaza\nChase Manhattan Plaza => Chase Manhattan Plaza\nBattery Park Plaza => Battery Park Plaza\nAmerican Express Plaza => American Express Plaza\nPenn Plaza => Penn Plaza\nPace Plaza => Pace Plaza\nJournal Square Plaza => Journal Square Plaza\nMarine View Plaza => Marine View Plaza\nExchange Plaza => Exchange Plaza\nFederal Reserve Plaza => Federal Reserve Plaza\nDag Hammarskjold Plaza => Dag Hammarskjold Plaza\nConfucius Plaza => Confucius Plaza\nHanover Plaza => Hanover Plaza\nAstor Plaza => Astor Plaza\nPark Plaza => Park Plaza\nRockefeler Plaza => Rockefeler Plaza\nSaint Andrews Plaza => Saint Andrews Plaza\nPark Avenue Plaza => Park Avenue Plaza\nSamuel Dickstein Plaza => Samuel Dickstein Plaza\nNewkirk Plaza => Newkirk Plaza\nWaterside Plaza => Waterside Plaza\nHaven Plaza => Haven Plaza\nFederal Plaza => Federal Plaza\nWestern Union Plaza => Western Union Plaza\nWorldwide Plaza => Worldwide Plaza\n4 Pennsylvania Plaza => 4 Pennsylvania Plaza\nSeaport Plaza => Seaport Plaza\nWall Street Plaza => Wall Street Plaza\nRockefeller Plaza => Rockefeller Plaza\nLiberty Plaza => Liberty Plaza\nUnited Nations Plaza => United Nations Plaza\nPolice Plaza => Police Plaza\nState Street Plaza => State Street Plaza\nNew York Plaza => New York Plaza\nWest 30th Street Suite 306 => West 30th Street Suite 306\nGrand Army Plaza Oval => Grand Army Plaza Oval\nStuyvesant Oval => Stuyvesant Oval\nCentre Mall => Centre Mall\nBalfour Place => Balfour Place\nTrumbull Place => Trumbull Place\nEaton Place => Eaton Place\nAlbion Place => Albion Place\nStuyvesant Place => Stuyvesant Place\nNutley Place => Nutley Place\nSaint John's Place => Saint John's Place\nBaughman Place => Baughman Place\nShaw Place => Shaw Place\nWashington Place => Washington Place\nCleveland Place => Cleveland Place\nHarrison Place => Harrison Place\nRokeby Place => Rokeby Place\nHubbard Place => Hubbard Place\nDenton Place => Denton Place\nJackson Place => Jackson Place\nOverbaugh Place => Overbaugh Place\nVeronica Place => Veronica Place\nRiver Place => River Place\nLlewellyn Place => Llewellyn Place\nPark Place => Park Place\nFord Place => Ford Place\nSedgwick Place => Sedgwick Place\nSaint Julian Place => Saint Julian Place\nEast Cheshire Place => East Cheshire Place\nCowen Place => Cowen Place\nKane Place => Kane Place\nDisosway Place => Disosway Place\nSumner Place => Sumner Place\nAustell Place => Austell Place\n3rd Place => 3rd Place\nFleet Place => Fleet Place\nPierrepont Place => Pierrepont Place\nSamuel Place => Samuel Place\nClifford Place => Clifford Place\nSholom Aleichem Place => Sholom Aleichem Place\nCottage Place => Cottage Place\nSlocum Place => Slocum Place\nSpencer Place => Spencer Place\nArion Place => Arion Place\nJuliana Place => Juliana Place\nBay Ridge Place => Bay Ridge Place\nLott Place => Lott Place\nCentre Market Place => Centre Market Place\nJohnson Place => Johnson Place\nBaker Place => Baker Place\nGordon Place => Gordon Place\nTrimble Place => Trimble Place\nGlenwood Place => Glenwood Place\nWythe Place => Wythe Place\nNew York Place => New York Place\nPolhemus Place => Polhemus Place\nBergen Place => Bergen Place\nLynnhaven Place => Lynnhaven Place\nDelmonico Place => Delmonico Place\nColumbus Place => Columbus Place\nKingsway Place => Kingsway Place\nNathan D. Perlman Place => Nathan D. Perlman Place\nLois Place => Lois Place\nAmersfort Place => Amersfort Place\nDe Ruyter Place => De Ruyter Place\nHanson Place => Hanson Place\nMurray Place => Murray Place\nCharles Place => Charles Place\nBorough Place => Borough Place\nCassidy Place => Cassidy Place\nCarroll Place => Carroll Place\n31st Place => 31st Place\nLewis Place => Lewis Place\nAcademy Place => Academy Place\nArcadia Place => Arcadia Place\nParkview Place => Parkview Place\nPutnam Place => Putnam Place\nCrittenden Place => Crittenden Place\nKramer Place => Kramer Place\nEleanor Place => Eleanor Place\nPhelps Place => Phelps Place\nHooker Place => Hooker Place\nLefferts Place => Lefferts Place\nButler Place => Butler Place\nPearson Place => Pearson Place\nLyon Place => Lyon Place\nOhio Place => Ohio Place\nGoodwin Place => Goodwin Place\nElias Place => Elias Place\nMilligan Place => Milligan Place\nMelyn Place => Melyn Place\nHunterfly Place => Hunterfly Place\nSaint Marks Place => Saint Marks Place\nWillow Place => Willow Place\nRockwell Place => Rockwell Place\nMitchell Place => Mitchell Place\nBayview Place => Bayview Place\nKermit Place => Kermit Place\nBorinquen Place => Borinquen Place\nMurdock Place => Murdock Place\nHerkimer Place => Herkimer Place\nClyde Place => Clyde Place\nBushwick Place => Bushwick Place\nExtra Place => Extra Place\nDuryea Place => Duryea Place\nDelaware Place => Delaware Place\nStoddard Place => Stoddard Place\nVerandah Place => Verandah Place\nDublin Place => Dublin Place\nAuburn Place => Auburn Place\n32nd Place => 32nd Place\nBeaver Place => Beaver Place\nGrove Place => Grove Place\nElizabeth Place => Elizabeth Place\nRenfrew Place => Renfrew Place\nWarsoff Place => Warsoff Place\nBialystoker Place => Bialystoker Place\n4th Place => 4th Place\nMoody Place => Moody Place\nDennett Place => Dennett Place\nContinental Place => Continental Place\nSaint Austins Place => Saint Austins Place\nMacormac Place => Macormac Place\nHunter Place => Hunter Place\nSidney Place => Sidney Place\nWygant Place => Wygant Place\nTompkins Place => Tompkins Place\n2nd Place => 2nd Place\nLa Forge Place => La Forge Place\nSylvan Place => Sylvan Place\nCaldera Place => Caldera Place\nAlden Place => Alden Place\nNorth 4th Place => North 4th Place\nMontgomery Place => Montgomery Place\nSuydam Place => Suydam Place\nSaint Adalbert Place => Saint Adalbert Place\n42nd Place => 42nd Place\nColumbia Place => Columbia Place\nHoward Place => Howard Place\nMonroe Place => Monroe Place\nBrevoort Place => Brevoort Place\nOxford Place => Oxford Place\nRegent Place => Regent Place\nCarol Place => Carol Place\nHarborside Place => Harborside Place\nSeton Place => Seton Place\nDelafield Place => Delafield Place\nWakeman Place => Wakeman Place\nTudor City Place => Tudor City Place\nRaleigh Place => Raleigh Place\nClifton Place => Clifton Place\nHanover Place => Hanover Place\nHillel Place => Hillel Place\nDunham Place => Dunham Place\nGarfield Place => Garfield Place\nEricsson Place => Ericsson Place\nPurroy Place => Purroy Place\nTrinity Place => Trinity Place\nTabb Place => Tabb Place\nHudson Place => Hudson Place\nCheshire Place => Cheshire Place\nDvorak Place => Dvorak Place\nRevere Place => Revere Place\nAbby Place => Abby Place\nTrantor Place => Trantor Place\nLockwood Place => Lockwood Place\nClinton Place => Clinton Place\nLudlam Place => Ludlam Place\nFairview Place => Fairview Place\nConfederation Place => Confederation Place\nElwood Place => Elwood Place\nCoursen Place => Coursen Place\nDoe Place => Doe Place\nVandervoort Place => Vandervoort Place\nGatling Place => Gatling Place\nCaton Place => Caton Place\nFranklin Place => Franklin Place\nFancher Place => Fancher Place\nLa Guardia Place => La Guardia Place\nCathedral Place => Cathedral Place\nCardinal Hayes Place => Cardinal Hayes Place\nHuron Place => Huron Place\nSaint Francis Place => Saint Francis Place\nSaint Lukes Place => Saint Lukes Place\nFort Place => Fort Place\nSmith Place => Smith Place\nHamlin Place => Hamlin Place\nSaint Andrews Place => Saint Andrews Place\nJones Place => Jones Place\nSimonson Place => Simonson Place\nParsons Place => Parsons Place\nFort Greene Place => Fort Greene Place\nDavid Place => David Place\nCheever Place => Cheever Place\nIrving Place => Irving Place\nDowney Place => Downey Place\nSutton Place => Sutton Place\nAndrea Place => Andrea Place\nBerwick Place => Berwick Place\nKenilworth Place => Kenilworth Place\nTech Place => Tech Place\nVirginia Place => Virginia Place\nMatthew Place => Matthew Place\nBattery Place => Battery Place\nDevon Place => Devon Place\nCreston Place => Creston Place\nSummerfield Place => Summerfield Place\nParade Place => Parade Place\nCortelyou Place => Cortelyou Place\nMonsey Place => Monsey Place\nSaint Charles Place => Saint Charles Place\nSaint Anthony Place => Saint Anthony Place\nTiffany Place => Tiffany Place\nPortland Place => Portland Place\nTerrace Place => Terrace Place\nPatchin Place => Patchin Place\nTaras Shevchenko Place => Taras Shevchenko Place\nVista Place => Vista Place\nWoods Place => Woods Place\nCarolina Place => Carolina Place\nSaint Mark's Place => Saint Mark's Place\n1st Place => 1st Place\n39th Place => 39th Place\nAvon Place => Avon Place\nKinsey Place => Kinsey Place\nHagaman Place => Hagaman Place\nGregg Place => Gregg Place\nKingsley Place => Kingsley Place\nPendleton Place => Pendleton Place\nBeekman Place => Beekman Place\nWanamaker Place => Wanamaker Place\nBerkeley Place => Berkeley Place\nClove Lake Place => Clove Lake Place\nWaverly Place => Waverly Place\nUnion Place => Union Place\nAmity Place => Amity Place\nWhitwell Place => Whitwell Place\nBelmont Place => Belmont Place\nLaGuardia Place => LaGuardia Place\nBenjamin Place => Benjamin Place\nLincoln Place => Lincoln Place\nFriel Place => Friel Place\nRiley Place => Riley Place\nWindsor Place => Windsor Place\nProspect Place => Prospect Place\nErrington Place => Errington Place\nHogan Place => Hogan Place\nEadie Place => Eadie Place\nSaint Peters Place => Saint Peters Place\nClark Place => Clark Place\nTaaffe Place => Taaffe Place\nFuller Place => Fuller Place\nBaruch Place => Baruch Place\nFreeman Place => Freeman Place\nWales Place => Wales Place\nDonald Place => Donald Place\nCambridge Place => "
     ]
    },
    {
     "name": "stdout",
     "output_type": "stream",
     "text": [
      "Cambridge Place\nGarden Place => Garden Place\nHampton Place => Hampton Place\nRidgewood Place => Ridgewood Place\nLa Grange Place => La Grange Place\nVisitation Place => Visitation Place\nSaint James Place => Saint James Place\nEmerson Place => Emerson Place\nRutherford Place => Rutherford Place\nForest Place => Forest Place\nAustin Place => Austin Place\nWarren Place => Warren Place\nBancroft Place => Bancroft Place\nFederal Place => Federal Place\nOakland Place => Oakland Place\nTurner Place => Turner Place\nMackay Place => Mackay Place\nIrvington Place => Irvington Place\nAstor Place => Astor Place\nHygeia Place => Hygeia Place\nEunice Place => Eunice Place\nBoerum Place => Boerum Place\nElm Place => Elm Place\nReeve Place => Reeve Place\nDolson Place => Dolson Place\nVanderveer Place => Vanderveer Place\nBrooks Place => Brooks Place\nSterling Place => Sterling Place\nStrong Place => Strong Place\nNorth 6th Place => North 6th Place\nNorth Elliott Place => North Elliott Place\nCollege Place => College Place\nDivision Place => Division Place\nPrescott Place => Prescott Place\nAsser Levy Place => Asser Levy Place\nBills Place => Bills Place\nDe Groot Place => De Groot Place\nBedford Place => Bedford Place\nVerona Place => Verona Place\nTaxter Place => Taxter Place\nWebster Place => Webster Place\nOrinoco Place => Orinoco Place\nHinckley Place => Hinckley Place\nAshland Place => Ashland Place\nTheresa Place => Theresa Place\nBrooks Pond Place => Brooks Pond Place\nArlington Place => Arlington Place\nGreta Place => Greta Place\nRosewood Place => Rosewood Place\nLaguardia Place => Laguardia Place\nSaint Johns Place => Saint Johns Place\nAda Place => Ada Place\nEllicott Place => Ellicott Place\nGallatin Place => Gallatin Place\nMicieli Place => Micieli Place\nTalbot Place => Talbot Place\nEnos Place => Enos Place\nClaver Place => Claver Place\nRaymond Place => Raymond Place\nCurtis Place => Curtis Place\nAlton Place => Alton Place\nKossuth Place => Kossuth Place\n30th Place => 30th Place\nErastina Place => Erastina Place\nPine Place => Pine Place\nSullivan Place => Sullivan Place\nUniversity Place => University Place\nChester Place => Chester Place\nFillmore Place => Fillmore Place\nRector Place => Rector Place\nWest Washington Place => West Washington Place\nEgmont Place => Egmont Place\nLaw Place => Law Place\nBertha Place => Bertha Place\nLockman Place => Lockman Place\nExchange Place => Exchange Place\nMartin L King Place => Martin L King Place\nFiske Place => Fiske Place\nLiberty Place => Liberty Place\nSouth Elliott Place => South Elliott Place\nHatfield Place => Hatfield Place\nDix Place => Dix Place\nSaint Pauls Place => Saint Pauls Place\nBailey Place => Bailey Place\nWhite Place => White Place\nAitken Place => Aitken Place\nMc Keever Place => Mc Keever Place\nPierrepont Street @ Pierreont Place => Pierrepont Street @ Pierreont Place\n305 Schermerhorn St., Brooklyn, NY 11217 => 305 Schermerhorn St., Brooklyn, NY 11217\nMargo Loop => Margo Loop\nHarbor Loop => Harbor Loop\nSelvin Loop => Selvin Loop\n14th Street Loop => 14th Street Loop\nLockman Loop => Lockman Loop\nJohnson Streeet => Johnson Streeet\nBushwick => Bushwick\nHighline => Highline\nKenmare Square => Kenmare Square\nSutton Square => Sutton Square\nHanover Square => Hanover Square\nFinn Square => Finn Square\nSheridan Square => Sheridan Square\nChelsea Square => Chelsea Square\nChatham Square => Chatham Square\nJournal Square => Journal Square\nFinancial Square => Financial Square\nUnion Square => Union Square\nHudson Square => Hudson Square\nAbingdon Square => Abingdon Square\nCooper Square => Cooper Square\nGrant Square => Grant Square\nCourt Square => Court Square\nMorton Square => Morton Square\nWhale Square => Whale Square\nAlbee Square => Albee Square\nTimes Square => Times Square\nClinton => Clinton\nPark Ave S => Park Ave S\nPark Avenue S => Park Avenue S\nAvenue N => Avenue N\nManhattan Avenue (2nd Floor) => Manhattan Avenue (2nd Floor)\nPark Row => Park Row\nDr. Martin Luther King Jr. Boulevard => Dr. Martin Luther King Jr. Boulevard\nHart Boulevard => Hart Boulevard\nLaurel Hill Boulevard => Laurel Hill Boulevard\nVictory Boulevard => Victory Boulevard\nRidge Boulevard => Ridge Boulevard\nLuis Muñoz Marin Boulevard => Luis Muñoz Marin Boulevard\nNorthern Boulevard => Northern Boulevard\nRev Hylton James Boulevard => Rev Hylton James Boulevard\nCity Boulevard => City Boulevard\nMcGuinness Boulevard => McGuinness Boulevard\nMarcus Garvey Boulevard => Marcus Garvey Boulevard\nWestcott Boulevard => Westcott Boulevard\nMarin Boulevard => Marin Boulevard\nRev Dr G C Taylor Boulevard => Rev Dr G C Taylor Boulevard\nVernon Boulevard => Vernon Boulevard\nQueens Boulevard => Queens Boulevard\nCenter Boulevard => Center Boulevard\nEmpire Boulevard => Empire Boulevard\nJohn F. Kennedy Boulevard => John F. Kennedy Boulevard\nMc Guinness Boulevard => Mc Guinness Boulevard\nWashington Boulevard => Washington Boulevard\nLinden Boulevard => Linden Boulevard\nMalcolm X Boulevard => Malcolm X Boulevard\nWarren St. => Warren St.\nSchermerhorn St. => Schermerhorn St.\n13th St. => 13th St.\nE. 54th St. => E. 54th St.\nHarrison St. => Harrison St.\nSouth 4th St. => South 4th St.\nWashington St. => Washington St.\nHenry St. => Henry St.\nDevoe St. => Devoe St.\nWest 44th St. => West 44th St.\nBernard Baruch Way => Bernard Baruch Way\nBeacon Way => Beacon Way\nDiamond Jewelry Way => Diamond Jewelry Way\nHoliday Way => Holiday Way\nPond Way => Pond Way\nClove Way => Clove Way\nCable Way => Cable Way\n1st => 1st\nJoralemon Street, #4CF => Joralemon Street, #4CF\nSinatra Drive North => Sinatra Drive North\nSaint Austins Place North => Saint Austins Place North\nQueens Plaza North => Queens Plaza North\nGramercy Park North => Gramercy Park North\nWashington Square North => Washington Square North\nGoethals Road North => Goethals Road North\nMacdougal => Macdougal\nVanderbilt => Vanderbilt\n54th W 39th St New York, NY => 54th W 39th St New York, NY\n405 West 23rd Street, New York, NY => 405 West 23rd Street, New York, NY\nWest 49th Street New York NY => West 49th Street New York NY\n334 Furman St, Brooklyn => 334 Furman St, Brooklyn\nOld Fulton => Old Fulton\nHoboken Newport Walkway- Hudson River Waterfront Walkway => Hoboken Newport Walkway- Hudson River Waterfront Walkway\nBroadway #506 => Broadway #506\nMott St #507 => Mott St #507\nMain St., Suite 500 => Main St., Suite 500\n4th Avenue Southbound Roadbed => 4th Avenue Southbound Roadbed\nKings Highway Westbound Roadbed => Kings Highway Westbound Roadbed\nOcean Parkway Southbound Roadbed => Ocean Parkway Southbound Roadbed\nDelancey Street Eb Roadbed => Delancey Street Eb Roadbed\n5th AVE 1807 => 5th AVE 1807\nSpirit Lane => Spirit Lane\nFairway Lane => Fairway Lane\nGiacomo Lane => Giacomo Lane\nRed Hook Lane => Red Hook Lane\nMaiden Lane => Maiden Lane\nMarkham Lane => Markham Lane\nMitchel Lane => Mitchel Lane\nBerwin Lane => Berwin Lane\nJewel Mc Coy Lane => Jewel Mc Coy Lane\nHouston Lane => Houston Lane\nSkinner Lane => Skinner Lane\nAdrianne Lane => Adrianne Lane\nDuer Lane => Duer Lane\nWoodruff Lane => Woodruff Lane\nGuinevere Lane => Guinevere Lane\nHarbor Lane => Harbor Lane\nShore Road Lane => Shore Road Lane\nFrancesca Lane => Francesca Lane\nLaguna Lane => Laguna Lane\nPrincess Lane => Princess Lane\nBarrett Lane => Barrett Lane\nSaint Johns Lane => Saint Johns Lane\nWinegar Lane => Winegar Lane\nRobert Lane => Robert Lane\nLudwig Lane => Ludwig Lane\nWesterly Lane => Westerly Lane\nMerivale Lane => Merivale Lane\nLove Lane => Love Lane\nPort Lane => Port Lane\nWolkoff Lane => Wolkoff Lane\nPark Lane => Park Lane\nBrad Lane => Brad Lane\nHunts Lane => Hunts Lane\nJupiter Lane => Jupiter Lane\nMcFeeley Shipyard Lane => McFeeley Shipyard Lane\nClark Lane => Clark Lane\nCharles Lane => Charles Lane\nWhitty Lane => Whitty Lane\nMariners Lane => Mariners Lane\nMinetta Lane => Minetta Lane\nPost Lane => Post Lane\nAvenue B => Avenue B\nW 47th St #B => W 47th St #B\nEast 25th St, 4th Floor, Ste B => East 25th St, 4th Floor, Ste B\nGotham Center => Gotham Center\nWorld Trade Center => World Trade Center\nOne World Trade Center => One World Trade Center\nWorld Financial Center => World Financial Center\nMetrotech Center => Metrotech Center\nAvenue F => Avenue F\nUS 1 (NJ) => US 1 (NJ)\nAvenue J => Avenue J\nWest 27th Street #900 => West 27th Street #900\nMadison St => Madison Street\nJackson St => Jackson Street\nGrand St => Grand Street\nHewes St => Hewes Street\nWashington St => Washington Street\n2nd St => 2nd Street\nMonroe St => Monroe Street\nBroad St => Broad Street\nClinton St => Clinton Street\n1st St => 1st Street\n6th St => 6th Street\nUnion St => Union Street\nHudson St => Hudson Street\nSchermerhorn St => Schermerhorn Street\nWooster St => Wooster Street\nJoralemon St => Joralemon Street\nBloomfield St => Bloomfield Street\n8th St => 8th Street\n362nd Grand St => 362nd Grand Street\nSmith St & Bergen St => Smith St & Bergen Street\nE 43rd St => E 43rd Street\n3rd St => 3rd Street\nRiver St => River Street\nW 26th St => W 26th Street\nCourt St => Court Street\nState St & Water St => State St & Water Street\n4th St => 4th Street\nGarden St => Garden Street\nNewark St => Newark Street\nAdams St => Adams Street\nN 7th St => N 7th Street\nEast Houston St => East Houston Street\n7th St => 7th Street\nJefferson St => Jefferson Street\n9th St => 9th Street\nWest 32nd St => West 32nd Street\nWest 25th Steet => West 25th Steet\nWest 8th Steet => West 8th Steet\nBay Ridge Parkway => Bay Ridge Parkway\nNewport Parkway => Newport Parkway\nFort Hamilton Parkway => Fort Hamilton Parkway\nEastern Parkway => Eastern Parkway\nRockaway Parkway => Rockaway Parkway\nBay Parkway => Bay Parkway\nOcean Parkway => Ocean Parkway\nMaple Parkway => Maple Parkway\nClove Road => Clove Road\n45th Road => 45th Road\nMarlborough Road => Marlborough Road\nBeverly Road => Beverly Road\nLincoln Road => Lincoln Road\nColonial Road => Colonial Road\nComfort Road => Comfort Road\nFarragut Road => Farragut Road\nBarry Road => Barry Road\nEvans Road => Evans Road\nDorchester Road => Dorchester Road\nArlo Road => Arlo Road\nWestminster Road => Westminster Road\nDuncan Road => Duncan Road\nPeter Cooper Road => Peter Cooper Road\nCampus Road => Campus Road\n51st Road => 51st Road\n46th Road => 46th Road\nGlenwood Road => Glenwood Road\nSignal Hill Road => Signal Hill Road\nHalf Moon Road => Half Moon Road\nCartigan Road => Cartigan Road\nHarbor Road => Harbor Road\nLenox Road => Lenox Road\n56th Road => 56th Road\n33rd Road => 33rd Road\nArgyle Road => Argyle Road\n54th Road => 54th Road\nWillowbrook Road => Willowbrook Road\nRutland Road => Rutland Road\nBirch Road => Birch Road\nRichmond Road => Richmond Road\nOld New Utrecht Road => Old New Utrecht Road\nDahill Road => Dahill Road\nGrymes Hill Road => Grymes Hill Road\nClayton Road => Clayton Road\nSilver Lake Road => Silver Lake Road\nAlbemarle Road => Albemarle Road\n43rd Road => 43rd Road\nHillcrest Road => Hillcrest Road\nCortelyou Road => Cortelyou Road\nLakewood Road => Lakewood Road\n42nd Road => 42nd Road\nEast Road => East Road\nMorningstar Road => Morningstar Road\nWoodcrest Road => Woodcrest Road\nShore Road => Shore Road\nFrontage Road => Frontage Road\n44th Road => 44th Road\nManor Road => Manor Road\nTrossach Road => Trossach Road\nKimmel Road => Kimmel Road\nRugby Road => Rugby Road\nTampa Road => Tampa Road\nEastern Parkway Service Road => Eastern Parkway Service Road\nBuckingham Road => Buckingham Road\nWoodpoint Road => Woodpoint Road\nEagle Road => Eagle Road\nRosecliff Road => Rosecliff Road\nAbsecon Road => Absecon Road\n58th Road => 58th Road\nOld Ridge Road => Old Ridge Road\nSnug Harbor Road => Snug Harbor Road\n47th Road => 47th Road\nStratford Road => Stratford Road\nHavenwood Road => Havenwood Road\nCarder Road => Carder Road\n40th Road => 40th Road\nClarendon Road => Clarendon Road\nOwasco Road => Owasco Road\nAndes Road => Andes Road\n861 => 861\nHaven Esplanade => Haven Esplanade\nNorth Elliott Walk => North Elliott Walk\nMonument Walk => Monument Walk\nKingsborough 5th Walk => Kingsborough 5th Walk\nKingsborough 1st Walk => Kingsborough 1st Walk\nTen Eyck Walk => Ten Eyck Walk\nCumberland Walk => Cumberland Walk\nKingsborough 2nd Walk => Kingsborough 2nd Walk\nNorth Oxford Walk => North Oxford Walk\nWhitpenn Walk => Whitpenn Walk\nHudson Walk => Hudson Walk\nKingsborough 7th Walk => Kingsborough 7th Walk\nKingsborough 6th Walk => Kingsborough 6th Walk\nNorth Elliot Walk => North Elliot Walk\nNavy Walk => Navy Walk\nWashington Walk => Washington Walk\nFleet Walk => Fleet Walk\nEast 4th Walk => East 4th Walk\nKingsborough 3rd Walk => Kingsborough 3rd Walk\nPineapple Walk => Pineapple Walk\nStagg Walk => Stagg Walk\nRegal Walk => Regal Walk\nKingsborough 4th Walk => Kingsborough 4th Walk\nBroadway Atrium => Broadway Atrium\nMorgan Ave => Morgan Avenue\n4th Ave => 4th Avenue\nThird Ave => Third Avenue\nNorman Ave => Norman Avenue\nPark Ave => Park Avenue\nFlatbush Ave => Flatbush Avenue\nWillow Ave => Willow Avenue\nPutnam Ave => Putnam Avenue\nWashington Ave => Washington Avenue\n3rd Ave => 3rd Avenue\nTroy Ave => Troy Avenue\n35th Ave => 35th Avenue\nNostrand Ave => Nostrand Avenue\nWebster Ave => Webster Avenue\nPommer Avenue => Pommer Avenue\nDe Hart Avenue => De Hart Avenue\nWard Avenue => Ward Avenue\nWoolley Avenue => Woolley Avenue\nPacific Avenue => Pacific Avenue\nLockman Avenue => Lockman Avenue\nEast New York Avenue => East New York Avenue\nGardner Avenue => Gardner Avenue\nBurnside Avenue => Burnside Avenue\nHeberton Avenue => Heberton Avenue\nFahy Avenue => Fahy Avenue\nRegan Avenue => Regan Avenue\nBaldwin Avenue => Baldwin Avenue\nManhattan Avenue => Manhattan Avenue\nRalph Avenue => Ralph Avenue\nHartford Avenue => Hartford Avenue\nCrooke Avenue => Crooke Avenue\nFarragut Avenue => Farragut Avenue\nGreenfield Avenue => Greenfield Avenue\nGates Avenue => Gates Avenue\nSaint Marks Avenue => Saint Marks Avenue\nHendricks Avenue => Hendricks Avenue\nMarine Avenue => Marine Avenue\nLewis Avenue => Lewis Avenue\nHunters Point Avenue => Hunters Point Avenue\nPutnam Avenue => Putnam Avenue\nVan Pelt Avenue => Van Pelt Avenue\nTompkins Avenue => Tompkins Avenue\nPorter Avenue => Porter Avenue\nFranklin Avenue => Franklin Avenue\nCeltic Avenue => Celtic Avenue\nMaspeth Avenue => Maspeth Avenue\nRochester Avenue => Rochester Avenue\n5th Avenue => 5th Avenue\nGalloway Avenue => Galloway Avenue\nCoughlan Avenue => Coughlan Avenue\nMeserole Avenue => Meserole Avenue\nWyckoff Avenue => Wyckoff Avenue\n1st Avenue => 1st Avenue\nSpringfield Avenue => Springfield Avenue\nStarr Avenue => Starr Avenue\nSkillman Avenue => Skillman Avenue\nBuffalo Avenue => Buffalo Avenue\nOxholm Avenue => Oxholm Avenue\nSecond Avenue => Second Avenue\nPitkin Avenue => Pitkin Avenue\n31st Avenue => 31st Avenue\nRichmond Avenue => Richmond Avenue\nWillow Avenue => Willow Avenue\nDitmas Avenue => Ditmas Avenue\nWalbrooke Avenue => Walbrooke Avenue\nHamilton Avenue => Hamilton Avenue\nPort Richmond Avenue => Port Richmond Avenue\nBirch Avenue => Birch Avenue\nAlbany Avenue => Albany Avenue\nCastleton Avenue => Castleton Avenue\nEngert Avenue => Engert Avenue\nFifth Avenue => Fifth Avenue\n19th Avenue => 19th Avenue\nWillis Avenue => Willis Avenue\nGrand Avenue => Grand Avenue\nLee Avenue => Lee Avenue\nJersey Avenue => Jersey Avenue\nVarick Avenue => Varick Avenue\nUtica Avenue => Utica Avenue\nNorth End Avenue => North End Avenue\nDebevoise Avenue => Debevoise Avenue\nFiedler Avenue => Fiedler Avenue\nWillard Avenue => Willard Avenue\nTilden Avenue => Tilden Avenue\nWest Raleigh Avenue => West Raleigh Avenue\nOvington Avenue => Ovington Avenue\n43rd Avenue => 43rd Avenue\nTroy Avenue => Troy Avenue\nGarrison Avenue => Garrison Avenue\nThames Avenue => Thames Avenue\nBrentwood Avenue => Brentwood Avenue\nHudson Avenue => Hudson Avenue\nCommunipaw Avenue => Communipaw Avenue\nNassau Avenue => Nassau Avenue\nLeonard Avenue => Leonard Avenue\nMadison Avenue => Madison Avenue\nWestervelt Avenue => Westervelt Avenue\nBryson Avenue => Bryson Avenue\nSouth Portland Avenue => South Portland Avenue\nAndros Avenue => Andros Avenue\nSeneca Avenue => Seneca Avenue\n21st Avenue => 21st Avenue\n10th Avenue => 10th Avenue\n49th Avenue => 49th Avenue\nGridley Avenue => Gridley Avenue\n9th Avenue => 9th Avenue\nClarkson Avenue => Clarkson Avenue\nHenderson Avenue => Henderson Avenue\nBenedict Avenue => Benedict Avenue\nBarnett Avenue => Barnett Avenue\nRainbow Avenue => Rainbow Avenue\nMyrtle Avenue => Myrtle Avenue\nWest Side Avenue => West Side Avenue\n34th Avenue => 34th Avenue\nPenbroke Avenue => Penbroke Avenue\nHighland Avenue => Highland Avenue\n17th Avenue => 17th Avenue\nNew Montrose Avenue => New Montrose Avenue\nHeaney Avenue => Heaney Avenue\nNorth Avenue => North Avenue\nSpringhill Avenue => Springhill Avenue\nRandall Avenue => Randall Avenue\nThird Avenue => Third Avenue\nParkville Avenue => Parkville Avenue\nMerriman Avenue => Merriman Avenue\nNewkirk Avenue => Newkirk Avenue\nStuyvesant Avenue => Stuyvesant Avenue\nLafayette Avenue => Lafayette Avenue\nBlake Avenue => Blake Avenue\nPaterson Avenue => Paterson Avenue\nPatchen Avenue => Patchen Avenue\nGrandview Avenue => Grandview Avenue\nBismark Avenue => Bismark Avenue\nNicholas Avenue => Nicholas Avenue\nLake Avenue => Lake Avenue\nEvergreen Avenue => Evergreen Avenue\nPassaic Avenue => Passaic Avenue\nHart Avenue => Hart Avenue\nNorwood Avenue => Norwood Avenue\nBush Avenue => Bush Avenue\nVan Name Avenue => Van Name Avenue\nCatlin Avenue => Catlin Avenue\nPaidge Avenue => Paidge Avenue\nPelton Avenue => Pelton Avenue\nBlackford Avenue => Blackford Avenue\nKnickerbocker Avenue => Knickerbocker Avenue\nHousman Avenue => Housman Avenue\nCary Avenue => Cary Avenue\nFlatbush Avenue => Flatbush Avenue\nVedder Avenue => Vedder Avenue\n36th Avenue => 36th Avenue\nCrystal Avenue => Crystal Avenue\nScott Avenue => Scott Avenue\nSnyder Avenue => Snyder Avenue\nGarfield Avenue => Garfield Avenue\nGlascoe Avenue => Glascoe Avenue\nConyingham Avenue => Conyingham Avenue\nDe Kalb Avenue => De Kalb Avenue\nFlushing Avenue => Flushing Avenue\nMersereau Avenue => Mersereau Avenue\nDeKalb Avenue => DeKalb Avenue\nWinter Avenue => Winter Avenue\nWilson Avenue => Wilson Avenue\nFourth Avenue => Fourth Avenue\nStebbins Avenue => Stebbins Avenue\nKingston Avenue => Kingston Avenue\n47th Avenue => 47th Avenue\nHarvest Avenue => Harvest Avenue\nMuller Avenue => Muller Avenue\nSutter Avenue => Sutter Avenue\nLayton Avenue => Layton Avenue\nStratford Avenue => Stratford Avenue\nDavis Avenue => Davis Avenue\n50th Avenue => 50th Avenue\nNetherland Avenue => Netherland Avenue\nDecker Avenue => Decker Avenue\nUnion Avenue => Union Avenue\nRogers Avenue => Rogers Avenue\nBedford Avenue => Bedford Avenue\n53rd Avenue => 53rd Avenue\nNarrows Avenue => Narrows Avenue\nMarcy Avenue => Marcy Avenue\n11th Avenue => 11th Avenue\nSouth End Avenue => South End Avenue\nNixon Avenue => Nixon Avenue\nCornell Avenue => Cornell Avenue\nLinden Avenue => Linden Avenue\nReview Avenue => Review Avenue\nCebra Avenue => Cebra Avenue\nFlatlands Avenue => Flatlands Avenue\nThroop Avenue => Throop Avenue\nArlington Avenue => Arlington Avenue\nTownsend Avenue => Townsend Avenue\nValencia Avenue => Valencia Avenue\nBeechwood Avenue => Beechwood Avenue\nDickie Avenue => Dickie Avenue\nJewett Avenue => Jewett Avenue\nWashington Avenue => Washington Avenue\n41st Avenue => 41st Avenue\nSpartan Avenue => Spartan Avenue\nMcDonald Avenue => McDonald Avenue\nGelston Avenue => Gelston Avenue\nSaint Pauls Avenue => Saint Pauls Avenue\nSaint Josephs Avenue => Saint Josephs Avenue\nPalmer Avenue => Palmer Avenue\nNew York Avenue => New York Avenue\nPark Avenue => Park Avenue\nBergen Avenue => Bergen Avenue\nEgbert Avenue => Egbert Avenue\n48th Avenue => 48th Avenue\nKent Avenue => Kent Avenue\nStewart Avenue => Stewart Avenue\nCarlton Avenue => Carlton Avenue\nOakland Avenue => Oakland Avenue\nNewark Avenue => Newark Avenue\nHighview Avenue => Highview Avenue\nHardin Avenue => Hardin Avenue\nDubois Avenue => Dubois Avenue\nCrescent Avenue => Crescent Avenue\nBeverly Avenue => Beverly Avenue\nBrookside Avenue => Brookside Avenue\nNeal Dow Avenue => Neal Dow Avenue\nBrighton Avenue => Brighton Avenue\n46th Avenue => 46th Avenue\nTreadwell Avenue => Treadwell Avenue\nBay Ridge Avenue => Bay Ridge Avenue\n4th Avenue => 4th Avenue\nOrdell Avenue => Ordell Avenue\nWoodstock Avenue => Woodstock Avenue\nOcean Avenue => Ocean Avenue\nGreene Avenue => Greene Avenue\n20th Avenue => 20th Avenue\nDivision Avenue => Division Avenue\nRailroad Avenue => Railroad Avenue\n51st Avenue => 51st Avenue\nGranite Avenue => Granite Avenue\nWoodside Avenue => Woodside Avenue\nLa Forge Avenue => La Forge Avenue\n13th Avenue => 13th Avenue\nHomestead Avenue => Homestead Avenue\nJackson Avenue => Jackson Avenue\nClermont Avenue => Clermont Avenue\nGrove Avenue => Grove Avenue\nKingsland Avenue => Kingsland Avenue\nCharles Avenue => Charles Avenue\nConstant Avenue => Constant Avenue\nMarion Avenue => Marion Avenue\nThomson Avenue => Thomson Avenue\nBruckner Avenue => Bruckner Avenue\nWestbrook Avenue => Westbrook Avenue\n44th Avenue => 44th Avenue\nKingsley Avenue => Kingsley Avenue\nLocust Avenue => Locust Avenue\nTroop Avenue => Troop Avenue\nMorrison Avenue => Morrison Avenue\nWright Avenue => Wright Avenue\nLawrence Avenue => Lawrence Avenue\nShort Avenue => Short Avenue\nMaine Avenue => Maine Avenue\nElmwood Avenue => Elmwood Avenue\n39th Avenue => 39th Avenue\n12th Avenue => 12th Avenue\nTaft Avenue => Taft Avenue\nTuers Avenue => Tuers Avenue\nWythe Avenue => Wythe Avenue\nSharpe Avenue => Sharpe Avenue\n33rd Avenue => 33rd Avenue\nMontgomery Avenue => Montgomery Avenue\nCampbell Avenue => Campbell Avenue\nSummit Avenue => Summit Avenue\nVandervoort Avenue => Vandervoort Avenue\nChurch Avenue => Church Avenue\nWaldron Avenue => Waldron Avenue\nBorden Avenue => Borden Avenue\nCollfield Avenue => Collfield Avenue\n16th Avenue => 16th Avenue\nBowles Avenue => Bowles Avenue\n55th Avenue => 55th Avenue\nRavenhurst Avenue => Ravenhurst Avenue\nGreenwich Avenue => Greenwich Avenue\nRemsen Avenue => Remsen Avenue\nOrient Avenue => Orient Avenue\nMaple Avenue => Maple Avenue\nWestbury Avenue => Westbury Avenue\nSeymour Avenue => Seymour Avenue\n38th Avenue => 38th Avenue\nCaton Avenue => Caton Avenue\nSeventh Avenue => Seventh Avenue\n14th Avenue => 14th Avenue\nStanley Avenue => Stanley Avenue\nDekalb Avenue => Dekalb Avenue\n134 Fourth Avenue => 134 Fourth Avenue\nLisk Avenue => Lisk Avenue\nOsgood Avenue => Osgood Avenue\nHolland Avenue => Holland Avenue\nBrooklyn Avenue => Brooklyn Avenue\nCroton Avenue => Croton Avenue\nJohnson Avenue => Johnson Avenue\nMundy Avenue => Mundy Avenue\nBard Avenue => Bard Avenue\nProspect Avenue => Prospect Avenue\nNorth Randall Avenue => "
     ]
    },
    {
     "name": "stdout",
     "output_type": "stream",
     "text": [
      "North Randall Avenue\nAnderson Avenue => Anderson Avenue\nComstock Avenue => Comstock Avenue\nElizabeth Avenue => Elizabeth Avenue\nPost Avenue => Post Avenue\nGraham Avenue => Graham Avenue\nBement Avenue => Bement Avenue\nDrake Avenue => Drake Avenue\nWoodruff Avenue => Woodruff Avenue\nLeyden Avenue => Leyden Avenue\nBurden Avenue => Burden Avenue\nSaint Nicholas Avenue => Saint Nicholas Avenue\nSlosson Avenue => Slosson Avenue\nGreenwood Avenue => Greenwood Avenue\nMonroe Avenue => Monroe Avenue\n57th Avenue => 57th Avenue\nWardwell Avenue => Wardwell Avenue\nOnderdonk Avenue => Onderdonk Avenue\nParkside Avenue => Parkside Avenue\n6th Avenue => 6th Avenue\nConey Island Avenue => Coney Island Avenue\nElmira Avenue => Elmira Avenue\nCurtis Avenue => Curtis Avenue\nGreenpoint Avenue => Greenpoint Avenue\nVilla Avenue => Villa Avenue\nRonald Avenue => Ronald Avenue\nMetropolitan Avenue => Metropolitan Avenue\nBenziger Avenue => Benziger Avenue\nMorgan Avenue => Morgan Avenue\nAtlantic Avenue => Atlantic Avenue\nMathews Avenue => Mathews Avenue\nHarvard Avenue => Harvard Avenue\n35th Avenue => 35th Avenue\nNew Utrecht Avenue => New Utrecht Avenue\nFairview Avenue => Fairview Avenue\nNorth Portland Avenue => North Portland Avenue\n18th Avenue => 18th Avenue\nClasson Avenue => Classon Avenue\nFiske Avenue => Fiske Avenue\nSchenectady Avenue => Schenectady Avenue\nDouglas Avenue => Douglas Avenue\nIrving Avenue => Irving Avenue\n45th Avenue => 45th Avenue\nHarrison Avenue => Harrison Avenue\nGlen Avenue => Glen Avenue\nLivermore Avenue => Livermore Avenue\nKissel Avenue => Kissel Avenue\nWilloughby Avenue => Willoughby Avenue\nGale Avenue => Gale Avenue\nNorth Mada Avenue => North Mada Avenue\nSouth Greenleaf Avenue => South Greenleaf Avenue\nWaverly Avenue => Waverly Avenue\nVanderbilt Avenue => Vanderbilt Avenue\nLefferts Avenue => Lefferts Avenue\nBushwick Avenue => Bushwick Avenue\n557 Lexington Avenue => 557 Lexington Avenue\n37th Avenue => 37th Avenue\nNorth Burgher Avenue => North Burgher Avenue\nLathrop Avenue => Lathrop Avenue\nPavonia Avenue => Pavonia Avenue\nLexington Avenue => Lexington Avenue\nHoyt Avenue => Hoyt Avenue\nYork Avenue => York Avenue\nVeltman Avenue => Veltman Avenue\nDixon Avenue => Dixon Avenue\n8th Avenue => 8th Avenue\nMeeker Avenue => Meeker Avenue\nCollege Avenue => College Avenue\nBarrett Avenue => Barrett Avenue\n3rd Avenue => 3rd Avenue\nDelafield Avenue => Delafield Avenue\nCypress Avenue => Cypress Avenue\nMontrose Avenue => Montrose Avenue\nMurray Hulbert Avenue => Murray Hulbert Avenue\nNorthfield Avenue => Northfield Avenue\nCorson Avenue => Corson Avenue\nGreenleaf Avenue => Greenleaf Avenue\nCentral Avenue => Central Avenue\nSimonson Avenue => Simonson Avenue\n7th Avenue => 7th Avenue\nOrange Avenue => Orange Avenue\nHaughwout Avenue => Haughwout Avenue\n54th Avenue => 54th Avenue\nForest Avenue => Forest Avenue\nNostrand Avenue => Nostrand Avenue\nUnderhill Avenue => Underhill Avenue\nWoodward Avenue => Woodward Avenue\n40th Avenue => 40th Avenue\nWebster Avenue => Webster Avenue\nJefferson Avenue => Jefferson Avenue\n2nd Avenue => 2nd Avenue\nWhitewood Avenue => Whitewood Avenue\nDriggs Avenue => Driggs Avenue\nLevit Avenue => Levit Avenue\nPulaski Avenue => Pulaski Avenue\nVernon Avenue => Vernon Avenue\nSherman Avenue => Sherman Avenue\nHoward Avenue => Howard Avenue\nSharon Avenue => Sharon Avenue\nScribner Avenue => Scribner Avenue\nNorman Avenue => Norman Avenue\nFoster Avenue => Foster Avenue\nSouth 7th Avenue => South 7th Avenue\nBradley Avenue => Bradley Avenue\nMelrose Avenue => Melrose Avenue\nPalisade Avenue => Palisade Avenue\nLaurel Avenue => Laurel Avenue\nTyler Avenue => Tyler Avenue\nSouth Avenue => South Avenue\nMartling Avenue => Martling Avenue\nSip Avenue => Sip Avenue\n15th Avenue => 15th Avenue\nOakwood Avenue => Oakwood Avenue\nOccident Avenue => Occident Avenue\nClinton Avenue => Clinton Avenue\nEast Raleigh Avenue => East Raleigh Avenue\nKingsland Avenue / Grandparents Avenue => Kingsland Avenue / Grandparents Avenue\nNostrand Avenue;Flatbush Avenue => Nostrand Avenue;Flatbush Avenue\nAusable Avenue => Ausable Avenue\nEldridge Avenue => Eldridge Avenue\nChester Avenue => Chester Avenue\nBidwell Avenue => Bidwell Avenue\nNorthfield Court => Northfield Court\nNoah Court => Noah Court\nHeather Court => Heather Court\nWelles Court => Welles Court\nHattie Jones Court => Hattie Jones Court\nEmeric Court => Emeric Court\nSniffen Court => Sniffen Court\nWall Street Court => Wall Street Court\nGlendale Court => Glendale Court\nThelma Court => Thelma Court\nBeacon Court => Beacon Court\nGrace Court => Grace Court\nDore Court => Dore Court\nClarion Court => Clarion Court\nOvington Court => Ovington Court\nRachel Court => Rachel Court\nPreston Court => Preston Court\nBushwick Court => Bushwick Court\nAmelia Court => Amelia Court\nPalm Court => Palm Court\nSilver Court => Silver Court\nHolbernt Court => Holbernt Court\nMarlborough Court => Marlborough Court\nHorace Court => Horace Court\nDerby Court => Derby Court\nCollege Court => College Court\nWoodrow Court => Woodrow Court\nMadan Court => Madan Court\nDulancey Court => Dulancey Court\nParis Court => Paris Court\nLetty Court => Letty Court\nZachary Court => Zachary Court\nTessa Court => Tessa Court\nBee Court => Bee Court\nChrissy Court => Chrissy Court\nMc Kibbin Court => Mc Kibbin Court\nDestiny Court => Destiny Court\nAurelia Court => Aurelia Court\nTaylor Court => Taylor Court\nCorbin Court => Corbin Court\nTennis Court => Tennis Court\nGreenfield Court => Greenfield Court\nTom Court => Tom Court\nBetty Court => Betty Court\nPark Court => Park Court\nTompkins Court => Tompkins Court\nAmazon Court => Amazon Court\nWillowbrook Court => Willowbrook Court\nPutters Court => Putters Court\nLinda Court => Linda Court\nRumpler Court => Rumpler Court\nSage Court => Sage Court\nWestbury Court => Westbury Court\nGriswold Court => Griswold Court\nTiger Court => Tiger Court\nTampa Court => Tampa Court\nHerkimer Court => Herkimer Court\nStory Court => Story Court\nRichmond Court => Richmond Court\nCurtis Court => Curtis Court\nAllen Court => Allen Court\nAlbert Court => Albert Court\nOpus Court => Opus Court\nSaint Pauls Court => Saint Pauls Court\nRidge Court => Ridge Court\nRocco Court => Rocco Court\nSpencer Court => Spencer Court\nPark Hill Court => Park Hill Court\nShaina Court => Shaina Court\nBeamer Court => Beamer Court\nAye Court => Aye Court\nKirkland Court => Kirkland Court\nMiami Court => Miami Court\nShore Court => Shore Court\nLloyd Court => Lloyd Court\nCedarwood Court => Cedarwood Court\nForest Court => Forest Court\nArthur Court => Arthur Court\nKristen Court => Kristen Court\nGloria Court => Gloria Court\nMadeline Court => Madeline Court\nRoosevelt Court => Roosevelt Court\nMaxie Court => Maxie Court\nLyceum Court => Lyceum Court\nUnion Court => Union Court\nGrove Court => Grove Court\nWalsh Court => Walsh Court\nColonial Court => Colonial Court\nRenaissance Court => Renaissance Court\nJodie Court => Jodie Court\nOwls Head Court => Owls Head Court\nJake Court => Jake Court\nDuryea Court => Duryea Court\nPleasant Court => Pleasant Court\nMartense Court => Martense Court\nSusan Court => Susan Court\nAdele Court => Adele Court\nBement Court => Bement Court\nDuane Court => Duane Court\nDahl Court => Dahl Court\nBreezy Court => Breezy Court\nMichelle Court => Michelle Court\nDel Ray Court => Del Ray Court\n72nd Court => 72nd Court\nCoursen Court => Coursen Court\nCecil Court => Cecil Court\nDe Koven Court => De Koven Court\nNatalie Court => Natalie Court\nAlice Court => Alice Court\nSeth Court => Seth Court\nDryden Court => Dryden Court\nLamont Court => Lamont Court\nHoward Court => Howard Court\nChester Court => Chester Court\nNewark Bay Court => Newark Bay Court\nAvalon Court => Avalon Court\nClaudia Court => Claudia Court\nNorthview Court => Northview Court\nMatthews Court => Matthews Court\nKirby Court => Kirby Court\nStephens Court => Stephens Court\nDavidson Court => Davidson Court\nClaire Court => Claire Court\nParkside Court => Parkside Court\nNunzie Court => Nunzie Court\nRose Court => Rose Court\nArlington Court => Arlington Court\nWellington Court => Wellington Court\nLilac Court => Lilac Court\nLynn Court => Lynn Court\nLivingston Court => Livingston Court\nJamie Court => Jamie Court\nClinton Court => Clinton Court\nBlaine Court => Blaine Court\nHarbor View Court => Harbor View Court\nDavis Court => Davis Court\nCoonley Court => Coonley Court\nGiordan Court => Giordan Court\nTabor Court => Tabor Court\nWallaston Court => Wallaston Court\nBennett Court => Bennett Court\nBorg Court => Borg Court\nTappen Court => Tappen Court\nAlpine Court => Alpine Court\nCameron Court => Cameron Court\nTemple Court => Temple Court\nAgate Court => Agate Court\nWaldorf Court => Waldorf Court\nRayfield Court => Rayfield Court\nJillian Court => Jillian Court\nOlivia Court => Olivia Court\nNorwood Court => Norwood Court\nSeigel Court => Seigel Court\nKaren Court => Karen Court\n424 5th Avenue, 10018 NY, USA => 424 5th Avenue, 10018 NY, USA\nDekalb Ave, 2nd Floor => Dekalb Ave, 2nd Floor\nWall Street 12th Floor => Wall Street 12th Floor\nJournal Square #1204 => Journal Square #1204\nCastle Point on Hudson => Castle Point on Hudson\nW 36th St #800a => W 36th St #800a\nGrand Central Terminal => Grand Central Terminal\n633 => 633\n5th ave => 5th Avenue\n110 West 51st at 6 ave => 110 West 51st at 6 Avenue\nKings Highway => Kings Highway\nMcCarter Highway => McCarter Highway\nTrack => Track\nBowery => Bowery\nThe Bowery => The Bowery\nGraham Avenue #1 => Graham Avenue #1\n36th St Front 1 => 36th St Front 1\nBroadway. => Broadway.\nGovernors Island => Governors Island\nLiberty Island => Liberty Island\nAvenue A => Avenue A\nBroadway #205 => Broadway #205\nHarborside Fin Ctr => Harborside Fin Ctr\nAvenue I => Avenue I\nAvenue M => Avenue M\nFerry Terminal Drive => Ferry Terminal Drive\nBenjamin Drive => Benjamin Drive\nWalker Drive => Walker Drive\nAda Drive => Ada Drive\nWellhouse Drive => Wellhouse Drive\nLillian Wald Drive => Lillian Wald Drive\nBaruch Drive => Baruch Drive\n44th Drive => 44th Drive\nWest Drive => West Drive\nGreenway Drive => Greenway Drive\nWest 27th Drive => West 27th Drive\nIkea Drive => Ikea Drive\n54th Drive => 54th Drive\nEast Drive => East Drive\nShelterview Drive => Shelterview Drive\nRegis Drive => Regis Drive\nSunset Hill Drive => Sunset Hill Drive\nDoreen Drive => Doreen Drive\nFDR Drive => FDR Drive\nChristopher Columbus Drive => Christopher Columbus Drive\nEdstone Drive => Edstone Drive\nMartin Luther King Jr Drive => Martin Luther King Jr Drive\nJules Drive => Jules Drive\nMorris Pesin Drive => Morris Pesin Drive\nAtlantic Commons => Atlantic Commons\nLafayette => Lafayette\nAvenue of the Americas\n=> Avenue of the Americas\n\nAvenue Of The Americas => Avenue Of The Americas\nAvenue of the Americas => Avenue of the Americas\nUnion Avenue 4B => Union Avenue 4B\nColonial Gardens => Colonial Gardens\n7th Avenue South => 7th Avenue South\nPaerdegat Avenue South => Paerdegat Avenue South\nWashington Square South => Washington Square South\nRiver Drive South => River Drive South\nSaint Austins Place South => Saint Austins Place South\nPark Avenue South => Park Avenue South\nGramercy Park South => Gramercy Park South\nCraig Road South => Craig Road South\nSutton Place South => Sutton Place South\nDelancey St South => Delancey St South\nMc Guinness Boulevard South => Mc Guinness Boulevard South\nQueens Plaza South => Queens Plaza South\n8th Avene => 8th Avene\nNostrand Avene => Nostrand Avene\nGratta => Gratta\n505th 8th Avenue Suite 1801 => 505th 8th Avenue Suite 1801\n10th Ave #2E => 10th Ave #2E\n110 SIXTH AVE. AT WATTS ST => 110 SIXTH AVE. AT WATTS ST\nN 9th ST => N 9th ST\nSouth 4th st => South 4th st\nbowne st => bowne st\nW 35th st => W 35th st\nFaber Street => Faber Street\nWinthrop Street => Winthrop Street\nBond Street => Bond Street\nLafayette Street => Lafayette Street\nLaight Street => Laight Street\nLa Salle Street => La Salle Street\nEast 1st Street => East 1st Street\nColes Street => Coles Street\nThornton Street => Thornton Street\nReed Street => Reed Street\nWest Buchanan Street => West Buchanan Street\nHopkins Street => Hopkins Street\nGreat Jones Street => Great Jones Street\nHausman Street => Hausman Street\nLewis Street => Lewis Street\nMurray Street => Murray Street\nBloomfield Street => Bloomfield Street\nSmith Street => Smith Street\nSpring Street => Spring Street\n20th Street => 20th Street\nNorth 14th Street => North 14th Street\nCharles Street => Charles Street\nSandford Street => Sandford Street\n22nd Street => 22nd Street\nErasmus Street => Erasmus Street\nJohn Street => John Street\nJava Street => Java Street\nTen Eyck Street => Ten Eyck Street\nHavemeyer Street => Havemeyer Street\n21st Street => 21st Street\nWest 46th Street => West 46th Street\nEast 20th Street => East 20th Street\n32nd Street => 32nd Street\nNorth 4th Street => North 4th Street\nLorraine Street => Lorraine Street\nFurman Street => Furman Street\n61st Street => 61st Street\nWoodbine Street => Woodbine Street\nWoodhull Street => Woodhull Street\nWest 30 Street => West 30 Street\nKenmare Street => Kenmare Street\nHeyward Street => Heyward Street\nRichardson Street => Richardson Street\nWest 35 Street => West 35 Street\nMaple Street => Maple Street\nDoughty Street => Doughty Street\nLittle Nassau Street => Little Nassau Street\nWest 43rd Street => West 43rd Street\nRock Street => Rock Street\nBeadel Street => Beadel Street\nSeigel Street => Seigel Street\nEast 31st Street => East 31st Street\nClay Street => Clay Street\nWest 55th Street => West 55th Street\nYoung Street => Young Street\nMelissa Street => Melissa Street\nNewton Street => Newton Street\nSands Street => Sands Street\nDesbrosses Street => Desbrosses Street\nWenlock Street => Wenlock Street\nJefferson Street => Jefferson Street\nE 50th Street => E 50th Street\nLott Street => Lott Street\nWest 40th Street => West 40th Street\nAnn Street => Ann Street\n53rd Street => 53rd Street\nRutgers Street => Rutgers Street\nTrenton Street => Trenton Street\nHannah Street => Hannah Street\n60th Street => 60th Street\nClarkson Street => Clarkson Street\nWithers Street => Withers Street\n46th Street => 46th Street\n66th Street => 66th Street\nSouth 8th Street => South 8th Street\nPowers Street => Powers Street\nJudge Street => Judge Street\nStockholm Street => Stockholm Street\n93rd Street => 93rd Street\nIngraham Street => Ingraham Street\n26th Street => 26th Street\nDelancey Street => Delancey Street\n42nd Street => 42nd Street\nLispenard Street => Lispenard Street\nHarden Street => Harden Street\nHooper Street => Hooper Street\nBrook Street => Brook Street\nHavermeyer Street => Havermeyer Street\nMacDougal Street => MacDougal Street\nEast 65th Street => East 65th Street\nNorth Oxford Street => North Oxford Street\n92nd Street => 92nd Street\nJames Street => James Street\nCarlyle Street => Carlyle Street\n90th Street => 90th Street\nEast 28th Street => East 28th Street\nSheffield Street => Sheffield Street\n230th East 51st Street => 230th East 51st Street\n70th Street => 70th Street\nAmador Street => Amador Street\nEvans Street => Evans Street\nClinton Street => Clinton Street\nChapel Street => Chapel Street\nMorton Street => Morton Street\nAshford Street => Ashford Street\nConselyea Street => Conselyea Street\nEagle Street => Eagle Street\nDean Street => Dean Street\n87th Street => 87th Street\nEast 59th Street => East 59th Street\nWythe Street => Wythe Street\nApollo Street => Apollo Street\nSumpter Street => Sumpter Street\nEldridge Street => Eldridge Street\nEverit Street => Everit Street\nMac Donough Street => Mac Donough Street\nEast 26th Street => East 26th Street\nEast 46th Street => East 46th Street\nNassau Street => Nassau Street\nDavis Street => Davis Street\nEllery Street => Ellery Street\nFrankfort Street => Frankfort Street\nElm Street => Elm Street\nNorth 9th Street => North 9th Street\n44th Street => 44th Street\nHerkimer Street => Herkimer Street\nEast 95th Street => East 95th Street\nCommercial Street => Commercial Street\nMoultrie Street => Moultrie Street\nMiddagh Street => Middagh Street\nDavidson Street => Davidson Street\nStanwix Street => Stanwix Street\nEast 89th Street => East 89th Street\nDevoe Street => Devoe Street\nDuffield Street => Duffield Street\n85th Street => 85th Street\n16th Street => 16th Street\nClara Street => Clara Street\nLeo Street => Leo Street\n83rd Street => 83rd Street\nWest 37th Street => West 37th Street\nTilden Street => Tilden Street\nSlaight Street => Slaight Street\nRandolph Street => Randolph Street\nWatts Street => Watts Street\nEast 24th Street => East 24th Street\nCommerce Street => Commerce Street\nMyrtle Street => Myrtle Street\nThomas Street => Thomas Street\nMott Street => Mott Street\nBoyd Street => Boyd Street\nSenator Street => Senator Street\nWolcott Street => Wolcott Street\n48th Street => 48th Street\nPike Street => Pike Street\nDiamond Street => Diamond Street\nDivision Street => Division Street\nHeusden Street => Heusden Street\nWest 49th Street => West 49th Street\nHope Street => Hope Street\nMinthorne Street => Minthorne Street\n36th Street => 36th Street\nBeach Street => Beach Street\nAdams Street => Adams Street\nWest 50th Street => West 50th Street\nSuffolk Street => Suffolk Street\nEast 6th Street => East 6th Street\nRiegelman Street => Riegelman Street\nKeap Street => Keap Street\nSummit Street => Summit Street\nGem Street => Gem Street\nButler Street => Butler Street\nNorth 11th Street => North 11th Street\nWyckoff Street => Wyckoff Street\nHyatt Street => Hyatt Street\nBoerum Street => Boerum Street\nLinden Street => Linden Street\nMontell Street => Montell Street\nHall Street => Hall Street\nDupont Street => Dupont Street\nEast 49th Street => East 49th Street\nIndia Street => India Street\nWest 45th Street => West 45th Street\nColumbia Street => Columbia Street\n79th Street => 79th Street\nEast 57th Street => East 57th Street\nAnable Street => Anable Street\nDitmars Street => Ditmars Street\nGouverneur Street => Gouverneur Street\nStagg Street => Stagg Street\nMontgomery Street => Montgomery Street\nKimball Street => Kimball Street\nMarc Street => Marc Street\nLocust Street => Locust Street\n23rd Street => 23rd Street\nLittle West 12th Street => Little West 12th Street\nEast 15th Street => East 15th Street\nDowning Street => Downing Street\nPaxton Street => Paxton Street\nRiver Street => River Street\nConover Street => Conover Street\nWave Street => Wave Street\nOrchard Street => Orchard Street\nGreenwich Street => Greenwich Street\nFayette Street => Fayette Street\nSpencer Street => Spencer Street\nKent Street => Kent Street\nOak Street => Oak Street\n84th Street => 84th Street\n38th Street => 38th Street\nBerry Street => Berry Street\nBeard Street => Beard Street\nWooster Street => Wooster Street\nElk Street => Elk Street\nWest 34th Street => West 34th Street\nHewes Street => Hewes Street\nWillmohr Street => Willmohr Street\nCumberland Street => Cumberland Street\nVan Street => Van Street\nJay Street => Jay Street\nCollister Street => Collister Street\nOld Fulton Street => Old Fulton Street\nPerry Street => Perry Street\nTompkins Street => Tompkins Street\nCarroll Street => Carroll Street\nWarren Street => Warren Street\nWest 14th Street => West 14th Street\n11th Street => 11th Street\nHimrod Street => Himrod Street\nWest 31 Street => West 31 Street\nLouisa Street => Louisa Street\nCatherine Street => Catherine Street\nRewe Street => Rewe Street\nCharlton Street => Charlton Street\nRoss Street => Ross Street\nRenwick Street => Renwick Street\nJackson Street => Jackson Street\nState Street => State Street\nWater Street => Water Street\nMcKibbin Street => McKibbin Street\n62nd Street => 62nd Street\nEast 62nd Street => East 62nd Street\nMadison Street => Madison Street\nRidge Street => Ridge Street\nHanover Street => Hanover Street\nTaylor Street => Taylor Street\nVanderbilt Street => Vanderbilt Street\n57th Street => 57th Street\nRoe Street => Roe Street\nPineapple Street => Pineapple Street\nQueens Street => Queens Street\nHuntington Street => Huntington Street\nDominick Street => Dominick Street\nCreamer Street => Creamer Street\n63rd Street => 63rd Street\n12th Street => 12th Street\nWall Street => Wall Street\nCornell Street => Cornell Street\nBennett Street => Bennett Street\n13th Street => 13th Street\nSouth 1st Street => South 1st Street\nSteinway Street => Steinway Street\nWest 39th Street => West 39th Street\nDevens Street => Devens Street\nWest 30th Street => West 30th Street\nLynch Street => Lynch Street\nTysen Street => Tysen Street\nSharon Street => Sharon Street\nWest 54th Street => West 54th Street\nEssex Street => Essex Street\nGarnet Street => Garnet Street\nMarion Street => Marion Street\nEast 27th Street => East 27th Street\nRichards Street => Richards Street\nEast 10th Street => East 10th Street\n86th Street => 86th Street\n89th Street => 89th Street\n8th Street => 8th Street\nCarmine Street => Carmine Street\nEast 21st Street => East 21st Street\nVan Dam Street => Van Dam Street\nDallas Street => Dallas Street\nMc Kibbin Street => Mc Kibbin Street\nCanal Street => Canal Street\nEast 43rd Street => East 43rd Street\nWest 17th Street => West 17th Street\nRyder Street => Ryder Street\nVan Riper Street => Van Riper Street\nSteuben Street => Steuben Street\nNewel Street => Newel Street\n67th Street => 67th Street\nMacon Street => Macon Street\nEly Street => Ely Street\nTehama Street => Tehama Street\nHarman Street => Harman Street\nSkillman Street => Skillman Street\nCornelia Street => Cornelia Street\nPauw Street => Pauw Street\nE. 4th Street => E. 4th Street\nBleecker Street => Bleecker Street\nBryant Street => Bryant Street\nEast 50th Street => East 50th Street\nWashington Street => Washington Street\nClark Street => Clark Street\nEast 34th Street => East 34th Street\nWest 12th Street => West 12th Street\nDecatur Street => Decatur Street\nCrosshill Street => Crosshill Street\nMiller Street => Miller Street\nWalker Street => Walker Street\nHuron Street => Huron Street\nCrescent Street => Crescent Street\nGerry Street "
     ]
    },
    {
     "name": "stdout",
     "output_type": "stream",
     "text": [
      "=> Gerry Street\nEast 56th Street => East 56th Street\nWaterbury Street => Waterbury Street\nChambers Street => Chambers Street\n39th Street => 39th Street\nBush Street => Bush Street\nPearl Street => Pearl Street\nLudwig Street => Ludwig Street\nDongan Street => Dongan Street\nTapscott Street => Tapscott Street\nGeorge Street => George Street\nCongress Street => Congress Street\nFrost Street => Frost Street\nDyson Street => Dyson Street\n37th Avenue, 14th Street, 21st Street => 37th Avenue, 14th Street, 21st Street\nGrove Street => Grove Street\nBosworth Street => Bosworth Street\nWest 47th Street => West 47th Street\nNelson Street => Nelson Street\nHoward Street => Howard Street\nWest 57th Street => West 57th Street\nWest 23rd Street => West 23rd Street\nNorth 13th Street => North 13th Street\nRector Street => Rector Street\nStory Street => Story Street\nWinant Street => Winant Street\nPlymouth Street => Plymouth Street\nFerris Street => Ferris Street\nWest Thames Street => West Thames Street\nDover Street => Dover Street\nSchermerhorn Street => Schermerhorn Street\nGrattan Street => Grattan Street\nSpruce Street => Spruce Street\nVesey Street => Vesey Street\nGordon Street => Gordon Street\nNorth Moore Street => North Moore Street\nVaret Street => Varet Street\nForrest Street => Forrest Street\n65th Street => 65th Street\nEast 3rd Street => East 3rd Street\nWeehawken Street => Weehawken Street\nEast 60th Street => East 60th Street\nHouston Street => Houston Street\nWest 19th Street => West 19th Street\nSouth Oxford Street => South Oxford Street\nMartense Street => Martense Street\nCrane Street => Crane Street\nEast 94th Street => East 94th Street\nBritton Street => Britton Street\nEast 40th Street => East 40th Street\nSouth 2nd Street => South 2nd Street\nBedford Street => Bedford Street\nEast 13th Street => East 13th Street\nCarlisle Street => Carlisle Street\nLittle Street => Little Street\nClymer Street => Clymer Street\nVan Tuyl Street => Van Tuyl Street\nScholes Street => Scholes Street\nCrosby Street => Crosby Street\nEast 36th Street => East 36th Street\nNavy Street => Navy Street\nGreen Street => Green Street\nBridgewater Street => Bridgewater Street\nCook Street => Cook Street\nVestry Street => Vestry Street\nBuchanan Street => Buchanan Street\nYale Street => Yale Street\nDock Street => Dock Street\nEast 61th Street => East 61th Street\nWest 3rd Street => West 3rd Street\n37th Street => 37th Street\n27th Street => 27th Street\nNorth 1st Street => North 1st Street\nWest 4th Street => West 4th Street\nWest 16th Street => West 16th Street\nLombardy Street => Lombardy Street\nQuincy Street => Quincy Street\nNorth 7th Street => North 7th Street\nMosco Street => Mosco Street\nPurcell Street => Purcell Street\n80th Street => 80th Street\nMill Street => Mill Street\nFerry Street => Ferry Street\nKing Street => King Street\nMinna Street => Minna Street\nHawthorne Street => Hawthorne Street\nDouglass Street => Douglass Street\nBrabant Street => Brabant Street\nBeekman Street => Beekman Street\nRyerson Street => Ryerson Street\n73rd Street => 73rd Street\nQuay Street => Quay Street\nHester Street => Hester Street\nWest 25th Street => West 25th Street\nBarrow Street => Barrow Street\nJohnson Street => Johnson Street\nWest 24th Street => West 24th Street\nWest 41st Street => West 41st Street\n78th Street => 78th Street\nSouth Street => South Street\nFelton Street => Felton Street\nSackett Street => Sackett Street\nWest 56th Street => West 56th Street\nWest 42nd Street => West 42nd Street\nCherry Street => Cherry Street\nJourneay Street => Journeay Street\nNorth 10th Street => North 10th Street\nEddy Street => Eddy Street\nBox Street => Box Street\nDutch Kills Street => Dutch Kills Street\nRivington Street => Rivington Street\n81st Street => 81st Street\nVan Dyke Street => Van Dyke Street\nEast 93rd Street => East 93rd Street\nBrunswick Street => Brunswick Street\nSaint Edwards Street => Saint Edwards Street\nAlbany Street => Albany Street\nDikeman Street => Dikeman Street\nWest Houston Street => West Houston Street\nAmity Street => Amity Street\nPontiac Street => Pontiac Street\nLeroy Street => Leroy Street\nDe Kay Street => De Kay Street\nEast Buchanan Street => East Buchanan Street\nSouth 5th Street => South 5th Street\nHalsey Street => Halsey Street\nAllen Street => Allen Street\nFreeman Street => Freeman Street\nCourt Street => Court Street\nAttorney Street => Attorney Street\nFrean Street => Frean Street\n49th Street => 49th Street\nWalloon Street => Walloon Street\nDodworth Street => Dodworth Street\nOlive Street => Olive Street\n7th Street => 7th Street\nWest Street => West Street\nWest 8th Street => West 8th Street\n85th West Street => 85th West Street\nPenn Street => Penn Street\nMontague Street => Montague Street\nShawnee Street => Shawnee Street\n50th Street => 50th Street\nWest 10th Street => West 10th Street\nEast 54th Street => East 54th Street\nBowne Street => Bowne Street\nEast 9th Street => East 9th Street\nEast 16th Street => East 16th Street\nEast 25th Street => East 25th Street\nHoratio Street => Horatio Street\nWest 33rd Street => West 33rd Street\nWilloughby Street => Willoughby Street\nEast 53rd Street => East 53rd Street\nLawton Street => Lawton Street\nStanhope Street => Stanhope Street\nBayard Street => Bayard Street\n88th Street => 88th Street\nConcord Street => Concord Street\nHomer Street => Homer Street\nAlban Street => Alban Street\nWest 48th Street => West 48th Street\nEast 41st Street => East 41st Street\nFillmore Street => Fillmore Street\nNew Street => New Street\nNewark Street => Newark Street\nRome Street => Rome Street\nProvost Street => Provost Street\n34th Street => 34th Street\nJane Street => Jane Street\nLarkin Street => Larkin Street\nQuinn Street => Quinn Street\nJaffe Street => Jaffe Street\nMilton Street => Milton Street\nEast 37th Street => East 37th Street\nMenahan Street => Menahan Street\n47th Street => 47th Street\nSouth 4th Street => South 4th Street\nMalbone Street => Malbone Street\nGold Street => Gold Street\nDebevoise Street => Debevoise Street\nRapelye Street => Rapelye Street\nWhite Street => White Street\nNorth 3rd Street => North 3rd Street\nFront Street => Front Street\nSouth 9th Street => South 9th Street\nBridge Street => Bridge Street\nWhitehall Street => Whitehall Street\nVan Duzer Street => Van Duzer Street\nNorth 12th Street => North 12th Street\nMac Dougal Street => Mac Dougal Street\nGreene Street => Greene Street\nCleveland Street => Cleveland Street\nHarrison Street => Harrison Street\nLudlow Street => Ludlow Street\nPlatt Street => Platt Street\nAsh Street => Ash Street\nLuquer Street => Luquer Street\nEast 61st Street => East 61st Street\nStaple Street => Staple Street\nOtsego Street => Otsego Street\nPortal Street => Portal Street\nDriprock Street => Driprock Street\n18th Street => 18th Street\n19th Street => 19th Street\n56th Street => 56th Street\nCliff Street => Cliff Street\nGuernsey Street => Guernsey Street\nHendrickson Street => Hendrickson Street\nPierrepont Street => Pierrepont Street\n17th Street => 17th Street\nEast 23rd Street => East 23rd Street\nEast 33rd Street => East 33rd Street\nAnita Street => Anita Street\nNorth 6th Street => North 6th Street\nMarketfield Street => Marketfield Street\nDoyers Street => Doyers Street\n4th Street => 4th Street\nMarket Street => Market Street\nNewkirk Street => Newkirk Street\nAinslie Street => Ainslie Street\n35th Street => 35th Street\nGay Street => Gay Street\n72nd Street => 72nd Street\nEast 91st Street => East 91st Street\nBrownell Street => Brownell Street\nKane Street => Kane Street\nEast 87th Street => East 87th Street\nEast 17th Street => East 17th Street\n225 E 60th Street => 225 E 60th Street\nMain Street => Main Street\nSouth William Street => South William Street\nCenter Street => Center Street\nPurves Street => Purves Street\nArnold Street => Arnold Street\nMinetta Street => Minetta Street\nNorth 15th Street => North 15th Street\nBarclay Street => Barclay Street\nChurch Street => Church Street\nEast 32th Street => East 32th Street\nSanders Street => Sanders Street\n10th Street => 10th Street\nElizabeth Street => Elizabeth Street\nNevins Street => Nevins Street\nStone Street => Stone Street\nMarianne Street => Marianne Street\n33rd Street => 33rd Street\nPitt Street => Pitt Street\nJewel Street => Jewel Street\nEast 12th Street => East 12th Street\nKosciuszko Street => Kosciuszko Street\nBainbridge Street => Bainbridge Street\nNorth 5th Street => North 5th Street\nWorth Street => Worth Street\nWest 20th Street => West 20th Street\nBaltic Street => Baltic Street\nNoll Street => Noll Street\nHowe Street => Howe Street\nRemsen Street => Remsen Street\nHunter Street => Hunter Street\nEast 98th Street => East 98th Street\n28th Street => 28th Street\nPlaza Street => Plaza Street\n9th Street => 9th Street\n58th Street => 58th Street\nRutledge Street => Rutledge Street\nMichael Griffith Street => Michael Griffith Street\nWest 31st Street => West 31st Street\n71st Street => 71st Street\nRodney Street => Rodney Street\nSeabring Street => Seabring Street\nLiberty Street => Liberty Street\nProspect Street => Prospect Street\nBay Street => Bay Street\nBarker Street => Barker Street\n18th East 48th Street => 18th East 48th Street\nForsyth Street => Forsyth Street\n31st Street => 31st Street\nPalmetto Street => Palmetto Street\nBright Street => Bright Street\nEast 42nd Street => East 42nd Street\nDana Street => Dana Street\nOrange Street => Orange Street\nPresident Street => President Street\nSeneca Street => Seneca Street\nArnprior Street => Arnprior Street\nWallabout Street => Wallabout Street\nPoplar Street => Poplar Street\nHenry Street => Henry Street\nJoralemon Street => Joralemon Street\nMorris Street => Morris Street\nNorth 8th Street => North 8th Street\n14th Street => 14th Street\nChrystie Street => Chrystie Street\nBelvedere Street => Belvedere Street\nEast 5th Street => East 5th Street\nVan Brunt Street => Van Brunt Street\nHart Street => Hart Street\nBeaver Street => Beaver Street\nEast 92nd Street => East 92nd Street\nBrewster Street => Brewster Street\nSouth 3rd Street => South 3rd Street\nEast 64th Street => East 64th Street\nDelevan Street => Delevan Street\nLouis Street => Louis Street\nVandam Street => Vandam Street\nChestnut Street => Chestnut Street\n2nd Street => 2nd Street\nMeserole Street => Meserole Street\n41st Street => 41st Street\nPark Street => Park Street\n15th Street => 15th Street\nPell Street => Pell Street\n54th Street => 54th Street\n55th Street => 55th Street\nBanker Street => Banker Street\nNoble Street => Noble Street\nEast 19th Street => East 19th Street\nSaint Felix Street => Saint Felix Street\nWest 15th Street => West 15th Street\n24th Street => 24th Street\nEdgewater Street => Edgewater Street\nWest 28th Street => West 28th Street\nEast 18th Street => East 18th Street\nWest 44th Street => West 44th Street\n51 Nassau Street => 51 Nassau Street\nWest 21st Street => West 21st Street\nWest 32nd Street => West 32nd Street\nBroome Street => Broome Street\nCross Street => Cross Street\nDegraw Street => Degraw Street\nSwan Street => Swan Street\n5th Street => 5th Street\nWest 36th Street => West 36th Street\nEast 44th Street => East 44th Street\nSeeley Street => Seeley Street\nWest 27th Street => West 27th Street\nPine Street => Pine Street\n82nd Street => 82nd Street\nWilson Street => Wilson Street\nWest 13th Street => West 13th Street\nGarden Street => Garden Street\nBartlett Street => Bartlett Street\nEast 32nd Street => East 32nd Street\nWilliam Street => William Street\nJersey Street => Jersey Street\nWemple Street => Wemple Street\n52nd Street => 52nd Street\nEast 55th Street => East 55th Street\n6th Street => 6th Street\nVan Horne Street => Van Horne Street\nSouth 11th Street => South 11th Street\nEast 88th Street => East 88th Street\nOliver Street => Oliver Street\nEast 11th Street => East 11th Street\nThompson Street => Thompson Street\nEast 51st Street => East 51st Street\nWright Street => Wright Street\n29th Street => 29th Street\nAlaska Street => Alaska Street\nEast 35th Street => East 35th Street\nColeman Street => Coleman Street\nEast 38th Street => East 38th Street\nHicks Street => Hicks Street\nBodine Street => Bodine Street\nReade Street => Reade Street\nWhipple Street => Whipple Street\nSterling Street => Sterling Street\nBroad Street => Broad Street\nWest 11th Street => West 11th Street\nHudson Street => Hudson Street\nFloyd Street => Floyd Street\nWalnut Street => Walnut Street\nCranberry Street => Cranberry Street\nWest 51st Street => West 51st Street\nWest 22nd Street => West 22nd Street\nEast 4th Street => East 4th Street\nGansevoort Street => Gansevoort Street\nBaxter Street => Baxter Street\nNicholas Street => Nicholas Street\nDe Graw Street => De Graw Street\nDobbin Street => Dobbin Street\nHalleck Street => Halleck Street\nEast 33th Street => East 33th Street\nHumboldt Street => Humboldt Street\nDutch Street => Dutch Street\nMidwood Street => Midwood Street\nMartineau Street => Martineau Street\nChristopher Street => Christopher Street\nWayne Street => Wayne Street\nBank Street => Bank Street\nSigourney Street => Sigourney Street\n91st Street => 91st Street\nMonroe Street => Monroe Street\nMiddleton Street => Middleton Street\nFranklin Street => Franklin Street\nGrant Street => Grant Street\n3rd Street => 3rd Street\nBogart Street => Bogart Street\n109 East 42nd Street => 109 East 42nd Street\nVerona Street => Verona Street\nAdelphi Street => Adelphi Street\nBethune Street => Bethune Street\nLittle West Street => Little West Street\nVine Street => Vine Street\nWalton Street => Walton Street\nEast 7th Street => East 7th Street\n51st Street => 51st Street\nMarshall Street => Marshall Street\nWest 53rd Street => West 53rd Street\nEast 22nd Street => East 22nd Street\n30th Street => 30th Street\nEast 52nd Street => East 52nd Street\nLorimer Street => Lorimer Street\nPacific Street => Pacific Street\nCrown Street => Crown Street\nEast 63rd Street => East 63rd Street\nThames Street => Thames Street\nMonitor Street => Monitor Street\nCedar Street => Cedar Street\nYork Street => York Street\nDey Street => Dey Street\nWest 9th Street => West 9th Street\nPeter Street => Peter Street\nCoffey Street => Coffey Street\nFleet Street => Fleet Street\nInnis Street => Innis Street\nWest 52nd Street => West 52nd Street\nSutton Street => Sutton Street\nEast 39th Street => East 39th Street\nBergen Street => Bergen Street\n59th Street => 59th Street\nMeadow Street => Meadow Street\nMulberry Street => Mulberry Street\nSouth 6th Street => South 6th Street\nEast 14th Street => East 14th Street\nFord Street => Ford Street\n45th Street => 45th Street\nCortlandt Street => Cortlandt Street\nJones Street => Jones Street\nLeonard Street => Leonard Street\nRevere Street => Revere Street\nSouth 10th Street => South 10th Street\nStarr Street => Starr Street\nPioneer Street => Pioneer Street\n1st Street => 1st Street\nTroutman Street => Troutman Street\nRussell Street => Russell Street\nTownsend Street => Townsend Street\n68th Street => 68th Street\nEast 2nd Street => East 2nd Street\nEast 29th Street => East 29th Street\nEast 8th Street => East 8th Street\nMercer Street => Mercer Street\nImlay Street => Imlay Street\nTillary Street => Tillary Street\nEast Houston Street => East Houston Street\nEast 48th Street => East 48th Street\nHoyt Street => Hoyt Street\nStuyvesant Street => Stuyvesant Street\n76th Street => 76th Street\nTargee Street => Targee Street\nSherman Street => Sherman Street\nWest 35th Street => West 35th Street\nFenimore Street => Fenimore Street\nVreeland Street => Vreeland Street\nDuane Street => Duane Street\nFletcher Street => Fletcher Street\n40th Street => 40th Street\n64th Street => 64th Street\nCalyer Street => Calyer Street\nEast 96th Street => East 96th Street\nEckford Street => Eckford Street\nLloyd Street => Lloyd Street\nHill Street => Hill Street\n74th Street => 74th Street\nWest 18th Street => West 18th Street\nMoore Street => Moore Street\nSullivan Street => Sullivan Street\nMaujer Street => Maujer Street\nDwight Street => Dwight Street\nVan Buren Street => Van Buren Street\nStockton Street => Stockton Street\nGrand Street => Grand Street\nRoxbury Street => Roxbury Street\nEast 47th Street => East 47th Street\nNorth Henry Street => North Henry Street\nMorrow Street => Morrow Street\n25th Street => 25th Street\n43rd Street => 43rd Street\nChauncey Street => Chauncey Street\nWest 38th Street => West 38th Street\nNorth Street => North Street\nCentre Street => Centre Street\nVarick Street => Varick Street\nE 24th Street => E 24th Street\nHancock Street => Hancock Street\nWest 26th Street => West 26th Street\nStanton Street => Stanton Street\nW 36th Street => W 36th Street\nAnthony Street => Anthony Street\nFulton Street => Fulton Street\n90 John Street => 90 John Street\nEast 30th Street => East 30th Street\nPearson Street => Pearson Street\nSuydam Street => Suydam Street\nWillow Street => Willow Street\nNorfolk Street => Norfolk Street\nEast 58th Street => East 58th Street\nPrincess Street => Princess Street\nRoebling Street => Roebling Street\nLivingston Street => Livingston Street\nWalworth Street => Walworth Street\nErie Street => Erie Street\nPulaski Street => Pulaski Street\nWilcox Street => Wilcox Street\nMelrose Street => Melrose Street\nPrince Street => Prince Street\n77th Street => 77th Street\nUnion Street => Union Street\nLawrence Street => Lawrence Street\nHubert Street => Hubert Street\nBache Street => Bache Street\nWest 29th Street => West 29th Street\n47th West Street => 47th West Street\nHerbert Street => Herbert Street\nGray Street => Gray Street\nCaroline Street => Caroline Street\nEast 45th Street => East 45th Street\nRiver Terrace => River Terrace\nRidgecrest Terrace => Ridgecrest Terrace\nSunrise Terrace => Sunrise Terrace\nOakland Terrace => Oakland Terrace\nHarbor View Terrace => Harbor View Terrace\nBay Cliff Terrace => Bay Cliff Terrace\nAlbemarle Terrace => Albemarle Terrace\nKenmore Terrace => Kenmore Terrace\nBliss Terrace => Bliss Terrace\nYork Terrace => York Terrace\nButler Terrace => Butler Terrace\nLouise Terrace => Louise Terrace\nRiverview Terrace => Riverview Terrace\nDaniel Low Terrace => Daniel Low Terrace\nSmith Terrace => Smith Terrace\nPerry Terrace => Perry Terrace\nSlosson Terrace => Slosson Terrace\nEdgar Terrace => Edgar Terrace\nRichmond Terrace => Richmond Terrace\nMontague Terrace => Montague Terrace\nPeck Slip => Peck Slip\nOld Slip => Old Slip\nPike Slip => Pike Slip\nRutgers Slip => Rutgers Slip\nCoenties Slip => Coenties Slip\nCatherine Slip => Catherine Slip\nWashington Square Village => Washington Square Village\nMarin Blvd => Marin Boulevard\nQueens Blvd => Queens Boulevard\nMetroTech => MetroTech\n"
     ]
    }
   ],
   "source": [
    "def update_street_name(name, mapping):\n",
    "\n",
    "    m = street_type_re.search(name)\n",
    "    better_name = name\n",
    "    \n",
    "    if m:\n",
    "        if m.group() in mapping.keys():\n",
    "            better_street_type = mapping[m.group()]\n",
    "            better_name = street_type_re.sub(better_street_type,name)\n",
    "            \n",
    "    return better_name\n",
    "\n",
    "print '**************************MODIFIED STREET NAMES**************************'\n",
    "for street_type, ways in street_types.iteritems():\n",
    "    for name in ways:\n",
    "        better_name = update_street_name(name, mapping)\n",
    "        print name, \"=>\", better_name"
   ]
  },
  {
   "cell_type": "heading",
   "metadata": {},
   "level": 2,
   "source": [
    "3.2 Eliminating Erroneus Pin Codes"
   ]
  },
  {
   "cell_type": "markdown",
   "metadata": {},
   "source": [
    "First we will extract the pin codes, and based on the sampling, we will put in a logic to extract the errors. "
   ]
  },
  {
   "cell_type": "code",
   "execution_count": 33,
   "metadata": {},
   "outputs": [],
   "source": [
    "from collections import defaultdict\n",
    "\n",
    "def list_zipcode(invalid_zipcode,zipcode, categorized_master_list_zipcodes):\n",
    "    initial_digits = zipcode[0:2]   \n",
    "    \n",
    "    \"\"\"\n",
    "    Create an initial set of the expectation and find out outliers\n",
    "    Ref : https://www.unitedstateszipcodes.org/ny/\n",
    "            Shows list of valid zip codes for New York\n",
    "    \"\"\"\n",
    "    if not initial_digits.isdigit():\n",
    "        invalid_zipcode[initial_digits].add(zipcode)   \n",
    "    \n",
    "    elif int(initial_digits) not in [10,11,12,13,14]:\n",
    "        invalid_zipcode[initial_digits].add(zipcode)\n",
    "   \n",
    "    categorized_master_list_zipcodes[initial_digits].add(zipcode)\n",
    "        \n",
    "def is_zipcode(elem):\n",
    "    return (elem.attrib['k'] == \"addr:postcode\")\n",
    "\n",
    "def filter_invalid_zipcodes(osmfile):\n",
    "    osm_file = open(osmfile, \"r\")\n",
    "    invalid_zipcodes = defaultdict(set)\n",
    "    categorized_master_list_zipcodes = defaultdict(set)\n",
    "    for event, elem in ET.iterparse(osm_file, events=(\"start\",)):\n",
    "\n",
    "        if elem.tag == \"node\" or elem.tag == \"way\":\n",
    "            for tag in elem.iter(\"tag\"):\n",
    "                if is_zipcode(tag):\n",
    "                    list_zipcode(invalid_zipcodes,tag.attrib['v'], categorized_master_list_zipcodes)\n",
    "\n",
    "    return invalid_zipcodes, categorized_master_list_zipcodes\n",
    "\n",
    "invalid_zipcodes, categorized_master_list_zipcodes = filter_invalid_zipcodes(osm_file)"
   ]
  },
  {
   "cell_type": "markdown",
   "metadata": {},
   "source": [
    "Most of the data looks correct, and some standardizations can be applied\n",
    "\n",
    "1.\tRemove the leading NY for all the valid 5 digit codes\n",
    "2. \tTrim the data after the leading '-' or ';' character as it might be non standard information\n",
    "\n",
    "There is some data which looks incorrect, like zip codes which start with NJ, or codes which start with 07. Since the data itself is incorrect, no standardizations can be applied"
   ]
  },
  {
   "cell_type": "code",
   "execution_count": 41,
   "metadata": {},
   "outputs": [
    {
     "name": "stdout",
     "output_type": "stream",
     "text": [
      "11201;11231 => 11201\n11228 => 11228\n11201 => 11201\n11227 => 11227\n11203 => 11203\n11205 => 11205\n11204 => 11204\n11229 => 11229\n11206 => 11206\n11209 => 11209\n11226 => 11226\n11225 => 11225\n11232 => 11232\n11221 => 11221\n11220 => 11220\n11219 => 11219\n11249 => 11249\n11385 => 11385\n11215-9993 => 11215\n11232-2400 => 11232\n11222 => 11222\n11238 => 11238\n11213 => 11213\n11210 => 11210\n11211 => 11211\n11216 => 11216\n11217 => 11217\n11215 => 11215\n11230 => 11230\n11231 => 11231\n11218 => 11218\n11233 => 11233\n11234 => 11234\n11236 => 11236\n11237 => 11237\n11212 => 11212\n11109 => 11109\n11378 => 11378\n11103 => 11103\n11377 => 11377\n11101 => 11101\n11106 => 11106\n11104 => 11104\n11251 => 11251\n11231;11230 => 11231\n10004 => 10004\n10005 => 10005\n10006 => 10006\n10007 => 10007\n10001 => 10001\n10002 => 10002\n10003 => 10003\n10001-2062 => 10001\n10305 => 10305\n10304 => 10304\n10303 => 10303\n10009 => 10009\n10301 => 10301\n10045 => 10045\n10123 => 10123\n10016-0122 => 10016\n10022 => 10022\n10121 => 10121\n10020 => 10020\n10018-4527 => 10018\n10036 => 10036\n10302 => 10302\n10271 => 10271\n10065 => 10065\n10112 => 10112\n10168 => 10168\n10174 => 10174\n10023 => 10023\n10021 => 10021\n100014 => 100014\n10103 => 10103\n10017-6927 => 10017\n10111 => 10111\n10002-1013 => 10002\n10152 => 10152\n10110 => 10110\n10154 => 10154\n10155 => 10155\n10310 => 10310\n10314 => 10314\n10055 => 10055\n10282 => 10282\n10280 => 10280\n10281 => 10281\n10019 => 10019\n10018 => 10018\n10038 => 10038\n10013 => 10013\n10012 => 10012\n10011 => 10011\n10010 => 10010\n10017 => 10017\n10016 => 10016\n10275 => 10275\n10014 => 10014\n10044 => 10044\n10169 => 10169\n10048 => 10048\n10012-3332 => 10012\n10011-6832 => 10011\nNJ 07105 => NJ 07105\nNJ 07102 => NJ 07102\n07101 => 07101\n07030 => 07030\n07114 => 07114\n07032 => 07032\n07105 => 07105\n07104 => 07104\n07030-5774 => 07030\n07002 => 07002\n07029 => 07029\n07305-9997 => 07305\n07302-4522 => 07302\n07302 => 07302\n07102 => 07102\n07307 => 07307\n07306 => 07306\n07305 => 07305\n07304 => 07304\n07201 => 07201\n07310 => 07310\n07311 => 07311\n(718) 778-0140 => 718\nNY 10111 => 10111\nNY 10016 => 10016\nNY 11201 => 11201\nNY 10002 => 10002\nNY 10003 => 10003\nNY 10001 => 10001\nNY 10011 => 10011\nNY 10010 => 10010\nNY 10013 => 10013\nNY 10012 => 10012\nNY 10036 => 10036\nNY 10018 => 10018\n"
     ]
    }
   ],
   "source": [
    "def cleanse_invalid_zip_codes(zipcode):           \n",
    "    alpha = re.findall('[a-zA-Z]*', zipcode)\n",
    "    if alpha:\n",
    "        first_few_letters = alpha[0]\n",
    "        \n",
    "        if first_few_letters == 'NJ':\n",
    "            #We wont correct NJ Data\n",
    "            return zip_code\n",
    "        else:\n",
    "            converted_zip_code = re.findall(r'\\d+',zip_code)            \n",
    "            if converted_zip_code:\n",
    "                if converted_zip_code.__len__() > 0:\n",
    "                    #This is a - seperated code\n",
    "                    return converted_zip_code[0]\n",
    "                else:\n",
    "                    return converted_zip_code\n",
    "            else:\n",
    "                #All is well\n",
    "                return zip_code\n",
    "\n",
    "for zip_category, zip_codes in categorized_master_list_zipcodes.iteritems():\n",
    "    for zip_code in zip_codes:\n",
    "        better_code = cleanse_invalid_zip_codes(zip_code)\n",
    "        print zip_code, \"=>\", better_code"
   ]
  },
  {
   "cell_type": "heading",
   "metadata": {},
   "level": 2,
   "source": [
    "Step 4 : Load Data into MongoDB and Insights"
   ]
  },
  {
   "cell_type": "heading",
   "metadata": {},
   "level": 3,
   "source": [
    "4.1 We will first convert the xml to a Json. \n"
   ]
  },
  {
   "cell_type": "markdown",
   "metadata": {},
   "source": [
    "For the purpose we can use the code that we prepared in the case study, where we had the below rules: \n",
    "\n",
    "-\tyou should process only 2 types of top level tags: \"node\" and \"way\"\n",
    "-\tall attributes of \"node\" and \"way\" should be turned into regular key/value pairs, except:\n",
    "-\tattributes in the CREATED array should be added under a key \"created\"\n",
    "-\tattributes for latitude and longitude should be added to a \"pos\" array, for use in geospacial indexing. Make sure the values inside \"pos\" array are floats and not strings.\n",
    "-\tif the second level tag \"k\" value contains problematic characters, it should be ignored\n",
    "-\tif the second level tag \"k\" value starts with \"addr:\", it should be added to a dictionary \"address\"\n",
    "-\tif the second level tag \"k\" value does not start with \"addr:\", but contains \":\", you can process it in a way that you feel is best. For example, you might split it into a two-level dictionary like with \"addr:\", or otherwise convert the \":\" to create a valid key.\n",
    "-\tif there is a second \":\" that separates the type/direction of a street, the tag should be ignored"
   ]
  },
  {
   "cell_type": "code",
   "execution_count": 22,
   "metadata": {},
   "outputs": [],
   "source": [
    "problemchars = re.compile(r'[=\\+/&<>;\\'\"\\?%#$@\\,\\. \\t\\r\\n]')\n",
    "\n",
    "def shape_element(element):\n",
    "    node = {}\n",
    "    if element.tag == \"node\" or element.tag == \"way\":\n",
    "        # YOUR CODE HERE\n",
    "        node['id'] = element.attrib['id']\n",
    "        node['type'] = element.tag\n",
    "        node['visible'] = element.get('visible')\n",
    "        created = dict()\n",
    "        created['version'] = element.attrib['version']\n",
    "        created['changeset'] = element.attrib['changeset']\n",
    "        created['timestamp'] = element.attrib['timestamp']\n",
    "        created['user'] = element.attrib['user']\n",
    "        created['uid'] = element.attrib['uid']\n",
    "        node['created'] = created\n",
    "        if \"lat\" in element.keys() and 'lon' in element.keys():\n",
    "            pos = []\n",
    "            pos.append(float(element.attrib['lat']))\n",
    "            pos.append(float(element.attrib['lon']))\n",
    "            node['pos'] = pos\n",
    "        else:\n",
    "            node['pos'] = None\n",
    "        addr = {}\n",
    "        for tag in element.iter(\"tag\"):\n",
    "            tag_name = tag.attrib['k']\n",
    "        \n",
    "            tag_value = tag.attrib['v']\n",
    "            if problemchars.search(tag_name):\n",
    "                #skip the problem chars\n",
    "                continue\n",
    "            if 'addr'in tag_name:\n",
    "                add_key = tag_name.split(':',1)[1]\n",
    "                if add_key in ('housenumber', 'street'):\n",
    "                    addr[add_key] = tag_value\n",
    "            elif tag_name == \"name\":\n",
    "                node['name'] = tag_value\n",
    "            elif tag_name == 'phone':\n",
    "                node['phone'] = tag_value\n",
    "            elif tag_name == 'amenity':\n",
    "                node['amenity'] = tag_value\n",
    "            elif tag_name == 'cuisine':\n",
    "                node['cuisine'] = tag_value\n",
    "            node['address'] = addr\n",
    "        \n",
    "\n",
    "\n",
    "        return node\n",
    "    else:\n",
    "        return None"
   ]
  },
  {
   "cell_type": "code",
   "execution_count": 23,
   "metadata": {},
   "outputs": [],
   "source": [
    "def process_map(file_in, pretty=False):\n",
    "    # You do not need to change this file\n",
    "    file_out = \"{0}.json\".format(file_in)\n",
    "    data = []\n",
    "    with codecs.open(file_out, \"w\") as fo:\n",
    "        for _, element in ET.iterparse(file_in):\n",
    "            el = shape_element(element)\n",
    "            if el:\n",
    "                data.append(el)\n",
    "                if pretty:\n",
    "                    fo.write(json.dumps(el, indent=2) + \"\\n\")\n",
    "                else:\n",
    "                    fo.write(json.dumps(el) + \"\\n\")\n",
    "    return data"
   ]
  },
  {
   "cell_type": "code",
   "execution_count": 24,
   "metadata": {},
   "outputs": [
    {
     "name": "stdout",
     "output_type": "stream",
     "text": [
      "{'created': {'changeset': '41015803',\n             'timestamp': '2016-07-25T17:17:46Z',\n             'uid': '326503',\n             'user': 'wambag',\n             'version': '4'},\n 'id': '26769789',\n 'pos': [40.6995927, -74.1868914],\n 'type': 'node',\n 'visible': None}\n{'created': {'changeset': '40698552',\n             'timestamp': '2016-07-12T22:13:28Z',\n             'uid': '326503',\n             'user': 'wambag',\n             'version': '5'},\n 'id': '26769792',\n 'pos': [40.6962016, -74.1779077],\n 'type': 'node',\n 'visible': None}\n{'address': {},\n 'created': {'changeset': '41096881',\n             'timestamp': '2016-07-28T23:41:20Z',\n             'uid': '326503',\n             'user': 'wambag',\n             'version': '5'},\n 'id': '26769800',\n 'pos': [40.685869, -74.1908483],\n 'type': 'node',\n 'visible': None}\n{'created': {'changeset': '41096881',\n             'timestamp': '2016-07-28T23:41:20Z',\n             'uid': '326503',\n             'user': 'wambag',\n             'version': '5'},\n 'id': '26769802',\n 'pos': [40.6866906, -74.1907921],\n 'type': 'node',\n 'visible': None}\n{'created': {'changeset': '41024408',\n             'timestamp': '2016-07-25T22:35:09Z',\n             'uid': '326503',\n             'user': 'wambag',\n             'version': '5'},\n 'id': '26769831',\n 'pos': [40.6919659, -74.1761197],\n 'type': 'node',\n 'visible': None}\n{'created': {'changeset': '41024408',\n             'timestamp': '2016-07-25T22:35:09Z',\n             'uid': '326503',\n             'user': 'wambag',\n             'version': '5'},\n 'id': '26769832',\n 'pos': [40.6927831, -74.1759395],\n 'type': 'node',\n 'visible': None}\n{'created': {'changeset': '41024408',\n             'timestamp': '2016-07-25T22:35:09Z',\n             'uid': '326503',\n             'user': 'wambag',\n             'version': '6'},\n 'id': '26769833',\n 'pos': [40.6938011, -74.1759406],\n 'type': 'node',\n 'visible': None}\n{'created': {'changeset': '41015803',\n             'timestamp': '2016-07-25T17:22:04Z',\n             'uid': '326503',\n             'user': 'wambag',\n             'version': '5'},\n 'id': '26769836',\n 'pos': [40.6942619, -74.176022],\n 'type': 'node',\n 'visible': None}\n{'created': {'changeset': '41015803',\n             'timestamp': '2016-07-25T17:22:04Z',\n             'uid': '326503',\n             'user': 'wambag',\n             'version': '5'},\n 'id': '26769838',\n 'pos': [40.694644, -74.1761407],\n 'type': 'node',\n 'visible': None}\n{'created': {'changeset': '40698552',\n             'timestamp': '2016-07-12T22:13:28Z',\n             'uid': '326503',\n             'user': 'wambag',\n             'version': '5'},\n 'id': '26769847',\n 'pos': [40.6962433, -74.1784615],\n 'type': 'node',\n 'visible': None}\n"
     ]
    }
   ],
   "source": [
    "#osm_file = 'sample.osm'\n",
    "data = process_map(osm_file)\n",
    "\n",
    "for i in range(10):\n",
    "    pprint.pprint(data[i])"
   ]
  },
  {
   "cell_type": "heading",
   "metadata": {},
   "level": 3,
   "source": [
    "4.2 Inserting Data into Mongo"
   ]
  },
  {
   "cell_type": "code",
   "execution_count": 25,
   "metadata": {},
   "outputs": [
    {
     "name": "stdout",
     "output_type": "stream",
     "text": [
      "{u'created': {u'changeset': u'41015803', u'version': u'4', u'uid': u'326503', u'timestamp': u'2016-07-25T17:17:46Z', u'user': u'wambag'}, u'pos': [40.6995927, -74.1868914], u'visible': None, u'_id': ObjectId('59898f46601fb725dc681c2e'), u'type': u'node', u'id': u'26769789'}\n"
     ]
    }
   ],
   "source": [
    "client = MongoClient(\"mongodb://localhost:27017\")\n",
    "\n",
    "db  = client.NewYorkOSMDB\n",
    "db.drop\n",
    "collection = db.NewYorkMap\n",
    "#remove any stale data if its present\n",
    "db.NewYorkMap.drop()\n",
    "#insert the json Map\n",
    "collection.insert_many(data)\n",
    "\n",
    "print db.NewYorkMap.find_one()"
   ]
  },
  {
   "cell_type": "code",
   "execution_count": 19,
   "metadata": {},
   "outputs": [
    {
     "data": {
      "text/plain": [
       "Collection(Database(MongoClient(host=['localhost:27017'], document_class=dict, tz_aware=False, connect=True), u'NewYorkOSMDB'), u'NewYorkMap')"
      ]
     },
     "execution_count": 19,
     "metadata": {},
     "output_type": "execute_result"
    }
   ],
   "source": [
    "collection"
   ]
  },
  {
   "cell_type": "markdown",
   "metadata": {},
   "source": [
    "Compute relative sizes"
   ]
  },
  {
   "cell_type": "code",
   "execution_count": 26,
   "metadata": {},
   "outputs": [
    {
     "name": "stdout",
     "output_type": "stream",
     "text": [
      "The JSON File size is 520.55966 MB\n"
     ]
    }
   ],
   "source": [
    "print 'The JSON File size is {} MB'.format(os.path.getsize(osm_file+'.json')/1.0e6) #1.0e6 is used to convert the bits to bytes"
   ]
  },
  {
   "cell_type": "markdown",
   "metadata": {},
   "source": [
    "This is bit more to the original file size ie  511.26328 MB, due to the descriptive JSON format. Without doubt the entire Map is loaded"
   ]
  },
  {
   "cell_type": "heading",
   "metadata": {},
   "level": 3,
   "source": [
    "4.3 Generating Insights using MongoDB Pipelines"
   ]
  },
  {
   "cell_type": "code",
   "execution_count": 40,
   "metadata": {},
   "outputs": [
    {
     "name": "stdout",
     "output_type": "stream",
     "text": [
      "There are totally 2271746 records in the New York Map Collection\n"
     ]
    },
    {
     "name": "stdout",
     "output_type": "stream",
     "text": [
      "There are 2136 unique contributors \n"
     ]
    }
   ],
   "source": [
    "all = collection.find()\n",
    "print 'There are totally {} records in the New York Map Collection'.format(all.count())\n",
    "\n",
    "print 'There are {} unique contributors '.format(len(collection.distinct('created.user')))\n"
   ]
  },
  {
   "cell_type": "code",
   "execution_count": 46,
   "metadata": {},
   "outputs": [
    {
     "name": "stdout",
     "output_type": "stream",
     "text": [
      "The are 1925728 Nodes in this data set\n"
     ]
    },
    {
     "name": "stdout",
     "output_type": "stream",
     "text": [
      "There are 346018 Ways in this data set\n"
     ]
    }
   ],
   "source": [
    "print \"The are {} Nodes in this data set\".format(collection.find({'type': 'node'}).count())\n",
    "print \"There are {} Ways in this data set\".format(collection.find({'type': 'way'}).count())"
   ]
  },
  {
   "cell_type": "code",
   "execution_count": null,
   "metadata": {},
   "outputs": [],
   "source": [
    ""
   ]
  }
 ],
 "metadata": {
  "kernelspec": {
   "display_name": "Python 2",
   "language": "python",
   "name": "python2"
  },
  "language_info": {
   "codemirror_mode": {
    "name": "ipython",
    "version": 2.0
   },
   "file_extension": ".py",
   "mimetype": "text/x-python",
   "name": "python",
   "nbconvert_exporter": "python",
   "pygments_lexer": "ipython2",
   "version": "2.7.6"
  }
 },
 "nbformat": 4,
 "nbformat_minor": 0
}