{
 "cells": [
  {
   "cell_type": "heading",
   "metadata": {
    "collapsed": true
   },
   "level": 1,
   "source": [
    "Wrangling Open Street Map Data using Python and MongoDB"
   ]
  },
  {
   "cell_type": "heading",
   "metadata": {},
   "level": 2,
   "source": [
    "Details of the Area "
   ]
  },
  {
   "cell_type": "markdown",
   "metadata": {},
   "source": [
    "1. Location :\n",
    "2. Motivation :  \n",
    "3. DataSet : "
   ]
  },
  {
   "cell_type": "heading",
   "metadata": {},
   "level": 2,
   "source": [
    "Objective"
   ]
  },
  {
   "cell_type": "markdown",
   "metadata": {},
   "source": [
    "You will choose any area of the world in https://www.openstreetmap.org and use data munging techniques, such as assessing the quality of the data for validity, accuracy, completeness, consistency and uniformity, to clean the OpenStreetMap data for a part of the world that you care about. Finally, you will choose either MongoDB or SQL as the data schema to complete your project."
   ]
  },
  {
   "cell_type": "heading",
   "metadata": {},
   "level": 1,
   "source": [
    "Reference :"
   ]
  },
  {
   "cell_type": "markdown",
   "metadata": {},
   "source": [
    "1. Udacity \"Data Wrangling Using Mongo DB\" (Lesson 6)\n",
    "2. Mongo DB Docs "
   ]
  },
  {
   "cell_type": "heading",
   "metadata": {},
   "level": 2,
   "source": [
    "Steps  : "
   ]
  },
  {
   "cell_type": "markdown",
   "metadata": {},
   "source": [
    "1. Data Download\n",
    "2. Data Audit\n",
    "3. Data Cleansing/Problem Resolution\n",
    "4. Load Data into MongoDB and Insights \n",
    "5. Conclusion"
   ]
  },
  {
   "cell_type": "heading",
   "metadata": {},
   "level": 2,
   "source": [
    "Step 1: Data Download"
   ]
  },
  {
   "cell_type": "heading",
   "metadata": {},
   "level": 3,
   "source": [
    "1.1 Extracting using Python "
   ]
  },
  {
   "cell_type": "markdown",
   "metadata": {},
   "source": [
    "I can extract using the Overpass API using the Co-ordinates that are specified in the code below"
   ]
  },
  {
   "cell_type": "code",
   "execution_count": 4,
   "metadata": {},
   "outputs": [
    {
     "ename": "IOError",
     "evalue": "[Errno socket error] [Errno 11004] getaddrinfo failed",
     "traceback": [
      "\u001b[0;31m\u001b[0m",
      "\u001b[0;31mIOError\u001b[0mTraceback (most recent call last)",
      "\u001b[0;32m<ipython-input-4-75744a56fe99>\u001b[0m in \u001b[0;36m<module>\u001b[0;34m()\u001b[0m\n\u001b[1;32m      2\u001b[0m \u001b[1;31m#for the Overpass API Git\u001b[0m\u001b[1;33m\u001b[0m\u001b[1;33m\u001b[0m\u001b[0m\n\u001b[1;32m      3\u001b[0m \u001b[0mfile00\u001b[0m \u001b[1;33m=\u001b[0m \u001b[0murllib\u001b[0m\u001b[1;33m.\u001b[0m\u001b[0mURLopener\u001b[0m\u001b[1;33m(\u001b[0m\u001b[1;33m)\u001b[0m\u001b[1;33m\u001b[0m\u001b[0m\n\u001b[0;32m----> 4\u001b[0;31m \u001b[0mfile00\u001b[0m\u001b[1;33m.\u001b[0m\u001b[0mretrieve\u001b[0m\u001b[1;33m(\u001b[0m\u001b[1;34m\"http://overpass-api.de/api/map? bbox=77.3901,12.8620,77.7973,13.0815\"\u001b[0m\u001b[1;33m,\u001b[0m \u001b[1;34m\"P3 - Data Wrangling using NoSQL/bengaluru_india.osm/bengaluru_india1.osm\"\u001b[0m\u001b[1;33m)\u001b[0m\u001b[1;33m\u001b[0m\u001b[0m\n\u001b[0m",
      "\u001b[0;32mC:\\anaconda3\\envs\\DAND\\lib\\urllib.pyc\u001b[0m in \u001b[0;36mretrieve\u001b[0;34m(self, url, filename, reporthook, data)\u001b[0m\n\u001b[1;32m    243\u001b[0m             \u001b[1;32mexcept\u001b[0m \u001b[0mIOError\u001b[0m\u001b[1;33m:\u001b[0m\u001b[1;33m\u001b[0m\u001b[0m\n\u001b[1;32m    244\u001b[0m                 \u001b[1;32mpass\u001b[0m\u001b[1;33m\u001b[0m\u001b[0m\n\u001b[0;32m--> 245\u001b[0;31m         \u001b[0mfp\u001b[0m \u001b[1;33m=\u001b[0m \u001b[0mself\u001b[0m\u001b[1;33m.\u001b[0m\u001b[0mopen\u001b[0m\u001b[1;33m(\u001b[0m\u001b[0murl\u001b[0m\u001b[1;33m,\u001b[0m \u001b[0mdata\u001b[0m\u001b[1;33m)\u001b[0m\u001b[1;33m\u001b[0m\u001b[0m\n\u001b[0m\u001b[1;32m    246\u001b[0m         \u001b[1;32mtry\u001b[0m\u001b[1;33m:\u001b[0m\u001b[1;33m\u001b[0m\u001b[0m\n\u001b[1;32m    247\u001b[0m             \u001b[0mheaders\u001b[0m \u001b[1;33m=\u001b[0m \u001b[0mfp\u001b[0m\u001b[1;33m.\u001b[0m\u001b[0minfo\u001b[0m\u001b[1;33m(\u001b[0m\u001b[1;33m)\u001b[0m\u001b[1;33m\u001b[0m\u001b[0m\n",
      "\u001b[0;32mC:\\anaconda3\\envs\\DAND\\lib\\urllib.pyc\u001b[0m in \u001b[0;36mopen\u001b[0;34m(self, fullurl, data)\u001b[0m\n\u001b[1;32m    211\u001b[0m         \u001b[1;32mtry\u001b[0m\u001b[1;33m:\u001b[0m\u001b[1;33m\u001b[0m\u001b[0m\n\u001b[1;32m    212\u001b[0m             \u001b[1;32mif\u001b[0m \u001b[0mdata\u001b[0m \u001b[1;32mis\u001b[0m \u001b[0mNone\u001b[0m\u001b[1;33m:\u001b[0m\u001b[1;33m\u001b[0m\u001b[0m\n\u001b[0;32m--> 213\u001b[0;31m                 \u001b[1;32mreturn\u001b[0m \u001b[0mgetattr\u001b[0m\u001b[1;33m(\u001b[0m\u001b[0mself\u001b[0m\u001b[1;33m,\u001b[0m \u001b[0mname\u001b[0m\u001b[1;33m)\u001b[0m\u001b[1;33m(\u001b[0m\u001b[0murl\u001b[0m\u001b[1;33m)\u001b[0m\u001b[1;33m\u001b[0m\u001b[0m\n\u001b[0m\u001b[1;32m    214\u001b[0m             \u001b[1;32melse\u001b[0m\u001b[1;33m:\u001b[0m\u001b[1;33m\u001b[0m\u001b[0m\n\u001b[1;32m    215\u001b[0m                 \u001b[1;32mreturn\u001b[0m \u001b[0mgetattr\u001b[0m\u001b[1;33m(\u001b[0m\u001b[0mself\u001b[0m\u001b[1;33m,\u001b[0m \u001b[0mname\u001b[0m\u001b[1;33m)\u001b[0m\u001b[1;33m(\u001b[0m\u001b[0murl\u001b[0m\u001b[1;33m,\u001b[0m \u001b[0mdata\u001b[0m\u001b[1;33m)\u001b[0m\u001b[1;33m\u001b[0m\u001b[0m\n",
      "\u001b[0;32mC:\\anaconda3\\envs\\DAND\\lib\\urllib.pyc\u001b[0m in \u001b[0;36mopen_http\u001b[0;34m(self, url, data)\u001b[0m\n\u001b[1;32m    348\u001b[0m         \u001b[1;32mif\u001b[0m \u001b[0mrealhost\u001b[0m\u001b[1;33m:\u001b[0m \u001b[0mh\u001b[0m\u001b[1;33m.\u001b[0m\u001b[0mputheader\u001b[0m\u001b[1;33m(\u001b[0m\u001b[1;34m'Host'\u001b[0m\u001b[1;33m,\u001b[0m \u001b[0mrealhost\u001b[0m\u001b[1;33m)\u001b[0m\u001b[1;33m\u001b[0m\u001b[0m\n\u001b[1;32m    349\u001b[0m         \u001b[1;32mfor\u001b[0m \u001b[0margs\u001b[0m \u001b[1;32min\u001b[0m \u001b[0mself\u001b[0m\u001b[1;33m.\u001b[0m\u001b[0maddheaders\u001b[0m\u001b[1;33m:\u001b[0m \u001b[0mh\u001b[0m\u001b[1;33m.\u001b[0m\u001b[0mputheader\u001b[0m\u001b[1;33m(\u001b[0m\u001b[1;33m*\u001b[0m\u001b[0margs\u001b[0m\u001b[1;33m)\u001b[0m\u001b[1;33m\u001b[0m\u001b[0m\n\u001b[0;32m--> 350\u001b[0;31m         \u001b[0mh\u001b[0m\u001b[1;33m.\u001b[0m\u001b[0mendheaders\u001b[0m\u001b[1;33m(\u001b[0m\u001b[0mdata\u001b[0m\u001b[1;33m)\u001b[0m\u001b[1;33m\u001b[0m\u001b[0m\n\u001b[0m\u001b[1;32m    351\u001b[0m         \u001b[0merrcode\u001b[0m\u001b[1;33m,\u001b[0m \u001b[0merrmsg\u001b[0m\u001b[1;33m,\u001b[0m \u001b[0mheaders\u001b[0m \u001b[1;33m=\u001b[0m \u001b[0mh\u001b[0m\u001b[1;33m.\u001b[0m\u001b[0mgetreply\u001b[0m\u001b[1;33m(\u001b[0m\u001b[1;33m)\u001b[0m\u001b[1;33m\u001b[0m\u001b[0m\n\u001b[1;32m    352\u001b[0m         \u001b[0mfp\u001b[0m \u001b[1;33m=\u001b[0m \u001b[0mh\u001b[0m\u001b[1;33m.\u001b[0m\u001b[0mgetfile\u001b[0m\u001b[1;33m(\u001b[0m\u001b[1;33m)\u001b[0m\u001b[1;33m\u001b[0m\u001b[0m\n",
      "\u001b[0;32mC:\\anaconda3\\envs\\DAND\\lib\\httplib.pyc\u001b[0m in \u001b[0;36mendheaders\u001b[0;34m(self, message_body)\u001b[0m\n\u001b[1;32m   1051\u001b[0m         \u001b[1;32melse\u001b[0m\u001b[1;33m:\u001b[0m\u001b[1;33m\u001b[0m\u001b[0m\n\u001b[1;32m   1052\u001b[0m             \u001b[1;32mraise\u001b[0m \u001b[0mCannotSendHeader\u001b[0m\u001b[1;33m(\u001b[0m\u001b[1;33m)\u001b[0m\u001b[1;33m\u001b[0m\u001b[0m\n\u001b[0;32m-> 1053\u001b[0;31m         \u001b[0mself\u001b[0m\u001b[1;33m.\u001b[0m\u001b[0m_send_output\u001b[0m\u001b[1;33m(\u001b[0m\u001b[0mmessage_body\u001b[0m\u001b[1;33m)\u001b[0m\u001b[1;33m\u001b[0m\u001b[0m\n\u001b[0m\u001b[1;32m   1054\u001b[0m \u001b[1;33m\u001b[0m\u001b[0m\n\u001b[1;32m   1055\u001b[0m     \u001b[1;32mdef\u001b[0m \u001b[0mrequest\u001b[0m\u001b[1;33m(\u001b[0m\u001b[0mself\u001b[0m\u001b[1;33m,\u001b[0m \u001b[0mmethod\u001b[0m\u001b[1;33m,\u001b[0m \u001b[0murl\u001b[0m\u001b[1;33m,\u001b[0m \u001b[0mbody\u001b[0m\u001b[1;33m=\u001b[0m\u001b[0mNone\u001b[0m\u001b[1;33m,\u001b[0m \u001b[0mheaders\u001b[0m\u001b[1;33m=\u001b[0m\u001b[1;33m{\u001b[0m\u001b[1;33m}\u001b[0m\u001b[1;33m)\u001b[0m\u001b[1;33m:\u001b[0m\u001b[1;33m\u001b[0m\u001b[0m\n",
      "\u001b[0;32mC:\\anaconda3\\envs\\DAND\\lib\\httplib.pyc\u001b[0m in \u001b[0;36m_send_output\u001b[0;34m(self, message_body)\u001b[0m\n\u001b[1;32m    895\u001b[0m             \u001b[0mmsg\u001b[0m \u001b[1;33m+=\u001b[0m \u001b[0mmessage_body\u001b[0m\u001b[1;33m\u001b[0m\u001b[0m\n\u001b[1;32m    896\u001b[0m             \u001b[0mmessage_body\u001b[0m \u001b[1;33m=\u001b[0m \u001b[0mNone\u001b[0m\u001b[1;33m\u001b[0m\u001b[0m\n\u001b[0;32m--> 897\u001b[0;31m         \u001b[0mself\u001b[0m\u001b[1;33m.\u001b[0m\u001b[0msend\u001b[0m\u001b[1;33m(\u001b[0m\u001b[0mmsg\u001b[0m\u001b[1;33m)\u001b[0m\u001b[1;33m\u001b[0m\u001b[0m\n\u001b[0m\u001b[1;32m    898\u001b[0m         \u001b[1;32mif\u001b[0m \u001b[0mmessage_body\u001b[0m \u001b[1;32mis\u001b[0m \u001b[1;32mnot\u001b[0m \u001b[0mNone\u001b[0m\u001b[1;33m:\u001b[0m\u001b[1;33m\u001b[0m\u001b[0m\n\u001b[1;32m    899\u001b[0m             \u001b[1;31m#message_body was not a string (i.e. it is a file) and\u001b[0m\u001b[1;33m\u001b[0m\u001b[1;33m\u001b[0m\u001b[0m\n",
      "\u001b[0;32mC:\\anaconda3\\envs\\DAND\\lib\\httplib.pyc\u001b[0m in \u001b[0;36msend\u001b[0;34m(self, data)\u001b[0m\n\u001b[1;32m    857\u001b[0m         \u001b[1;32mif\u001b[0m \u001b[0mself\u001b[0m\u001b[1;33m.\u001b[0m\u001b[0msock\u001b[0m \u001b[1;32mis\u001b[0m \u001b[0mNone\u001b[0m\u001b[1;33m:\u001b[0m\u001b[1;33m\u001b[0m\u001b[0m\n\u001b[1;32m    858\u001b[0m             \u001b[1;32mif\u001b[0m \u001b[0mself\u001b[0m\u001b[1;33m.\u001b[0m\u001b[0mauto_open\u001b[0m\u001b[1;33m:\u001b[0m\u001b[1;33m\u001b[0m\u001b[0m\n\u001b[0;32m--> 859\u001b[0;31m                 \u001b[0mself\u001b[0m\u001b[1;33m.\u001b[0m\u001b[0mconnect\u001b[0m\u001b[1;33m(\u001b[0m\u001b[1;33m)\u001b[0m\u001b[1;33m\u001b[0m\u001b[0m\n\u001b[0m\u001b[1;32m    860\u001b[0m             \u001b[1;32melse\u001b[0m\u001b[1;33m:\u001b[0m\u001b[1;33m\u001b[0m\u001b[0m\n\u001b[1;32m    861\u001b[0m                 \u001b[1;32mraise\u001b[0m \u001b[0mNotConnected\u001b[0m\u001b[1;33m(\u001b[0m\u001b[1;33m)\u001b[0m\u001b[1;33m\u001b[0m\u001b[0m\n",
      "\u001b[0;32mC:\\anaconda3\\envs\\DAND\\lib\\httplib.pyc\u001b[0m in \u001b[0;36mconnect\u001b[0;34m(self)\u001b[0m\n\u001b[1;32m    834\u001b[0m         \u001b[1;34m\"\"\"Connect to the host and port specified in __init__.\"\"\"\u001b[0m\u001b[1;33m\u001b[0m\u001b[0m\n\u001b[1;32m    835\u001b[0m         self.sock = self._create_connection((self.host,self.port),\n\u001b[0;32m--> 836\u001b[0;31m                                            self.timeout, self.source_address)\n\u001b[0m\u001b[1;32m    837\u001b[0m \u001b[1;33m\u001b[0m\u001b[0m\n\u001b[1;32m    838\u001b[0m         \u001b[1;32mif\u001b[0m \u001b[0mself\u001b[0m\u001b[1;33m.\u001b[0m\u001b[0m_tunnel_host\u001b[0m\u001b[1;33m:\u001b[0m\u001b[1;33m\u001b[0m\u001b[0m\n",
      "\u001b[0;32mC:\\anaconda3\\envs\\DAND\\lib\\socket.pyc\u001b[0m in \u001b[0;36mcreate_connection\u001b[0;34m(address, timeout, source_address)\u001b[0m\n\u001b[1;32m    555\u001b[0m     \u001b[0mhost\u001b[0m\u001b[1;33m,\u001b[0m \u001b[0mport\u001b[0m \u001b[1;33m=\u001b[0m \u001b[0maddress\u001b[0m\u001b[1;33m\u001b[0m\u001b[0m\n\u001b[1;32m    556\u001b[0m     \u001b[0merr\u001b[0m \u001b[1;33m=\u001b[0m \u001b[0mNone\u001b[0m\u001b[1;33m\u001b[0m\u001b[0m\n\u001b[0;32m--> 557\u001b[0;31m     \u001b[1;32mfor\u001b[0m \u001b[0mres\u001b[0m \u001b[1;32min\u001b[0m \u001b[0mgetaddrinfo\u001b[0m\u001b[1;33m(\u001b[0m\u001b[0mhost\u001b[0m\u001b[1;33m,\u001b[0m \u001b[0mport\u001b[0m\u001b[1;33m,\u001b[0m \u001b[1;36m0\u001b[0m\u001b[1;33m,\u001b[0m \u001b[0mSOCK_STREAM\u001b[0m\u001b[1;33m)\u001b[0m\u001b[1;33m:\u001b[0m\u001b[1;33m\u001b[0m\u001b[0m\n\u001b[0m\u001b[1;32m    558\u001b[0m         \u001b[0maf\u001b[0m\u001b[1;33m,\u001b[0m \u001b[0msocktype\u001b[0m\u001b[1;33m,\u001b[0m \u001b[0mproto\u001b[0m\u001b[1;33m,\u001b[0m \u001b[0mcanonname\u001b[0m\u001b[1;33m,\u001b[0m \u001b[0msa\u001b[0m \u001b[1;33m=\u001b[0m \u001b[0mres\u001b[0m\u001b[1;33m\u001b[0m\u001b[0m\n\u001b[1;32m    559\u001b[0m         \u001b[0msock\u001b[0m \u001b[1;33m=\u001b[0m \u001b[0mNone\u001b[0m\u001b[1;33m\u001b[0m\u001b[0m\n",
      "\u001b[0;31mIOError\u001b[0m: [Errno socket error] [Errno 11004] getaddrinfo failed"
     ],
     "output_type": "error"
    }
   ],
   "source": [
    "import urllib\n",
    "#for the Overpass API Git\n",
    "file00 = urllib.URLopener()\n",
    "file00.retrieve(\"http://overpass-api.de/api/map? bbox=77.3901,12.8620,77.7973,13.0815\", \"P3 - Data Wrangling using NoSQL/bengaluru_india.osm/bengaluru_india1.osm\")"
   ]
  },
  {
   "cell_type": "heading",
   "metadata": {},
   "level": 3,
   "source": [
    ""
   ]
  },
  {
   "cell_type": "markdown",
   "metadata": {},
   "source": [
    "I can also download the predefined extract using MapZen, which can be downloaded using a link\n",
    "[https://mapzen.com/data/metro-extracts/metro/bengaluru_india](https://mapzen.com/data/metro-extracts/metro/bengaluru_india/)\n",
    "The downloaded data is available in this project itself"
   ]
  },
  {
   "cell_type": "code",
   "execution_count": 7,
   "metadata": {},
   "outputs": [],
   "source": [
    "#Imports Master\n",
    "\n",
    "import xml.etree.cElementTree as ET\n",
    "import pprint\n",
    "import re\n",
    "import codecs\n",
    "import json\n",
    "import collections\n",
    "import pymongo\n",
    "from pymongo import MongoClient\n",
    "import os"
   ]
  },
  {
   "cell_type": "code",
   "execution_count": 26,
   "metadata": {},
   "outputs": [
    {
     "data": {
      "text/plain": [
       "True"
      ]
     },
     "execution_count": 26,
     "metadata": {},
     "output_type": "execute_result"
    }
   ],
   "source": [
    "#File Master\n",
    "\n",
    "osm_file = \"P3 - Data Wrangling using NoSQL/bengaluru_india.osm/bengaluru_india.osm\"\n",
    "#osm_file = \"P3 - Data Wrangling using NoSQL/dubai_abu-dhabi.osm/dubai_abu-dhabi.osm\"\n",
    "os.path.exists(osm_file)"
   ]
  },
  {
   "cell_type": "code",
   "execution_count": 27,
   "metadata": {},
   "outputs": [
    {
     "name": "stdout",
     "output_type": "stream",
     "text": [
      "The size of the OSM file is 648.163414\n"
     ]
    }
   ],
   "source": [
    "print 'The size of the OSM file is {}'.format(os.path.getsize(osm_file)/1.0e6)"
   ]
  },
  {
   "cell_type": "heading",
   "metadata": {},
   "level": 2,
   "source": [
    "Step 2 : Data Audit"
   ]
  },
  {
   "cell_type": "heading",
   "metadata": {},
   "level": 3,
   "source": [
    "2.1 Count the No of Nodes, Ways, Relations"
   ]
  },
  {
   "cell_type": "code",
   "execution_count": 32,
   "metadata": {},
   "outputs": [
    {
     "name": "stdout",
     "output_type": "stream",
     "text": [
      "P3 - Data Wrangling using NoSQL/bengaluru_india.osm/bengaluru_india.osm\n"
     ]
    },
    {
     "data": {
      "text/plain": [
       "{'bounds': 1,\n 'member': 6502,\n 'nd': 3570566,\n 'node': 2878136,\n 'osm': 1,\n 'relation': 964,\n 'tag': 815941,\n 'way': 659915}"
      ]
     },
     "execution_count": 31,
     "metadata": {},
     "output_type": "execute_result"
    }
   ],
   "source": [
    "#Using Lesson 6 Will count the no of tags\n",
    "\n",
    "def count_tags(filename):\n",
    "    tags = {}\n",
    "    print filename\n",
    "    for event,elem in ET.iterparse(filename):\n",
    "        if elem.tag in tags:\n",
    "            tags[elem.tag] += 1\n",
    "        else:\n",
    "            tags[elem.tag] = 1\n",
    "    return tags\n",
    "\n",
    "count_tags(osm_file)"
   ]
  },
  {
   "cell_type": "heading",
   "metadata": {},
   "level": 3,
   "source": [
    "2.2 Create a small sample file, to look at the Output, to Analyse the tags"
   ]
  },
  {
   "cell_type": "code",
   "execution_count": 33,
   "metadata": {},
   "outputs": [
    {
     "name": "stdout",
     "output_type": "stream",
     "text": [
      "<node changeset=\"16957521\" id=\"17327077\" lat=\"12.9026964\" lon=\"77.5949117\" timestamp=\"2013-07-15T08:10:50Z\" uid=\"634020\" user=\"user_634020\" version=\"4\" />\n\t\n<node changeset=\"18611831\" id=\"17327092\" lat=\"12.9063367\" lon=\"77.5950592\" timestamp=\"2013-10-30T05:16:40Z\" uid=\"634020\" user=\"user_634020\" version=\"32\" />\n\t\n<node changeset=\"18598983\" id=\"17327095\" lat=\"12.910516\" lon=\"77.5987265\" timestamp=\"2013-10-29T11:01:32Z\" uid=\"634020\" user=\"user_634020\" version=\"32\" />\n\t\n<node changeset=\"44678289\" id=\"17327106\" lat=\"12.9171587\" lon=\"77.5858225\" timestamp=\"2016-12-26T09:39:52Z\" uid=\"136860\" user=\"indigomc\" version=\"75\">\n\t\t<tag k=\"name\" v=\"Aurobindo Circle\" />\n\t\t<tag k=\"highway\" v=\"traffic_signals\" />\n\t\t<tag k=\"name:kn\" v=\"&#3205;&#3248;&#3253;&#3263;&#3202;&#3238; &#3253;&#3267;&#3236;&#3277;&#3236;\" />\n\t</node>\n\t\n<node changeset=\"833006\" id=\"17327139\" lat=\"12.9349712\" lon=\"77.624083\" timestamp=\"2009-03-19T17:09:30Z\" uid=\"35811\" user=\"Praveen\" version=\"29\" />\n\t\n<node changeset=\"8054691\" id=\"17327141\" lat=\"12.9384996\" lon=\"77.62914\" timestamp=\"2011-05-05T06:28:55Z\" uid=\"1306\" user=\"PlaneMad\" version=\"21\" />\n\t\n<node changeset=\"40811202\" id=\"17327147\" lat=\"12.9542527\" lon=\"77.6412143\" timestamp=\"2016-07-18T06:17:05Z\" uid=\"1306\" user=\"PlaneMad\" version=\"21\" />\n\t\n<node changeset=\"17785748\" id=\"17327417\" lat=\"13.1023158\" lon=\"77.5860665\" timestamp=\"2013-09-11T16:39:56Z\" uid=\"1319316\" user=\"Gururaja Upadhyaya\" version=\"10\">\n\t\t<tag k=\"name\" v=\"Escorts Yalahanka Road\" />\n\t\t<tag k=\"highway\" v=\"bus_stop\" />\n\t\t<tag k=\"local_ref\" v=\"YELAHANKA\" />\n\t</node>\n\t\n<node changeset=\"17796766\" id=\"17327420\" lat=\"13.0953189\" lon=\"77.594113\" timestamp=\"2013-09-12T10:15:59Z\" uid=\"1319316\" user=\"Gururaja Upadhyaya\" version=\"13\" />\n\t\n<node changeset=\"13687114\" id=\"17327429\" lat=\"12.993304\" lon=\"77.583961\" timestamp=\"2012-10-30T14:02:56Z\" uid=\"492742\" user=\"docaneesh\" version=\"4\" />\n\t\n<node changeset=\"10774531\" id=\"17327433\" lat=\"12.9859788\" lon=\"77.5792942\" timestamp=\"2012-02-24T03:18:15Z\" uid=\"492742\" user=\"docaneesh\" version=\"3\" />\n\t\n<node changeset=\"26587371\" id=\"26529519\" lat=\"12.9728616\" lon=\"77.6199745\" timestamp=\"2014-11-06T07:56:32Z\" uid=\"1765920\" user=\"Nagesh_Blr\" version=\"34\" />\n\t\n<node changeset=\"36923602\" id=\"26529522\" lat=\"12.9747225\" lon=\"77.6200056\" timestamp=\"2016-01-31T19:21:38Z\" uid=\"1306\" user=\"PlaneMad\" version=\"6\">\n\t\t<tag k=\"highway\" v=\"traffic_signals\" />\n\t</node>\n\t\n<node changeset=\"11157251\" id=\"26529524\" lat=\"12.9756821\" lon=\"77.6202334\" timestamp=\"2012-03-30T16:48:20Z\" uid=\"492742\" user=\"docaneesh\" version=\"6\" />\n\t\n<node changeset=\"28328106\" id=\"26529527\" lat=\"12.977516\" lon=\"77.6202505\" timestamp=\"2015-01-22T13:52:14Z\" uid=\"1306\" user=\"PlaneMad\" version=\"6\" />\n\t\n<node changeset=\"28328106\" id=\"26529529\" lat=\"12.9777544\" lon=\"77.6202616\" timestamp=\"2015-01-22T13:52:14Z\" uid=\"1306\" user=\"PlaneMad\" version=\"6\" />\n\t\n<node changeset=\"28328106\" id=\"26529530\" lat=\"12.9781844\" lon=\"77.6203816\" timestamp=\"2015-01-22T13:52:14Z\" uid=\"1306\" user=\"PlaneMad\" version=\"6\" />\n\t\n<node changeset=\"28328106\" id=\"26529532\" lat=\"12.9785543\" lon=\"77.6205594\" timestamp=\"2015-01-22T13:52:14Z\" uid=\"1306\" user=\"PlaneMad\" version=\"6\" />\n\t\n<node changeset=\"28328106\" id=\"26529533\" lat=\"12.9787415\" lon=\"77.6207572\" timestamp=\"2015-01-22T13:52:14Z\" uid=\"1306\" user=\"PlaneMad\" version=\"6\" />\n\t\n<node changeset=\"28328106\" id=\"26529540\" lat=\"12.9790607\" lon=\"77.6214838\" timestamp=\"2015-01-22T13:52:14Z\" uid=\"1306\" user=\"PlaneMad\" version=\"6\" />\n\t\n<node changeset=\"13194341\" id=\"26529541\" lat=\"12.9792653\" lon=\"77.6216327\" timestamp=\"2012-09-21T11:46:57Z\" uid=\"697874\" user=\"Sandeep Nayak\" version=\"5\" />\n\t\n<node changeset=\"13194341\" id=\"26529543\" lat=\"12.9795879\" lon=\"77.6217622\" timestamp=\"2012-09-21T11:46:57Z\" uid=\"697874\" user=\"Sandeep Nayak\" version=\"5\" />\n\t\n<node changeset=\"28328106\" id=\"26529548\" lat=\"12.9809441\" lon=\"77.6223667\" timestamp=\"2015-01-22T13:52:14Z\" uid=\"1306\" user=\"PlaneMad\" version=\"6\" />\n\t\n<node changeset=\"28328106\" id=\"26529550\" lat=\"12.9811382\" lon=\"77.6225525\" timestamp=\"2015-01-22T13:52:14Z\" uid=\"1306\" user=\"PlaneMad\" version=\"6\" />\n\t\n<node changeset=\"28328106\" id=\"26529551\" lat=\"12.9812828\" lon=\"77.6227574\" timestamp=\"2015-01-22T13:52:14Z\" uid=\"1306\" user=\"PlaneMad\" version=\"7\" />\n\t\n<node changeset=\"41382822\" id=\"26529553\" lat=\"12.9815241\" lon=\"77.6230894\" timestamp=\"2016-08-11T07:41:28Z\" uid=\"2905914\" user=\"pratikyadav\" version=\"11\">\n\t\t<tag k=\"highway\" v=\"traffic_signals\" />\n\t\t<tag k=\"crossing\" v=\"traffic_signals\" />\n\t</node>\n\t\n<node changeset=\"11157251\" id=\"26529555\" lat=\"12.9818405\" lon=\"77.6228721\" timestamp=\"2012-03-30T16:48:20Z\" uid=\"492742\" user=\"docaneesh\" version=\"3\" />\n\t\n<node changeset=\"48553475\" id=\"26529561\" lat=\"12.9835805\" lon=\"77.6224771\" timestamp=\"2017-05-10T07:26:42Z\" uid=\"2905914\" user=\"pratikyadav\" version=\"2\" />\n\t\n<node changeset=\"48553475\" id=\"26529563\" lat=\"12.9841518\" lon=\"77.6223995\" timestamp=\"2017-05-10T07:26:42Z\" uid=\"2905914\" user=\"pratikyadav\" version=\"2\" />\n\t\n<node changeset=\"235985\" id=\"26529567\" lat=\"12.9853617\" lon=\"77.6224175\" timestamp=\"2007-03-14T13:52:02Z\" uid=\"2179\" user=\"Scooter_DE\" version=\"1\">\n\t\t<tag k=\"created_by\" v=\"JOSM\" />\n\t</node>\n\t\n<node changeset=\"1702034\" id=\"26529574\" lat=\"12.9871884\" lon=\"77.6225171\" timestamp=\"2009-07-01T17:11:31Z\" uid=\"1306\" user=\"PlaneMad\" version=\"2\" />\n\t\n<node changeset=\"39834028\" id=\"26529577\" lat=\"12.9876878\" lon=\"77.6224421\" timestamp=\"2016-06-06T09:28:13Z\" uid=\"2905914\" user=\"pratikyadav\" version=\"6\" />\n\t\n<node changeset=\"39832355\" id=\"26529581\" lat=\"12.9874416\" lon=\"77.6203354\" timestamp=\"2016-06-06T07:56:57Z\" uid=\"2905914\" user=\"pratikyadav\" version=\"5\" />\n\t\n<node changeset=\"1740871\" id=\"26529582\" lat=\"12.9871566\" lon=\"77.6199311\" timestamp=\"2009-07-05T16:58:24Z\" uid=\"1306\" user=\"PlaneMad\" version=\"14\" />\n\t\n<node changeset=\"9944706\" id=\"26529584\" lat=\"12.9863647\" lon=\"77.6194617\" timestamp=\"2011-11-25T14:34:23Z\" uid=\"492742\" user=\"docaneesh\" version=\"12\" />\n\t\n<node changeset=\"12543709\" id=\"26529589\" lat=\"12.9814677\" lon=\"77.615623\" timestamp=\"2012-07-30T06:41:38Z\" uid=\"697960\" user=\"vkvora\" version=\"10\" />\n\t\n<node changeset=\"12543709\" id=\"26529594\" lat=\"12.9805282\" lon=\"77.6167291\" timestamp=\"2012-07-30T06:41:38Z\" uid=\"697960\" user=\"vkvora\" version=\"4\" />\n\t\n<node changeset=\"4703536\" id=\"26529600\" lat=\"12.9801694\" lon=\"77.6176429\" timestamp=\"2010-05-15T08:01:30Z\" uid=\"1306\" user=\"PlaneMad\" version=\"2\" />\n\t\n<node changeset=\"4703536\" id=\"26529602\" lat=\"12.9799479\" lon=\"77.6178704\" timestamp=\"2010-05-15T08:01:33Z\" uid=\"1306\" user=\"PlaneMad\" version=\"2\" />\n\t\n<node changeset=\"235985\" id=\"26529603\" lat=\"12.9794645\" lon=\"77.6181656\" timestamp=\"2007-03-14T13:56:35Z\" uid=\"2179\" user=\"Scooter_DE\" version=\"1\">\n\t\t<tag k=\"created_by\" v=\"JOSM\" />\n\t</node>\n\t\n<node changeset=\"235985\" id=\"26529605\" lat=\"12.9788773\" lon=\"77.6185105\" timestamp=\"2007-03-14T13:56:35Z\" uid=\"2179\" user=\"Scooter_DE\" version=\"1\">\n\t\t<tag k=\"created_by\" v=\"JOSM\" />\n\t</node>\n\t\n<node changeset=\"235985\" id=\"26529606\" lat=\"12.9780945\" lon=\"77.6189046\" timestamp=\"2007-03-14T13:56:35Z\" uid=\"2179\" user=\"Scooter_DE\" version=\"1\">\n\t\t<tag k=\"created_by\" v=\"JOSM\" />\n\t</node>\n\t\n<node changeset=\"235985\" id=\"26529608\" lat=\"12.9774298\" lon=\"77.6192608\" timestamp=\"2007-03-14T13:56:35Z\" uid=\"2179\" user=\"Scooter_DE\" version=\"1\">\n\t\t<tag k=\"created_by\" v=\"JOSM\" />\n\t</node>\n\t\n<node changeset=\"235985\" id=\"26529612\" lat=\"12.9770827\" lon=\"77.6198633\" timestamp=\"2007-03-14T13:56:35Z\" uid=\"2179\" user=\"Scooter_DE\" version=\"1\">\n\t\t<tag k=\"created_by\" v=\"JOSM\" />\n\t</node>\n\t\n<node changeset=\"235985\" id=\"26529613\" lat=\"12.9772673\" lon=\"77.6198595\" timestamp=\"2007-03-14T13:56:36Z\" uid=\"2179\" user=\"Scooter_DE\" version=\"1\">\n\t\t<tag k=\"created_by\" v=\"JOSM\" />\n\t</node>\n\t\n<node changeset=\"235985\" id=\"26529615\" lat=\"12.9775369\" lon=\"77.6198141\" timestamp=\"2007-03-14T13:56:36Z\" uid=\"2179\" user=\"Scooter_DE\" version=\"1\">\n\t\t<tag k=\"created_by\" v=\"JOSM\" />\n\t</node>\n\t\n<node changeset=\"235985\" id=\"26529616\" lat=\"12.9780169\" lon=\"77.619617\" timestamp=\"2007-03-14T13:56:36Z\" uid=\"2179\" user=\"Scooter_DE\" version=\"1\">\n\t\t<tag k=\"created_by\" v=\"JOSM\" />\n\t</node>\n\t\n<node changeset=\"235985\" id=\"26529620\" lat=\"12.9799593\" lon=\"77.6183513\" timestamp=\"2007-03-14T13:56:36Z\" uid=\"2179\" user=\"Scooter_DE\" version=\"1\">\n\t\t<tag k=\"created_by\" v=\"JOSM\" />\n\t</node>\n\t\n<node changeset=\"235985\" id=\"26529621\" lat=\"12.9804504\" lon=\"77.618033\" timestamp=\"2007-03-14T13:56:36Z\" uid=\"2179\" user=\"Scooter_DE\" version=\"1\">\n\t\t<tag k=\"created_by\" v=\"JOSM\" />\n\t</node>\n\t\n<node changeset=\"235985\" id=\"26529622\" lat=\"12.9807126\" lon=\"77.6177677\" timestamp=\"2007-03-14T13:56:36Z\" uid=\"2179\" user=\"Scooter_DE\" version=\"1\">\n\t\t<tag k=\"created_by\" v=\"JOSM\" />\n\t</node>\n\t\n<node changeset=\"235985\" id=\"26529623\" lat=\"12.9808566\" lon=\"77.6175138\" timestamp=\"2007-03-14T13:56:36Z\" uid=\"2179\" user=\"Scooter_DE\" version=\"1\">\n\t\t<tag k=\"created_by\" v=\"JOSM\" />\n\t</node>\n\t\n<node changeset=\"235985\" id=\"26529624\" lat=\"12.9809453\" lon=\"77.6171083\" timestamp=\"2007-03-14T13:56:36Z\" uid=\"2179\" user=\"Scooter_DE\" version=\"1\">\n\t\t<tag k=\"created_by\" v=\"JOSM\" />\n\t</node>\n\t\n<node changeset=\"235985\" id=\"26529625\" lat=\"12.981045\" lon=\"77.616646\" timestamp=\"2007-03-14T13:56:36Z\" uid=\"2179\" user=\"Scooter_DE\" version=\"1\">\n\t\t<tag k=\"created_by\" v=\"JOSM\" />\n\t</node>\n\t\n<node changeset=\"235985\" id=\"26529626\" lat=\"12.9811114\" lon=\"77.6164414\" timestamp=\"2007-03-14T13:56:37Z\" uid=\"2179\" user=\"Scooter_DE\" version=\"1\">\n\t\t<tag k=\"created_by\" v=\"JOSM\" />\n\t</node>\n\t\n<node changeset=\"235985\" id=\"26529627\" lat=\"12.9811742\" lon=\"77.6162898\" timestamp=\"2007-03-14T13:56:37Z\" uid=\"2179\" user=\"Scooter_DE\" version=\"1\">\n\t\t<tag k=\"created_by\" v=\"JOSM\" />\n\t</node>\n\t\n<node changeset=\"235985\" id=\"26529628\" lat=\"12.9813588\" lon=\"77.6161155\" timestamp=\"2007-03-14T13:56:37Z\" uid=\"2179\" user=\"Scooter_DE\" version=\"1\">\n\t\t<tag k=\"created_by\" v=\"JOSM\" />\n\t</node>\n\t\n<node changeset=\"28394049\" id=\"26529629\" lat=\"12.9814855\" lon=\"77.616058\" timestamp=\"2015-01-25T12:24:27Z\" uid=\"1306\" user=\"PlaneMad\" version=\"2\" />\n\t\n<node changeset=\"28394049\" id=\"26529630\" lat=\"12.9817024\" lon=\"77.6158354\" timestamp=\"2015-01-25T12:24:27Z\" uid=\"1306\" user=\"PlaneMad\" version=\"2\" />\n\t\n<node changeset=\"28394049\" id=\"26529631\" lat=\"12.9819167\" lon=\"77.6157817\" timestamp=\"2015-01-25T12:24:27Z\" uid=\"1306\" user=\"PlaneMad\" version=\"2\" />\n\t\n<node changeset=\"235985\" id=\"26529634\" lat=\"12.9826476\" lon=\"77.6159828\" timestamp=\"2007-03-14T13:56:37Z\" uid=\"2179\" user=\"Scooter_DE\" version=\"1\">\n\t\t<tag k=\"created_by\" v=\"JOSM\" />\n\t</node>\n\t\n<node changeset=\"28394049\" id=\"26529635\" lat=\"12.9827583\" lon=\"77.6160178\" timestamp=\"2015-01-25T12:24:27Z\" uid=\"1306\" user=\"PlaneMad\" version=\"2\" />\n\t\n<node changeset=\"28394049\" id=\"26529636\" lat=\"12.9828995\" lon=\"77.6161411\" timestamp=\"2015-01-25T12:24:27Z\" uid=\"1306\" user=\"PlaneMad\" version=\"2\" />\n\t\n<node changeset=\"28394049\" id=\"26529637\" lat=\"12.9832262\" lon=\"77.6167473\" timestamp=\"2015-01-25T12:24:27Z\" uid=\"1306\" user=\"PlaneMad\" version=\"2\" />\n\t\n<node changeset=\"28394049\" id=\"26529638\" lat=\"12.9834718\" lon=\"77.6171389\" timestamp=\"2015-01-25T12:24:27Z\" uid=\"1306\" user=\"PlaneMad\" version=\"2\" />\n\t\n<node changeset=\"28394049\" id=\"26529639\" lat=\"12.9835424\" lon=\"77.6172677\" timestamp=\"2015-01-25T12:24:27Z\" uid=\"1306\" user=\"PlaneMad\" version=\"2\" />\n\t\n<node changeset=\"235985\" id=\"26529640\" lat=\"12.9845641\" lon=\"77.61823\" timestamp=\"2007-03-14T13:56:38Z\" uid=\"2179\" user=\"Scooter_DE\" version=\"1\">\n\t\t<tag k=\"created_by\" v=\"JOSM\" />\n\t</node>\n\t\n<node changeset=\"235985\" id=\"26529641\" lat=\"12.9850958\" lon=\"77.6187454\" timestamp=\"2007-03-14T13:56:38Z\" uid=\"2179\" user=\"Scooter_DE\" version=\"1\">\n\t\t<tag k=\"created_by\" v=\"JOSM\" />\n\t</node>\n\t\n<node changeset=\"235985\" id=\"26529642\" lat=\"12.9855168\" lon=\"77.6191244\" timestamp=\"2007-03-14T13:56:38Z\" uid=\"2179\" user=\"Scooter_DE\" version=\"1\">\n\t\t<tag k=\"created_by\" v=\"JOSM\" />\n\t</node>\n\t\n<node changeset=\"235985\" id=\"26529643\" lat=\"12.9861224\" lon=\"77.6194957\" timestamp=\"2007-03-14T13:56:38Z\" uid=\"2179\" user=\"Scooter_DE\" version=\"1\">\n\t\t<tag k=\"created_by\" v=\"JOSM\" />\n\t</node>\n\t\n<node changeset=\"235985\" id=\"26529644\" lat=\"12.9864362\" lon=\"77.619689\" timestamp=\"2007-03-14T13:56:38Z\" uid=\"2179\" user=\"Scooter_DE\" version=\"1\">\n\t\t<tag k=\"created_by\" v=\"JOSM\" />\n\t</node>\n\t\n<node changeset=\"26587371\" id=\"26529645\" lat=\"12.9727374\" lon=\"77.6202548\" timestamp=\"2014-11-06T07:56:31Z\" uid=\"1765920\" user=\"Nagesh_Blr\" version=\"9\" />\n\t\n<node changeset=\"7767885\" id=\"26529654\" lat=\"12.9726672\" lon=\"77.6187063\" timestamp=\"2011-04-04T20:56:11Z\" uid=\"1306\" user=\"PlaneMad\" version=\"17\" />\n\t\n<node changeset=\"28861438\" id=\"26529655\" lat=\"12.9726312\" lon=\"77.6191886\" timestamp=\"2015-02-15T12:06:26Z\" uid=\"1306\" user=\"PlaneMad\" version=\"20\" />\n\t\n<node changeset=\"7707329\" id=\"26583024\" lat=\"12.9488058\" lon=\"77.6541221\" timestamp=\"2011-03-29T14:34:32Z\" uid=\"1306\" user=\"PlaneMad\" version=\"2\" />\n\t\n<node changeset=\"9601428\" id=\"26583025\" lat=\"12.9492724\" lon=\"77.6593306\" timestamp=\"2011-10-19T16:54:54Z\" uid=\"1306\" user=\"PlaneMad\" version=\"4\" />\n\t\n<node changeset=\"9601428\" id=\"26583026\" lat=\"12.9504419\" lon=\"77.6723849\" timestamp=\"2011-10-19T16:54:54Z\" uid=\"1306\" user=\"PlaneMad\" version=\"4\" />\n\t\n<node changeset=\"12623815\" id=\"26583027\" lat=\"12.9515215\" lon=\"77.6843349\" timestamp=\"2012-08-05T17:41:10Z\" uid=\"492742\" user=\"docaneesh\" version=\"2\" />\n\t\n<node changeset=\"43326007\" id=\"26609019\" lat=\"12.9480513\" lon=\"77.6707926\" timestamp=\"2016-11-01T13:30:20Z\" uid=\"1306\" user=\"PlaneMad\" version=\"11\" />\n\t\n<node changeset=\"33994798\" id=\"60952254\" lat=\"12.970884\" lon=\"77.6047644\" timestamp=\"2015-09-13T08:26:39Z\" uid=\"1306\" user=\"PlaneMad\" version=\"12\">\n\t\t<tag k=\"name\" v=\"Prof Ashirvadam Junction\" />\n\t\t<tag k=\"highway\" v=\"traffic_signals\" />\n\t\t<tag k=\"junction\" v=\"yes\" />\n\t</node>\n\t\n<node changeset=\"28780304\" id=\"60952256\" lat=\"12.9736793\" lon=\"77.6105912\" timestamp=\"2015-02-11T19:16:14Z\" uid=\"1306\" user=\"PlaneMad\" version=\"16\" />\n\t\n<node changeset=\"44358792\" id=\"60952260\" lat=\"12.9662604\" lon=\"77.6067163\" timestamp=\"2016-12-12T21:32:18Z\" uid=\"136860\" user=\"indigomc\" version=\"24\">\n\t\t<tag k=\"name\" v=\"Shoolay Circle\" />\n\t\t<tag k=\"highway\" v=\"traffic_signals\" />\n\t\t<tag k=\"name:kn\" v=\"&#3254;&#3266;&#3250;&#3270; &#3253;&#3267;&#3236;&#3277;&#3236;\" />\n\t\t<tag k=\"alt_name\" v=\"Vellara Junction\" />\n\t\t<tag k=\"junction\" v=\"yes\" />\n\t</node>\n\t\n<node changeset=\"6890076\" id=\"60952264\" lat=\"12.9698611\" lon=\"77.6029825\" timestamp=\"2011-01-07T08:15:25Z\" uid=\"392516\" user=\"venkatesh-Elintsys\" version=\"8\" />\n\t\n<node changeset=\"6890076\" id=\"60952268\" lat=\"12.9663767\" lon=\"77.5984039\" timestamp=\"2011-01-07T08:15:24Z\" uid=\"392516\" user=\"venkatesh-Elintsys\" version=\"10\" />\n\t\n<node changeset=\"31274949\" id=\"60952284\" lat=\"12.9659284\" lon=\"77.6049397\" timestamp=\"2015-05-19T06:59:30Z\" uid=\"2901517\" user=\"subhashini\" version=\"6\" />\n\t\n<node changeset=\"40626060\" id=\"60952286\" lat=\"12.9628455\" lon=\"77.6066907\" timestamp=\"2016-07-10T09:05:43Z\" uid=\"1765920\" user=\"Nagesh_Blr\" version=\"12\" />\n\t\n<node changeset=\"40626060\" id=\"60952288\" lat=\"12.9580248\" lon=\"77.6059822\" timestamp=\"2016-07-10T09:05:43Z\" uid=\"1765920\" user=\"Nagesh_Blr\" version=\"14\">\n\t\t<tag k=\"highway\" v=\"traffic_signals\" />\n\t\t<tag k=\"crossing\" v=\"traffic_signals\" />\n\t</node>\n\t\n<node changeset=\"141220\" id=\"60952290\" lat=\"12.9585854\" lon=\"77.604602\" timestamp=\"2008-02-17T12:31:30Z\" uid=\"587\" user=\"jace\" version=\"2\">\n\t\t<tag k=\"created_by\" v=\"JOSM\" />\n\t</node>\n\t\n<node changeset=\"141220\" id=\"60952292\" lat=\"12.959392\" lon=\"77.6035411\" timestamp=\"2008-02-17T12:31:35Z\" uid=\"587\" user=\"jace\" version=\"2\">\n\t\t<tag k=\"created_by\" v=\"JOSM\" />\n\t</node>\n\t\n<node changeset=\"20826266\" id=\"60952294\" lat=\"12.9599445\" lon=\"77.6018839\" timestamp=\"2014-02-28T12:32:45Z\" uid=\"83660\" user=\"Ashish Vijayaram\" version=\"6\">\n\t\t<tag k=\"highway\" v=\"traffic_signals\" />\n\t</node>\n\t\n<node changeset=\"18061403\" id=\"60952298\" lat=\"12.9583662\" lon=\"77.602182\" timestamp=\"2013-09-27T13:06:47Z\" uid=\"634020\" user=\"user_634020\" version=\"6\" />\n\t\n<node changeset=\"28355018\" id=\"60952300\" lat=\"12.9559538\" lon=\"77.6013684\" timestamp=\"2015-01-23T17:38:50Z\" uid=\"1306\" user=\"PlaneMad\" version=\"8\" />\n\t\n<node changeset=\"40626060\" id=\"60952302\" lat=\"12.9548955\" lon=\"77.6053905\" timestamp=\"2016-07-10T09:05:44Z\" uid=\"1765920\" user=\"Nagesh_Blr\" version=\"15\" />\n\t\n<node changeset=\"28917291\" id=\"60952479\" lat=\"12.9705497\" lon=\"77.6102757\" timestamp=\"2015-02-17T19:38:01Z\" uid=\"1306\" user=\"PlaneMad\" version=\"8\" />\n<node changeset=\"33994798\" id=\"61746200\" lat=\"12.9398915\" lon=\"77.6254372\" timestamp=\"2015-09-13T08:26:42Z\" uid=\"1306\" user=\"PlaneMad\" version=\"19\" />\n\t\n<node changeset=\"16365718\" id=\"61746203\" lat=\"12.9409155\" lon=\"77.6276761\" timestamp=\"2013-05-31T14:03:43Z\" uid=\"642345\" user=\"Krishnan Dasan\" version=\"4\" />\n\t\n<node changeset=\"16361202\" id=\"61746204\" lat=\"12.9403319\" lon=\"77.6277554\" timestamp=\"2013-05-31T07:30:36Z\" uid=\"642345\" user=\"Krishnan Dasan\" version=\"2\" />\n\t\n<node changeset=\"16361202\" id=\"61746206\" lat=\"12.9404292\" lon=\"77.6283275\" timestamp=\"2013-05-31T07:30:36Z\" uid=\"642345\" user=\"Krishnan Dasan\" version=\"3\" />\n\t\n<node changeset=\"16361202\" id=\"61746207\" lat=\"12.9401373\" lon=\"77.6283788\" timestamp=\"2013-05-31T07:30:36Z\" uid=\"642345\" user=\"Krishnan Dasan\" version=\"5\" />\n\t\n<node changeset=\"16361202\" id=\"61746209\" lat=\"12.9401794\" lon=\"77.6286864\" timestamp=\"2013-05-31T07:30:36Z\" uid=\"642345\" user=\"Krishnan Dasan\" version=\"4\" />\n\t\n<node changeset=\"33994798\" id=\"61746217\" lat=\"12.9425358\" lon=\"77.6227616\" timestamp=\"2015-09-13T08:26:42Z\" uid=\"1306\" user=\"PlaneMad\" version=\"38\">\n\t\t<tag k=\"highway\" v=\"traffic_signals\" />\n\t</node>\n\t\n<node changeset=\"33994798\" id=\"61746218\" lat=\"12.9460158\" lon=\"77.6186488\" timestamp=\"2015-09-13T08:26:42Z\" uid=\"1306\" user=\"PlaneMad\" version=\"23\" />\n\t\n"
     ]
    }
   ],
   "source": [
    "#Print a sample of the OSM File\n",
    "#Code sample based on Quiz of Data Wrangling using MongoDB\n",
    "\n",
    "# Print a sample of the file. Here I am printing the first 100 elements\n",
    "\n",
    "OSM_FILE = osm_file  # Replace this with your osm file\n",
    "SAMPLE_FILE = \"sample.osm\"\n",
    "\n",
    "k = 100 # Parameter: print the first k elements (or every kth element)\n",
    "\n",
    "def get_element(osm_file, tags=('node', 'way', 'relation')):\n",
    "    \"\"\"Yield element if it is the right type of tag\n",
    "\n",
    "    Reference:\n",
    "    http://stackoverflow.com/questions/3095434/inserting-newlines-in-xml-file-generated-via-xml-etree-elementtree-in-python\n",
    "    \"\"\"\n",
    "    context = iter(ET.iterparse(osm_file, events=('start', 'end')))\n",
    "    _, root = next(context)\n",
    "    for event, elem in context:\n",
    "        if event == 'end' and elem.tag in tags:\n",
    "            yield elem\n",
    "            root.clear()\n",
    "\n",
    "\n",
    "# print the first  k top level elements\n",
    "for i, element in enumerate(get_element(OSM_FILE)):\n",
    "    if i <= k:\n",
    "        print ET.tostring(element)\n",
    "'''\n",
    "# or print every  kth top level elements\n",
    "for i, element in enumerate(get_element(OSM_FILE)):\n",
    "    if i % k == 0:\n",
    "        print ET.tostring(element)\n",
    "'''\n",
    "# Also writing the sample file to view it in Sublime text\n",
    "with open(SAMPLE_FILE, 'wb') as output:\n",
    "    output.write('<?xml version=\"1.0\" encoding=\"UTF-8\"?>\\n')\n",
    "    output.write('<osm>\\n  ')\n",
    "\n",
    "    # Write every kth top level element\n",
    "    for i, element in enumerate(get_element(OSM_FILE)):\n",
    "        if i % k == 0:\n",
    "            output.write(ET.tostring(element, encoding='utf-8'))\n",
    "\n",
    "    output.write('</osm>')"
   ]
  },
  {
   "cell_type": "heading",
   "metadata": {},
   "level": 3,
   "source": [
    "2.3 Getting any Problem Chars in K, V pairs"
   ]
  },
  {
   "cell_type": "markdown",
   "metadata": {},
   "source": [
    "We will iterate over all the data, and for any K, V we will check if the value has only lower, or lower with a : or any other characters. This will help us determine if any data cleansing is required for this data\n",
    "\n",
    "We will take a count of this, which we will display below"
   ]
  },
  {
   "cell_type": "markdown",
   "metadata": {},
   "source": [
    "import re\n",
    "\n",
    "lower = re.compile(r'^([a-z]|_)*$')\n",
    "lower_colon = re.compile(r'^([a-z]|_)*:([a-z]|_)*$')\n",
    "problemchars = re.compile(r'[=\\+/&<>;\\'\"\\?%#$@\\,\\. \\t\\r\\n]')\n",
    "\n",
    "def key_type(element, keys):\n",
    "    if element.tag == 'tag':\n",
    "        for val in element.iter('tag'):\n",
    "            k = element.get('k')\n",
    "            #search for the \"lower\"\n",
    "            if lower.search(k):\n",
    "                keys['lower'] += 1\n",
    "            elif lower_colon.search(k):\n",
    "                keys['lower_colon'] += 1\n",
    "            elif problemchars.search(k):\n",
    "                keys['problemchars'] += 1\n",
    "            else:\n",
    "                keys['other'] += 1\n",
    "    return keys\n",
    "\n",
    "def process_map(filename):\n",
    "    keys = {\"lower\": 0, \"lower_colon\": 0, \"problemchars\": 0, \"other\": 0}\n",
    "    for _, element in ET.iterparse(filename):\n",
    "        keys = key_type(element, keys)\n",
    "\n",
    "    return keys"
   ]
  },
  {
   "cell_type": "code",
   "execution_count": 34,
   "metadata": {},
   "outputs": [],
   "source": [
    "import re\n",
    "\n",
    "lower = re.compile(r'^([a-z]|_)*$')\n",
    "lower_colon = re.compile(r'^([a-z]|_)*:([a-z]|_)*$')\n",
    "problemchars = re.compile(r'[=\\+/&<>;\\'\"\\?%#$@\\,\\. \\t\\r\\n]')\n",
    "\n",
    "def key_type(element, keys):\n",
    "    if element.tag == 'tag':\n",
    "        for val in element.iter('tag'):\n",
    "            k = element.get('k')\n",
    "            #search for the \"lower\"\n",
    "            if lower.search(k):\n",
    "                keys['lower'] += 1\n",
    "            elif lower_colon.search(k):\n",
    "                keys['lower_colon'] += 1\n",
    "            elif problemchars.search(k):\n",
    "                keys['problemchars'] += 1\n",
    "            else:\n",
    "                keys['other'] += 1\n",
    "    return keys\n",
    "\n",
    "def process_map(filename):\n",
    "    keys = {\"lower\": 0, \"lower_colon\": 0, \"problemchars\": 0, \"other\": 0}\n",
    "    for _, element in ET.iterparse(filename):\n",
    "        keys = key_type(element, keys)\n",
    "\n",
    "    return keys"
   ]
  },
  {
   "cell_type": "code",
   "execution_count": 36,
   "metadata": {},
   "outputs": [
    {
     "name": "stdout",
     "output_type": "stream",
     "text": [
      "{'lower': 775936, 'lower_colon': 38880, 'other': 1123, 'problemchars': 2}\n"
     ]
    }
   ],
   "source": [
    "sc_tag_category = process_map(osm_file)\n",
    "pprint.pprint(sc_tag_category)"
   ]
  },
  {
   "cell_type": "heading",
   "metadata": {},
   "level": 3,
   "source": [
    "2.4 Count of Users"
   ]
  },
  {
   "cell_type": "markdown",
   "metadata": {},
   "source": [
    "We will get a count of the users, who have updated. This will give us an idea, of how active this section is, and how much variation we can expect on the data."
   ]
  },
  {
   "cell_type": "code",
   "execution_count": 39,
   "metadata": {},
   "outputs": [
    {
     "data": {
      "text/plain": [
       "1948"
      ]
     },
     "execution_count": 39,
     "metadata": {},
     "output_type": "execute_result"
    }
   ],
   "source": [
    "# this function will tell us how many unique users have already contributed to the map data\n",
    "\n",
    "def get_user(element):\n",
    "    if element.get('uid'):\n",
    "        uid = element.attrib['uid']\n",
    "        return uid\n",
    "    else:\n",
    "        return None\n",
    "    \n",
    "    \n",
    "\n",
    "def process_map(filename):\n",
    "    users = set()\n",
    "    for _, element in ET.iterparse(filename):\n",
    "        if get_user(element):\n",
    "            users.add(get_user(element))\n",
    "\n",
    "    return users\n",
    "\n",
    "contributing_users = process_map(osm_file)\n",
    "len(contributing_users)"
   ]
  },
  {
   "cell_type": "markdown",
   "metadata": {},
   "source": [
    "So 1948 users have contributed to the map data. This is a good number to start."
   ]
  },
  {
   "cell_type": "heading",
   "metadata": {},
   "level": 2,
   "source": [
    "Step 3: Data Cleansing"
   ]
  },
  {
   "cell_type": "heading",
   "metadata": {},
   "level": 3,
   "source": [
    "3.1 Eliminating Variation in Street Names\n",
    "\n"
   ]
  },
  {
   "cell_type": "markdown",
   "metadata": {},
   "source": [
    "This is local data set, from the Asia Region. So the standard correction algorithm will not work. First we will find the various street names, based on this we will decide the approach to eliminate variation."
   ]
  },
  {
   "cell_type": "code",
   "execution_count": 64,
   "metadata": {
    "collapsed": false
   },
   "outputs": [
    {
     "data": {
      "text/plain": [
       "['wipro',\n 'Shankarapura',\n 'Station',\n 'Dasarahalli,',\n 'Kodihalli',\n 'Nallurhalli',\n 'Kodandarampura',\n 'Chelekare',\n '560100\"',\n 'singasandra,hsrlayout',\n 'Day',\n 'Retreat',\n 'road',\n 'Munnekollal',\n 'Bellandu',\n 'Thubarahalli',\n 'Yemalur,',\n u'Road,,\\xa0Koramangala,\\xa0Koramangala\\xa06th\\xa0Block',\n u'Cit',\n 'Block,Rajajinagar,',\n 'banglore',\n 'Entrance)',\n 'Yamlur,Bellandur',\n 'school',\n 'Jewellery',\n 'Karnatak',\n 'Vyalikaval',\n 'School,',\n u'Stage,\\xa0Rajajinagar',\n 'Vijayanagar',\n 'Vidyaranyapura',\n 'Sadashivanagar',\n 'MEDARAHALLI',\n 'indranagar',\n '560078\"',\n 'Yelahanka,,',\n 'Agrahara,',\n 'Palya,',\n 'street',\n 'kik',\n 'Circle',\n 'East',\n 'K.R.Puram',\n 'Entrance',\n 'abc',\n 'Theatre',\n 'local_knowledge',\n 'cross,bellandur',\n 'Main)',\n 'Cross,',\n 'seegehalli',\n 'layout,mathikere',\n 'Cross)',\n '560032',\n 'Mahadevapura,',\n 'Kalyannagar,',\n '560066',\n 'Madivala,',\n 'Guddadahalli',\n 'Retreat,',\n 'Hegondanahalli',\n 'Tippasandra',\n '100',\n 'Bridge',\n 'Brookefield,',\n 'Road,Shivajinagar',\n 'Peenya',\n 'cross,',\n 'Hsr3',\n 'Hsr2',\n 'Hood',\n 'Indiranaga',\n 'Home',\n 'Circle)',\n 'Akshayanagar',\n 'Hosakote.',\n 'RAMAGONDANAHALLI',\n 'Area,Whitefield',\n 'Architektur',\n 'Rajajinagar',\n 'Magnolia',\n 'Chikpete,',\n 'road,kempapura,bellandur,',\n 'Kundalahalli,',\n 'Banasawadi',\n 'Peenya,',\n 'Padmanabhanagar',\n 'road,Seetharampalya',\n 'Labs',\n 'Madiwala',\n 'Marathahalli',\n 'bellandur',\n 'Colony)',\n 'AYYAPPANAGAR',\n 'Stag',\n 'Main,Malleshwaram',\n '6',\n 'Office,Reddypalya',\n 'Lane',\n 'sultanpet,',\n 'Chennai,',\n 'woods,bellandur',\n 'St',\n 'halasuru',\n 'Chikkakannalli',\n 'IBBALURU',\n 'Seshadripuram',\n 'Area,whitefield',\n 'Ejipura,',\n 'extension',\n '560003',\n u'Layout,\\xa0Nagarbhavi,',\n 'Subramanyanagar,2',\n 'raod',\n 'Ground',\n 'EPIP,Area,Whitefield',\n 'Road,Marathahalli',\n 'Chamrajpet,',\n 'Regent',\n 'Challaghatta',\n 'Indiranagar',\n 'Adugodi',\n 'Varthur',\n 'Attiguppe',\n 'bhagini',\n 'block,rajajinagar',\n 'Koil',\n 'jayanagar',\n '1',\n 'Village,Kodigehalli,',\n 'Kaikondrahalli',\n 'galli',\n 'gate',\n 'mahdevpura',\n 'bharathnagar',\n 'Cross,Malleshwaram',\n 'farm',\n 'Koramangala,',\n 'dattatreyanagar',\n 'NH4',\n 'NH7',\n 'Yeshwanthpur',\n u'Rajajinaga',\n 'Challaghatta,Yemlur-Post',\n 'Lingarajapuram',\n 'Sheshadripuram',\n 'Benniganahalli',\n '18th',\n 'Kaggadasapura',\n 'Rajajinagar,',\n 'Thyvakanahally',\n 'lavelle',\n '560080\"',\n 'Extension,',\n 'Bellandur',\n 'Rd',\n 'Cross,Banashankari',\n 'Showroom',\n 'Area,whitefeild',\n 'Brookfield',\n 'Urban',\n 'Kamaksipalya',\n 'Phase,',\n 'Suburb',\n 'Indiranagar,',\n '2,',\n 'Hennur',\n 'main',\n 'Sevanagar,',\n 'ROAD',\n 'Ambalipura',\n 'mall,bellandur',\n 'junction',\n 'No.16',\n 'kadubessanahalli',\n 'Road,,',\n 'Arekempenahally',\n 'Road,Kempapura,Bellandur',\n 'P.O',\n 'Basavangudi,',\n 'Road,Karnataka',\n 'bank',\n 'AREA,Whitefield',\n 'devarbisanahallibanglore',\n 'Habitat',\n 'India',\n 'murugeshapallya',\n 'NAGAR',\n 'Koramangala',\n 'Mangammanapalya',\n 'Harlur',\n 'Jayanagar',\n 'road,bellandur',\n 'extn',\n 'ROad',\n 'Hoodi',\n 'Stage,',\n 'Zone',\n 'Hobli',\n 'Sarjapur',\n 'vijayanagar',\n 'road,kempapur,bellandur',\n 'Chikkammanahalli',\n 'Complex',\n 'Dommasandra',\n 'road,kempapura,bellandur',\n 'Malleswaram',\n 'out',\n 'Junction',\n 'Koramangala,Karnataka',\n 'Puram',\n 'Kadabeesanahalli,,',\n 'Bengaluru,',\n 'Halasuru',\n 'Deevarabeesanahalli',\n 'Ward',\n 'Jogupalya',\n 'Coral',\n 'Stage',\n 'Town',\n 'Extension',\n 'malleshwaram',\n 'halli',\n 'Mall',\n 'T.B.road',\n 'Doddakannelli',\n 'POST',\n 'Block',\n 'Kammanahalli,',\n u'Complex,\\xa0Marathahalli',\n 'kampapura,bellandur',\n 'Byrathi',\n '560053',\n 'Malleshpalya',\n u'560058',\n 'Apt',\n 'Whitefield',\n 'Yelenahalli,',\n 'BTM',\n 'Challaghatt',\n 'Thanisandra',\n 'Halli',\n 'Meganahalli,',\n 'Zuri)',\n 'Chikkalasandra',\n 'feet',\n 'Sheshadripuram,',\n 'Bengaluru',\n 'Sevanagar',\n 'Layout)',\n 'rajajinagar',\n 'Doddakannelli,',\n 'Layout,',\n 'Kadugondanahalli,',\n '2',\n 'Press',\n 'Post',\n 'gudahalli',\n 'B',\n 'Jeevanahalli',\n 'Marathallai',\n 'park',\n 'Horamavu',\n 'road,banashankari',\n 'Bridge)',\n 'Road',\n 'Jayamahal',\n 'Sector',\n 'Karnataka',\n 'Chickpet',\n 'Plantation,',\n 'Guttahalli,',\n 'Oldtown',\n 'kattigenahalli',\n 'Girinagar',\n 'Ulsoor,',\n 'Someshwarpura',\n '1,',\n 'Ramchandrapuram',\n 'Floor',\n 'Road,Rajajinagar',\n u'Road,\\xa0Vijayanaga',\n 'Devarabeesanahalli',\n 'Hunesamaranahalli',\n 'btm',\n 'Mahadevapura',\n 'Main',\n 'Taluk',\n 'Tharagupet',\n 'Theatre,Rajajinaga',\n 'kormangala',\n 'Basavanagudi',\n 'Bank',\n 'Avalahalli',\n 'Doddanekundi',\n 'Malleshwaram,',\n 'Whitefield,',\n 'main,Marathahalli',\n 'Kadubeesanahalli,',\n 'Munnekollal,Karnataka',\n 'phase',\n 'Rayasandra',\n 'Road,Banashankari',\n u'City,',\n '560093',\n 'Micolayout',\n 'Nagwara',\n 'Village,',\n 'sector',\n 'Srinivaspura',\n 'Krishnarajapuram',\n 'Yemlur',\n 'Kaikondrahalli,',\n 'Gate',\n 'Main,HSR',\n 'laboratories,bellandur',\n 'Marathalli',\n 'Junnasandra',\n 'layout',\n 'Hongasandra',\n 'Kammanahalli',\n 'Chickpet,',\n 'Hanumagiri',\n 'Nagar,',\n 'Hobli,',\n 'Mahadevpura,',\n 'HSR',\n 'Arekere',\n 'Valley,',\n 'Basavanagud',\n 'Homes',\n 'Subramanyanagar',\n 'HAL',\n 'Hulimavu,',\n 'nagar,',\n 'Marathahalli,',\n 'Vijayanagar,',\n 'Hosakerehalli',\n 'Iblur',\n 'SECTOR,HSRLAYOUT',\n 'Area,',\n 'Domlu',\n 'Seshadripuram,',\n 'Nagara',\n 'Singasandra',\n 'Domalur',\n 'Koamangala',\n 'Quarters',\n 'Bengalur',\n u'Munnekollal,\\xa0Marathahalli',\n 'karnataka',\n 'Area',\n 'Hospital',\n 'outerring,bellandur',\n 'whitefield',\n 'girinagar',\n 'Sanjaynagar',\n 'Complex,',\n 'Mallathahalli',\n '02',\n 'Challaghatta,',\n 'Road)',\n '560094\"',\n 'Course)',\n 'Road,',\n 'Banashankari',\n 'Park',\n 'Krishnarajapuram,',\n 'Bangalore',\n 'HAL,',\n 'Be',\n 'Bommanahalli,',\n 'Rd,Kadukodi',\n 'Veedhi',\n u'4,\\xa0HSR\\xa0Layout',\n 'Multiplex)',\n 'Vinayakanagar',\n 'P)',\n u'Cross,\\xa0Malleshwaram',\n 'Koppa',\n 'Grounds',\n 'Madivala',\n 'Doddathoguru',\n 'Layout,Whitefiels',\n u'Kachamaranahalli',\n 'Sunkadakatte',\n 'Basavangudi',\n 'phase,',\n 'bridge',\n 'Hebbal',\n '03',\n 'Domlur',\n 'colony',\n 'lake',\n 'Varthur,',\n 'Bazar',\n 'village',\n 'Temple',\n 'Hotel,',\n 'Marathahall',\n 'Bommanahall',\n 'Basaveshwaranagar',\n 'CHEMICALS',\n 'Malleshwaram',\n 'bengaluru',\n 'Marathahalli,Karnataka',\n 'Care',\n '2585',\n 'Munekollal',\n 'Cisco,',\n 'Gollarahatti',\n 'Flyover',\n u'Road,\\xa0Marathahalli',\n 'Nyanappanahalli',\n 'Kodihalli,',\n 'hotel,rajajinagar',\n 'Marathalli,',\n 'Seetharampalya',\n 'Murgeshpalya',\n u'Road,\\xa0Rajajinaga',\n 'Workshop',\n 'College',\n 'Block,',\n 'Avenue',\n 'Market',\n 'City',\n 'Bellandur\\\\',\n 'Bhattarahalli,',\n 'Banashankari,',\n '35',\n 'Banswadi',\n 'Expressway',\n 'Devarabisanahalli',\n 'Depot',\n 'Garden',\n 'Addevishwanathapura',\n 'INDIA',\n 'cross',\n 'KORAMANGALA',\n 'Dasarahalli',\n 'Area,Whitefeld',\n 'Gate)',\n 'Gate,',\n 'Ejipura',\n 'Signal',\n 'puttenahalli',\n 'Kadugodi',\n 'II',\n 'Mahadevpura',\n 'Main,malleshwaram',\n 'Arekere,',\n 'Residency',\n 'Devarabisanahalli,',\n 'Goraguntepalya',\n 'Raod',\n 'Kasavanahalli',\n 'Area,Whitefiled',\n 'Bilekahalli',\n 'Bakery',\n 'Sanjaynaga',\n 'Bellandur,',\n 'Yeshwanthpur,',\n 'Kalasipalayam',\n 'area,whitefield',\n 'Bangalore-66',\n 'Kempapura',\n 'Kammanahall',\n 'compound',\n '560087',\n '560086',\n 'Garebhavipalya',\n 'Kempapura,bellandur',\n 'Kodigehalli',\n 'Jayanagara',\n 'Brookefield',\n 'R.T.Nagar',\n 'Gas',\n 'ATM,Indiranagar',\n 'mahadevapura',\n '4',\n 'kodihalli',\n 'Chamarajpet',\n 'Sadduguntepalya',\n 'east',\n 'Chokkanahalli',\n 'layout,bellandur',\n 'Jayanagar,',\n 'T',\n 'Stage-Indiranagar,',\n 'yemallure,bellandur',\n 'EPIP,Whitefield',\n 'area,Whitefield',\n 'Devarabeesanahalli,',\n 'Road,Malleshwaram',\n 'Colony',\n 'Nagar',\n 'Spandhana,challaghata',\n 'Post,',\n 'Pallya,',\n 'Naga',\n u'560038\\xa0(',\n 'MAIN',\n 'Basaveshwarnagar',\n 'Yelahanka,',\n 'Hebbal,',\n 'Marg',\n 'Ganganagar',\n 'West',\n 'ibbalur',\n 'nagar',\n 'Suryanagar',\n 'cross,someshwarnagar',\n 'Showroom)',\n 'International',\n 'Rd.',\n 'Palms',\n 'Munekolala',\n 'Meadows',\n 'Palya',\n 'Karnikaram',\n 'Belandur,',\n 'temple',\n 'banglora',\n 'Mathikere',\n 'School',\n 'Chansandra',\n 'Battarahalli',\n 'Drive',\n '048',\n 'bangalore',\n 'Medicals',\n 'stage',\n 'Dattatreyanagar',\n 'Doddanakundi',\n 'Cubbonpet,',\n 'Roa',\n 'Kengeri',\n 'OMBR',\n 'Kadugodi,',\n 'Town,',\n 'block',\n 'Jalahalli',\n u'560058.',\n 'Jeevanbheemanagar',\n 'Kalamandir',\n 'Kundalahalli',\n 'Banaswadi',\n 'Apartments,',\n 'havernce',\n 'Ecospace,',\n 'Jeevanbheemanagar,',\n 'area',\n 'Street,Shivajinagar',\n 'Hotel',\n 'Gottigere',\n 'Byrasandra,',\n 'Street,',\n 'bangalore-87',\n 'Shivajinagar',\n '560040\"',\n 'temple,yemallur',\n 'Ulsoor',\n 'road)',\n 'Talkies',\n 'road,',\n 'kaikondrahalli',\n 'belandur,',\n 'Paradigm',\n 'Office',\n 'EPIP',\n 'Jaya',\n 'Bommanahalli',\n 'Engineering',\n 'Majestic,',\n 'End)',\n 'Hulimavu',\n u'Road,\\xa0Malleshwaram',\n 'SECTOR',\n 'Vista',\n 'Layout',\n 'Sadashivnagar',\n 'Talaghattapura',\n 'Estate,',\n 'Cross',\n 'MALL)',\n 'koramangala',\n 'Rd,',\n 'mainroad',\n 'Chandapura',\n 'Chamarajpet,',\n 'ENCLAVE',\n '44',\n 'G.K.V.K',\n 'digital',\n 'Phase',\n 'Export',\n 'Yemalur',\n 'Bazaar',\n 'block,Koramangala',\n 'Agrahara',\n 'Layou',\n 'Layout,.',\n 'Gardens',\n 'Road,Whitefield',\n 'LAYOUT',\n 'Estate',\n 'hobli',\n 'Street',\n 'Crescent',\n 'Kempapura,Bellandur',\n 'Village',\n u'Shivanagar,\\xa0Rajajinagar',\n 'BANGALORE',\n '919739786600',\n 'RTO']"
      ]
     },
     "execution_count": 64,
     "metadata": {},
     "output_type": "execute_result"
    }
   ],
   "source": [
    "from collections import defaultdict\n",
    "street_type_re = re.compile(r'\\b\\S+\\.?$', re.IGNORECASE)\n",
    "street_types = {}\n",
    "\n",
    "def is_street_name(elem):\n",
    "    return (elem.attrib['k'] == \"addr:street\")\n",
    "\n",
    "def audit(osmfile):\n",
    "    osm_file = open(osmfile, \"r\")\n",
    "    street_types = defaultdict(set)\n",
    "    for event, elem in ET.iterparse(osm_file, events=(\"start\",)):\n",
    "\n",
    "        if elem.tag == \"node\" or elem.tag == \"way\":\n",
    "            for tag in elem.iter(\"tag\"):\n",
    "                if is_street_name(tag):\n",
    "                    value = tag.attrib['v']\n",
    "                    m = street_type_re.search(value)\n",
    "                    if m:\n",
    "                        street_type = m.group()\n",
    "                        street_types[street_type].add(value)\n",
    "                        \n",
    "\n",
    "    return street_types\n",
    "\n",
    "street_types = audit(osm_file)\n",
    "street_types.keys()"
   ]
  },
  {
   "cell_type": "markdown",
   "metadata": {},
   "source": [
    "The Structure is pretty clean. However a few corrections are in order \n",
    "\n",
    "1. Rd. -> Road\n",
    "2. 'Area,whitefield -> Area, Whitefield\n",
    "3. Remove State, and City (Bangalore and Karnataka from the Address)\n"
   ]
  },
  {
   "cell_type": "code",
   "execution_count": null,
   "metadata": {},
   "outputs": [],
   "source": [
    "expected"
   ]
  }
 ],
 "metadata": {
  "kernelspec": {
   "display_name": "Python 2",
   "language": "python",
   "name": "python2"
  },
  "language_info": {
   "codemirror_mode": {
    "name": "ipython",
    "version": 2.0
   },
   "file_extension": ".py",
   "mimetype": "text/x-python",
   "name": "python",
   "nbconvert_exporter": "python",
   "pygments_lexer": "ipython2",
   "version": "2.7.6"
  }
 },
 "nbformat": 4,
 "nbformat_minor": 0
}